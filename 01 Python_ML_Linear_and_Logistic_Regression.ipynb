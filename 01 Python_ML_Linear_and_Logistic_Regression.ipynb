{
 "cells": [
  {
   "cell_type": "markdown",
   "metadata": {},
   "source": [
    "# Andres_Oliden's_Final_Project\n",
    "\n",
    "# 10 Decemeber 2019\n",
    "\n",
    "\n",
    "### Brief Overview\n",
    "\n",
    "- I will be analyzing a dataset from the 2016 Baseball Season about different aspects from each game.\n",
    "\n",
    "\n",
    "- Goal 1\n",
    "    - My first goal is to fit a linear regression to the data to see if there is any correlation with fan attendance per games and the weather during the game\n",
    "\n",
    "\n",
    "- Goal 2\n",
    "    - My second goal is to fit a logisitic regression to the data to see I am able to predict if the Home Team wins\n",
    "    \n",
    "    \n",
    "   "
   ]
  },
  {
   "cell_type": "markdown",
   "metadata": {},
   "source": [
    "### The first step is to import my dataset from my csv file and turn into a Panda Dataframe. At the same time I am also loading all packages that I will need throughout this page."
   ]
  },
  {
   "cell_type": "code",
   "execution_count": 1,
   "metadata": {
    "scrolled": true
   },
   "outputs": [],
   "source": [
    "import numpy as np\n",
    "import pandas as pd\n",
    "import numpy as np\n",
    "from sklearn import datasets, linear_model, svm, preprocessing\n",
    "from sklearn.model_selection import train_test_split\n",
    "from matplotlib import pyplot as plt\n",
    "from sklearn.model_selection import train_test_split\n",
    "import seaborn as sns\n",
    "sns.set(style=\"white\")\n",
    "sns.set(style=\"whitegrid\", color_codes=True)\n",
    "%matplotlib inline\n",
    "\n",
    "data = pd.read_csv(\"baseball_reference_2016.csv\")"
   ]
  },
  {
   "cell_type": "code",
   "execution_count": 2,
   "metadata": {},
   "outputs": [
    {
     "data": {
      "text/html": [
       "<div>\n",
       "<style scoped>\n",
       "    .dataframe tbody tr th:only-of-type {\n",
       "        vertical-align: middle;\n",
       "    }\n",
       "\n",
       "    .dataframe tbody tr th {\n",
       "        vertical-align: top;\n",
       "    }\n",
       "\n",
       "    .dataframe thead th {\n",
       "        text-align: right;\n",
       "    }\n",
       "</style>\n",
       "<table border=\"1\" class=\"dataframe\">\n",
       "  <thead>\n",
       "    <tr style=\"text-align: right;\">\n",
       "      <th></th>\n",
       "      <th>Unnamed: 0</th>\n",
       "      <th>attendance</th>\n",
       "      <th>away_team</th>\n",
       "      <th>away_team_errors</th>\n",
       "      <th>away_team_hits</th>\n",
       "      <th>away_team_runs</th>\n",
       "      <th>date</th>\n",
       "      <th>field_type</th>\n",
       "      <th>game_type</th>\n",
       "      <th>home_team</th>\n",
       "      <th>...</th>\n",
       "      <th>temperature</th>\n",
       "      <th>wind_speed</th>\n",
       "      <th>wind_direction</th>\n",
       "      <th>sky</th>\n",
       "      <th>total_runs</th>\n",
       "      <th>game_hours_dec</th>\n",
       "      <th>season</th>\n",
       "      <th>home_team_win</th>\n",
       "      <th>home_team_loss</th>\n",
       "      <th>home_team_outcome</th>\n",
       "    </tr>\n",
       "  </thead>\n",
       "  <tbody>\n",
       "    <tr>\n",
       "      <td>0</td>\n",
       "      <td>0</td>\n",
       "      <td>40030.0</td>\n",
       "      <td>New York Mets</td>\n",
       "      <td>1</td>\n",
       "      <td>7</td>\n",
       "      <td>3</td>\n",
       "      <td>2016-04-03</td>\n",
       "      <td>on grass</td>\n",
       "      <td>Night Game</td>\n",
       "      <td>Kansas City Royals</td>\n",
       "      <td>...</td>\n",
       "      <td>74.0</td>\n",
       "      <td>14.0</td>\n",
       "      <td>from Right to Left</td>\n",
       "      <td>Sunny</td>\n",
       "      <td>7</td>\n",
       "      <td>3.216667</td>\n",
       "      <td>regular season</td>\n",
       "      <td>1</td>\n",
       "      <td>0</td>\n",
       "      <td>Win</td>\n",
       "    </tr>\n",
       "    <tr>\n",
       "      <td>1</td>\n",
       "      <td>1</td>\n",
       "      <td>21621.0</td>\n",
       "      <td>Philadelphia Phillies</td>\n",
       "      <td>0</td>\n",
       "      <td>5</td>\n",
       "      <td>2</td>\n",
       "      <td>2016-04-06</td>\n",
       "      <td>on grass</td>\n",
       "      <td>Night Game</td>\n",
       "      <td>Cincinnati Reds</td>\n",
       "      <td>...</td>\n",
       "      <td>55.0</td>\n",
       "      <td>24.0</td>\n",
       "      <td>from Right to Left</td>\n",
       "      <td>Overcast</td>\n",
       "      <td>5</td>\n",
       "      <td>2.383333</td>\n",
       "      <td>regular season</td>\n",
       "      <td>1</td>\n",
       "      <td>0</td>\n",
       "      <td>Win</td>\n",
       "    </tr>\n",
       "    <tr>\n",
       "      <td>2</td>\n",
       "      <td>2</td>\n",
       "      <td>12622.0</td>\n",
       "      <td>Minnesota Twins</td>\n",
       "      <td>0</td>\n",
       "      <td>5</td>\n",
       "      <td>2</td>\n",
       "      <td>2016-04-06</td>\n",
       "      <td>on grass</td>\n",
       "      <td>Night Game</td>\n",
       "      <td>Baltimore Orioles</td>\n",
       "      <td>...</td>\n",
       "      <td>48.0</td>\n",
       "      <td>7.0</td>\n",
       "      <td>out to Leftfield</td>\n",
       "      <td>Unknown</td>\n",
       "      <td>6</td>\n",
       "      <td>3.183333</td>\n",
       "      <td>regular season</td>\n",
       "      <td>1</td>\n",
       "      <td>0</td>\n",
       "      <td>Win</td>\n",
       "    </tr>\n",
       "    <tr>\n",
       "      <td>3</td>\n",
       "      <td>3</td>\n",
       "      <td>18531.0</td>\n",
       "      <td>Washington Nationals</td>\n",
       "      <td>0</td>\n",
       "      <td>8</td>\n",
       "      <td>3</td>\n",
       "      <td>2016-04-06</td>\n",
       "      <td>on grass</td>\n",
       "      <td>Night Game</td>\n",
       "      <td>Atlanta Braves</td>\n",
       "      <td>...</td>\n",
       "      <td>65.0</td>\n",
       "      <td>10.0</td>\n",
       "      <td>from Right to Left</td>\n",
       "      <td>Cloudy</td>\n",
       "      <td>4</td>\n",
       "      <td>2.883333</td>\n",
       "      <td>regular season</td>\n",
       "      <td>0</td>\n",
       "      <td>1</td>\n",
       "      <td>Loss</td>\n",
       "    </tr>\n",
       "    <tr>\n",
       "      <td>4</td>\n",
       "      <td>4</td>\n",
       "      <td>18572.0</td>\n",
       "      <td>Colorado Rockies</td>\n",
       "      <td>1</td>\n",
       "      <td>8</td>\n",
       "      <td>4</td>\n",
       "      <td>2016-04-06</td>\n",
       "      <td>on grass</td>\n",
       "      <td>Day Game</td>\n",
       "      <td>Arizona Diamondbacks</td>\n",
       "      <td>...</td>\n",
       "      <td>77.0</td>\n",
       "      <td>0.0</td>\n",
       "      <td>in unknown direction</td>\n",
       "      <td>In Dome</td>\n",
       "      <td>7</td>\n",
       "      <td>2.650000</td>\n",
       "      <td>regular season</td>\n",
       "      <td>0</td>\n",
       "      <td>1</td>\n",
       "      <td>Loss</td>\n",
       "    </tr>\n",
       "  </tbody>\n",
       "</table>\n",
       "<p>5 rows × 26 columns</p>\n",
       "</div>"
      ],
      "text/plain": [
       "   Unnamed: 0  attendance              away_team  away_team_errors  \\\n",
       "0           0     40030.0          New York Mets                 1   \n",
       "1           1     21621.0  Philadelphia Phillies                 0   \n",
       "2           2     12622.0        Minnesota Twins                 0   \n",
       "3           3     18531.0   Washington Nationals                 0   \n",
       "4           4     18572.0       Colorado Rockies                 1   \n",
       "\n",
       "   away_team_hits  away_team_runs        date field_type   game_type  \\\n",
       "0               7               3  2016-04-03   on grass  Night Game   \n",
       "1               5               2  2016-04-06   on grass  Night Game   \n",
       "2               5               2  2016-04-06   on grass  Night Game   \n",
       "3               8               3  2016-04-06   on grass  Night Game   \n",
       "4               8               4  2016-04-06   on grass    Day Game   \n",
       "\n",
       "              home_team  ...  temperature  wind_speed         wind_direction  \\\n",
       "0    Kansas City Royals  ...         74.0        14.0     from Right to Left   \n",
       "1       Cincinnati Reds  ...         55.0        24.0     from Right to Left   \n",
       "2     Baltimore Orioles  ...         48.0         7.0       out to Leftfield   \n",
       "3        Atlanta Braves  ...         65.0        10.0     from Right to Left   \n",
       "4  Arizona Diamondbacks  ...         77.0         0.0   in unknown direction   \n",
       "\n",
       "        sky total_runs game_hours_dec          season  home_team_win  \\\n",
       "0     Sunny          7       3.216667  regular season              1   \n",
       "1  Overcast          5       2.383333  regular season              1   \n",
       "2   Unknown          6       3.183333  regular season              1   \n",
       "3    Cloudy          4       2.883333  regular season              0   \n",
       "4   In Dome          7       2.650000  regular season              0   \n",
       "\n",
       "  home_team_loss home_team_outcome  \n",
       "0              0               Win  \n",
       "1              0               Win  \n",
       "2              0               Win  \n",
       "3              1              Loss  \n",
       "4              1              Loss  \n",
       "\n",
       "[5 rows x 26 columns]"
      ]
     },
     "execution_count": 2,
     "metadata": {},
     "output_type": "execute_result"
    }
   ],
   "source": [
    "data.head()"
   ]
  },
  {
   "cell_type": "markdown",
   "metadata": {},
   "source": [
    "## DATASET DESCRIPTION (10 points)"
   ]
  },
  {
   "cell_type": "markdown",
   "metadata": {},
   "source": [
    "***1.) Where you got it***\n",
    " - I got my dataset from Kaggle (https://www.kaggle.com/cyaris/2016-mlb-season)\n",
    " - All data was retrieved from https://www.baseball-reference.com/"
   ]
  },
  {
   "cell_type": "markdown",
   "metadata": {},
   "source": [
    "***2.) Why the source is reliable***\n",
    "- I know this dataset is reliabe becuase the source of the data comes from BaseballReference.com\n",
    "- BaseballReference.com is the most notable webiste for Baseball stats and data\n",
    "- People around the Baseball Community always go to BaseballReference.com for their stats becuase it is real-time data that is accurate and quick to see."
   ]
  },
  {
   "cell_type": "markdown",
   "metadata": {},
   "source": [
    "***3.) How it was gathered (study info, participants, etc.)***\n",
    "- BaseballReference.com is notably the best website to use to get real-time data for Baseball information. In this dataset, someone will be expected to find data from the 2016 Baseball Season. This information was gathered by BaseballReference during the 2016 season."
   ]
  },
  {
   "cell_type": "markdown",
   "metadata": {},
   "source": [
    "***4.) What each column contains and any applicable measurment units***\n",
    "- There are a total of 26 different columns in this dataset. I am trying to analysis any correaltions for fan attednance. \n",
    "- Right away I will delete the follwing columns from my dataset since they are applicable to what I am trying to solve\n",
    "            - away_team_errors\t\n",
    "            - away_team_hits\t\n",
    "            - away_team_runs\t\n",
    "            - date\t\n",
    "            - field_type\n",
    "            - home_team_errors\t\n",
    "            - home_team_hits\t\n",
    "            - home_team_runs\n",
    "            - wind_direction\n",
    "            - total_runs\t\n",
    "            - game_hours_dec\n",
    "            - home_team_loss\n",
    "            - home_team_outcome\n",
    "            - start_time\n",
    "            - venue\n",
    "            \n",
    "- Just off this analysis, I have took away 14 of the 26 columns from the dataset which leaves us with the following columns \n",
    "            - attendance\t\n",
    "            - away_team\n",
    "            - game_type\t\n",
    "            - home_team\n",
    "            - day_of_week\t\n",
    "            - temperature\t\n",
    "            - wind_speed\t\t\n",
    "            - sky\n",
    "            - season\n",
    "            - home_team_win\n",
    "            \n",
    "***(The one column I need to fix is the first column that contains the ID numbers for each rows but no column name)***\n",
    "\n",
    "***(Keep in mind that I will be adding some columns back once I complete my multi-variable linear regression - I will try to attempt to do a Logistic Regression, I wilm kae a note of what columns were added when I do the Logistic Regression)\n",
    "\n",
    "\n",
    "\n",
    "\n"
   ]
  },
  {
   "cell_type": "markdown",
   "metadata": {},
   "source": [
    "## READ IN AND CLEAN THE DATASET (10 points)"
   ]
  },
  {
   "cell_type": "markdown",
   "metadata": {},
   "source": [
    "***1.) Parsing column headers & Dropping unnecessary columns***"
   ]
  },
  {
   "cell_type": "markdown",
   "metadata": {},
   "source": [
    "*PARSING*"
   ]
  },
  {
   "cell_type": "markdown",
   "metadata": {},
   "source": [
    "      - away_team_errors \n",
    "          - How many errors the away team had during the played game\n",
    "      - away_team_hits \n",
    "          - How many hits the away team had during the played game\n",
    "      - away_team_runs\n",
    "          - How many runs the away team had during the played game\n",
    "      - date \n",
    "          - The date in which the game was played on\n",
    "      - field_type\n",
    "          - What kind of grass the field has that was played on\n",
    "      - home_team_errors\n",
    "          - How many errors the home team had during the played game\n",
    "      - home_team_hits \n",
    "          - How many hits the home team had during the played game\n",
    "      - home_team_runs\n",
    "          - How many runs the home team had during the played game\n",
    "      - wind_direction\n",
    "          - This tells us what way the wind is blowing coming into the ballpark - important for how hard and where balls are                hit\n",
    "      - total_runs \n",
    "          - The total runs that both the home team and the away team scored during the played ga,e\n",
    "      - game_hours_dec\n",
    "          - How long it took the game to be played\n",
    "      - home_team_loss\n",
    "          - Whether or not the home team loss to the away team \n",
    "      - home_team_outcome\n",
    "          - Whether or not the home team loss to the away team \n",
    "      - venue\n",
    "          - What stadium the selected game was played in\n",
    "      - attendance\n",
    "          - After doing research, this is how many people actually scanned their ticket and attended the game, and not fans \n",
    "             who brought tickets\n",
    "      - away_team\n",
    "          - This tells us what team was the away team \n",
    "      - game_type    \n",
    "          - This tells us whether the game was a night game or a day game \n",
    "      - home_team\n",
    "          - This tells us what team was the home team \n",
    "      - start_time\n",
    "          - This data point tells us what time the selected game started\n",
    "      - day_of_week    \n",
    "          - This tells us what day of the week the selected game was played on\n",
    "      - temperature\n",
    "          - This data point tells us what the temperature was when the first pitch was thrown to start the game\n",
    "      - wind_speed\n",
    "          - This tells us how strong or weak the winds were during the start of the game\n",
    "      - sky\n",
    "          - This is a quick overview of the weather and tells us how the day was outside during the game\n",
    "      - season\n",
    "          - This tells us whether the game was a reguar season or playoff game\n",
    "      - home_team_win\n",
    "          - Whether or not the home team loss to the away team "
   ]
  },
  {
   "cell_type": "markdown",
   "metadata": {},
   "source": [
    "***I am starting the process of cleaning my data by getting rid of the selected columns that I mentioned above.***"
   ]
  },
  {
   "cell_type": "code",
   "execution_count": 3,
   "metadata": {},
   "outputs": [
    {
     "data": {
      "text/plain": [
       "Index(['Unnamed: 0', 'attendance', 'away_team', 'away_team_errors',\n",
       "       'away_team_hits', 'away_team_runs', 'date', 'field_type', 'game_type',\n",
       "       'home_team', 'home_team_errors', 'home_team_hits', 'home_team_runs',\n",
       "       'start_time', 'venue', 'day_of_week', 'temperature', 'wind_speed',\n",
       "       'wind_direction', 'sky', 'total_runs', 'game_hours_dec', 'season',\n",
       "       'home_team_win', 'home_team_loss', 'home_team_outcome'],\n",
       "      dtype='object')"
      ]
     },
     "execution_count": 3,
     "metadata": {},
     "output_type": "execute_result"
    }
   ],
   "source": [
    "data.columns"
   ]
  },
  {
   "cell_type": "markdown",
   "metadata": {},
   "source": [
    "***Before I get started with deleting rows from my dataset, I am cleaning up the names of the columns to make it easier for me to remember***"
   ]
  },
  {
   "cell_type": "code",
   "execution_count": 4,
   "metadata": {},
   "outputs": [
    {
     "data": {
      "text/plain": [
       "Index(['Unnamed: 0', 'Fan_Attendance', 'Away_Team', 'away_team_errors',\n",
       "       'away_team_hits', 'away_team_runs', 'date', 'field_type', 'Game_Type',\n",
       "       'Home_Team', 'home_team_errors', 'home_team_hits', 'home_team_runs',\n",
       "       'start_time', 'venue', 'Day_of_Week', 'Temperature', 'Wind_Speed',\n",
       "       'wind_direction', 'Sky', 'total_runs', 'game_hours_dec', 'Season',\n",
       "       'Home_Team_Win', 'home_team_loss', 'home_team_outcome'],\n",
       "      dtype='object')"
      ]
     },
     "execution_count": 4,
     "metadata": {},
     "output_type": "execute_result"
    }
   ],
   "source": [
    "new_data = data.rename(columns={'away_team': 'Away_Team',\n",
    "                                'away_team_errors': 'away_team_errors',\n",
    "                                'away_team_hits': 'away_team_hits',\n",
    "                                'away_team_runs': 'away_team_runs',\n",
    "                                'date': 'date',\n",
    "                                'field_type': 'field_type',\n",
    "                                'game_type': 'Game_Type',\n",
    "                                'home_team': 'Home_Team',\n",
    "                                'home_team_errors': 'home_team_errors',\n",
    "                                'home_team_hits': 'home_team_hits',\n",
    "                                'home_team_runs': 'home_team_runs',\n",
    "                                'start_time': 'start_time',\n",
    "                                'venue': 'venue',\n",
    "                                'day_of_week': 'Day_of_Week',\n",
    "                                'temperature': 'Temperature',\n",
    "                                'wind_speed': 'Wind_Speed',\n",
    "                                'wind_direction': 'wind_direction',\n",
    "                                'sky': 'Sky',\n",
    "                                'total_runs': 'total_runs',\n",
    "                                'game_hours_dec': 'game_hours_dec',\n",
    "                                'season': 'Season',\n",
    "                                'home_team_win': 'Home_Team_Win',\n",
    "                                'home_team_loss': 'home_team_loss',\n",
    "                                'home_team_outcome': 'home_team_outcome',\n",
    "                                'attendance': 'Fan_Attendance'})\n",
    "new_data.columns"
   ]
  },
  {
   "cell_type": "markdown",
   "metadata": {},
   "source": [
    "***Now that I cleaned up the names, I am dropping the selected columns I mentioned above that I will not be using for my Linear Regression (Keep in mind that I can constanly change this in order to get the columns I want)***\n",
    "\n",
    "***An important note is to look at the dataset name (Updated_Data) I changed this name because I will use this for me logistic regression but not Linear Regression)***"
   ]
  },
  {
   "cell_type": "code",
   "execution_count": 5,
   "metadata": {},
   "outputs": [
    {
     "data": {
      "text/plain": [
       "Index(['Unnamed: 0', 'Fan_Attendance', 'Away_Team', 'Game_Type', 'Home_Team',\n",
       "       'home_team_errors', 'home_team_hits', 'home_team_runs', 'Day_of_Week',\n",
       "       'Temperature', 'Wind_Speed', 'Sky', 'game_hours_dec', 'Season',\n",
       "       'Home_Team_Win'],\n",
       "      dtype='object')"
      ]
     },
     "execution_count": 5,
     "metadata": {},
     "output_type": "execute_result"
    }
   ],
   "source": [
    "Updated_Data = new_data.drop([\"away_team_errors\", \"away_team_hits\", \"away_team_runs\", \"date\", \"field_type\"\\\n",
    "                              ,\"wind_direction\",\"total_runs\", \"home_team_loss\", \"home_team_outcome\"\\\n",
    "                              , \"start_time\", \"venue\"]\n",
    "                              , axis = 1)\n",
    "\n",
    "Updated_Data.columns"
   ]
  },
  {
   "cell_type": "markdown",
   "metadata": {},
   "source": [
    "***2.) Finding and handling null values***"
   ]
  },
  {
   "cell_type": "code",
   "execution_count": 6,
   "metadata": {},
   "outputs": [
    {
     "data": {
      "text/html": [
       "<div>\n",
       "<style scoped>\n",
       "    .dataframe tbody tr th:only-of-type {\n",
       "        vertical-align: middle;\n",
       "    }\n",
       "\n",
       "    .dataframe tbody tr th {\n",
       "        vertical-align: top;\n",
       "    }\n",
       "\n",
       "    .dataframe thead th {\n",
       "        text-align: right;\n",
       "    }\n",
       "</style>\n",
       "<table border=\"1\" class=\"dataframe\">\n",
       "  <thead>\n",
       "    <tr style=\"text-align: right;\">\n",
       "      <th></th>\n",
       "      <th>Unnamed: 0</th>\n",
       "      <th>Fan_Attendance</th>\n",
       "      <th>Away_Team</th>\n",
       "      <th>Game_Type</th>\n",
       "      <th>Home_Team</th>\n",
       "      <th>home_team_errors</th>\n",
       "      <th>home_team_hits</th>\n",
       "      <th>home_team_runs</th>\n",
       "      <th>Day_of_Week</th>\n",
       "      <th>Temperature</th>\n",
       "      <th>Wind_Speed</th>\n",
       "      <th>Sky</th>\n",
       "      <th>game_hours_dec</th>\n",
       "      <th>Season</th>\n",
       "      <th>Home_Team_Win</th>\n",
       "    </tr>\n",
       "  </thead>\n",
       "  <tbody>\n",
       "    <tr>\n",
       "      <td>0</td>\n",
       "      <td>False</td>\n",
       "      <td>False</td>\n",
       "      <td>False</td>\n",
       "      <td>False</td>\n",
       "      <td>False</td>\n",
       "      <td>False</td>\n",
       "      <td>False</td>\n",
       "      <td>False</td>\n",
       "      <td>False</td>\n",
       "      <td>False</td>\n",
       "      <td>False</td>\n",
       "      <td>False</td>\n",
       "      <td>False</td>\n",
       "      <td>False</td>\n",
       "      <td>False</td>\n",
       "    </tr>\n",
       "    <tr>\n",
       "      <td>1</td>\n",
       "      <td>False</td>\n",
       "      <td>False</td>\n",
       "      <td>False</td>\n",
       "      <td>False</td>\n",
       "      <td>False</td>\n",
       "      <td>False</td>\n",
       "      <td>False</td>\n",
       "      <td>False</td>\n",
       "      <td>False</td>\n",
       "      <td>False</td>\n",
       "      <td>False</td>\n",
       "      <td>False</td>\n",
       "      <td>False</td>\n",
       "      <td>False</td>\n",
       "      <td>False</td>\n",
       "    </tr>\n",
       "    <tr>\n",
       "      <td>2</td>\n",
       "      <td>False</td>\n",
       "      <td>False</td>\n",
       "      <td>False</td>\n",
       "      <td>False</td>\n",
       "      <td>False</td>\n",
       "      <td>False</td>\n",
       "      <td>False</td>\n",
       "      <td>False</td>\n",
       "      <td>False</td>\n",
       "      <td>False</td>\n",
       "      <td>False</td>\n",
       "      <td>False</td>\n",
       "      <td>False</td>\n",
       "      <td>False</td>\n",
       "      <td>False</td>\n",
       "    </tr>\n",
       "    <tr>\n",
       "      <td>3</td>\n",
       "      <td>False</td>\n",
       "      <td>False</td>\n",
       "      <td>False</td>\n",
       "      <td>False</td>\n",
       "      <td>False</td>\n",
       "      <td>False</td>\n",
       "      <td>False</td>\n",
       "      <td>False</td>\n",
       "      <td>False</td>\n",
       "      <td>False</td>\n",
       "      <td>False</td>\n",
       "      <td>False</td>\n",
       "      <td>False</td>\n",
       "      <td>False</td>\n",
       "      <td>False</td>\n",
       "    </tr>\n",
       "    <tr>\n",
       "      <td>4</td>\n",
       "      <td>False</td>\n",
       "      <td>False</td>\n",
       "      <td>False</td>\n",
       "      <td>False</td>\n",
       "      <td>False</td>\n",
       "      <td>False</td>\n",
       "      <td>False</td>\n",
       "      <td>False</td>\n",
       "      <td>False</td>\n",
       "      <td>False</td>\n",
       "      <td>False</td>\n",
       "      <td>False</td>\n",
       "      <td>False</td>\n",
       "      <td>False</td>\n",
       "      <td>False</td>\n",
       "    </tr>\n",
       "    <tr>\n",
       "      <td>...</td>\n",
       "      <td>...</td>\n",
       "      <td>...</td>\n",
       "      <td>...</td>\n",
       "      <td>...</td>\n",
       "      <td>...</td>\n",
       "      <td>...</td>\n",
       "      <td>...</td>\n",
       "      <td>...</td>\n",
       "      <td>...</td>\n",
       "      <td>...</td>\n",
       "      <td>...</td>\n",
       "      <td>...</td>\n",
       "      <td>...</td>\n",
       "      <td>...</td>\n",
       "      <td>...</td>\n",
       "    </tr>\n",
       "    <tr>\n",
       "      <td>2458</td>\n",
       "      <td>False</td>\n",
       "      <td>False</td>\n",
       "      <td>False</td>\n",
       "      <td>False</td>\n",
       "      <td>False</td>\n",
       "      <td>False</td>\n",
       "      <td>False</td>\n",
       "      <td>False</td>\n",
       "      <td>False</td>\n",
       "      <td>False</td>\n",
       "      <td>False</td>\n",
       "      <td>False</td>\n",
       "      <td>False</td>\n",
       "      <td>False</td>\n",
       "      <td>False</td>\n",
       "    </tr>\n",
       "    <tr>\n",
       "      <td>2459</td>\n",
       "      <td>False</td>\n",
       "      <td>False</td>\n",
       "      <td>False</td>\n",
       "      <td>False</td>\n",
       "      <td>False</td>\n",
       "      <td>False</td>\n",
       "      <td>False</td>\n",
       "      <td>False</td>\n",
       "      <td>False</td>\n",
       "      <td>False</td>\n",
       "      <td>False</td>\n",
       "      <td>False</td>\n",
       "      <td>False</td>\n",
       "      <td>False</td>\n",
       "      <td>False</td>\n",
       "    </tr>\n",
       "    <tr>\n",
       "      <td>2460</td>\n",
       "      <td>False</td>\n",
       "      <td>False</td>\n",
       "      <td>False</td>\n",
       "      <td>False</td>\n",
       "      <td>False</td>\n",
       "      <td>False</td>\n",
       "      <td>False</td>\n",
       "      <td>False</td>\n",
       "      <td>False</td>\n",
       "      <td>False</td>\n",
       "      <td>False</td>\n",
       "      <td>False</td>\n",
       "      <td>False</td>\n",
       "      <td>False</td>\n",
       "      <td>False</td>\n",
       "    </tr>\n",
       "    <tr>\n",
       "      <td>2461</td>\n",
       "      <td>False</td>\n",
       "      <td>False</td>\n",
       "      <td>False</td>\n",
       "      <td>False</td>\n",
       "      <td>False</td>\n",
       "      <td>False</td>\n",
       "      <td>False</td>\n",
       "      <td>False</td>\n",
       "      <td>False</td>\n",
       "      <td>False</td>\n",
       "      <td>False</td>\n",
       "      <td>False</td>\n",
       "      <td>False</td>\n",
       "      <td>False</td>\n",
       "      <td>False</td>\n",
       "    </tr>\n",
       "    <tr>\n",
       "      <td>2462</td>\n",
       "      <td>False</td>\n",
       "      <td>False</td>\n",
       "      <td>False</td>\n",
       "      <td>False</td>\n",
       "      <td>False</td>\n",
       "      <td>False</td>\n",
       "      <td>False</td>\n",
       "      <td>False</td>\n",
       "      <td>False</td>\n",
       "      <td>False</td>\n",
       "      <td>False</td>\n",
       "      <td>False</td>\n",
       "      <td>False</td>\n",
       "      <td>False</td>\n",
       "      <td>False</td>\n",
       "    </tr>\n",
       "  </tbody>\n",
       "</table>\n",
       "<p>2463 rows × 15 columns</p>\n",
       "</div>"
      ],
      "text/plain": [
       "      Unnamed: 0  Fan_Attendance  Away_Team  Game_Type  Home_Team  \\\n",
       "0          False           False      False      False      False   \n",
       "1          False           False      False      False      False   \n",
       "2          False           False      False      False      False   \n",
       "3          False           False      False      False      False   \n",
       "4          False           False      False      False      False   \n",
       "...          ...             ...        ...        ...        ...   \n",
       "2458       False           False      False      False      False   \n",
       "2459       False           False      False      False      False   \n",
       "2460       False           False      False      False      False   \n",
       "2461       False           False      False      False      False   \n",
       "2462       False           False      False      False      False   \n",
       "\n",
       "      home_team_errors  home_team_hits  home_team_runs  Day_of_Week  \\\n",
       "0                False           False           False        False   \n",
       "1                False           False           False        False   \n",
       "2                False           False           False        False   \n",
       "3                False           False           False        False   \n",
       "4                False           False           False        False   \n",
       "...                ...             ...             ...          ...   \n",
       "2458             False           False           False        False   \n",
       "2459             False           False           False        False   \n",
       "2460             False           False           False        False   \n",
       "2461             False           False           False        False   \n",
       "2462             False           False           False        False   \n",
       "\n",
       "      Temperature  Wind_Speed    Sky  game_hours_dec  Season  Home_Team_Win  \n",
       "0           False       False  False           False   False          False  \n",
       "1           False       False  False           False   False          False  \n",
       "2           False       False  False           False   False          False  \n",
       "3           False       False  False           False   False          False  \n",
       "4           False       False  False           False   False          False  \n",
       "...           ...         ...    ...             ...     ...            ...  \n",
       "2458        False       False  False           False   False          False  \n",
       "2459        False       False  False           False   False          False  \n",
       "2460        False       False  False           False   False          False  \n",
       "2461        False       False  False           False   False          False  \n",
       "2462        False       False  False           False   False          False  \n",
       "\n",
       "[2463 rows x 15 columns]"
      ]
     },
     "execution_count": 6,
     "metadata": {},
     "output_type": "execute_result"
    }
   ],
   "source": [
    "Updated_Data.isnull()"
   ]
  },
  {
   "cell_type": "code",
   "execution_count": 7,
   "metadata": {},
   "outputs": [
    {
     "data": {
      "text/html": [
       "<div>\n",
       "<style scoped>\n",
       "    .dataframe tbody tr th:only-of-type {\n",
       "        vertical-align: middle;\n",
       "    }\n",
       "\n",
       "    .dataframe tbody tr th {\n",
       "        vertical-align: top;\n",
       "    }\n",
       "\n",
       "    .dataframe thead th {\n",
       "        text-align: right;\n",
       "    }\n",
       "</style>\n",
       "<table border=\"1\" class=\"dataframe\">\n",
       "  <thead>\n",
       "    <tr style=\"text-align: right;\">\n",
       "      <th></th>\n",
       "      <th>Unnamed: 0</th>\n",
       "      <th>Fan_Attendance</th>\n",
       "      <th>Away_Team</th>\n",
       "      <th>Game_Type</th>\n",
       "      <th>Home_Team</th>\n",
       "      <th>home_team_errors</th>\n",
       "      <th>home_team_hits</th>\n",
       "      <th>home_team_runs</th>\n",
       "      <th>Day_of_Week</th>\n",
       "      <th>Temperature</th>\n",
       "      <th>Wind_Speed</th>\n",
       "      <th>Sky</th>\n",
       "      <th>game_hours_dec</th>\n",
       "      <th>Season</th>\n",
       "      <th>Home_Team_Win</th>\n",
       "    </tr>\n",
       "  </thead>\n",
       "  <tbody>\n",
       "    <tr>\n",
       "      <td>0</td>\n",
       "      <td>False</td>\n",
       "      <td>False</td>\n",
       "      <td>False</td>\n",
       "      <td>False</td>\n",
       "      <td>False</td>\n",
       "      <td>False</td>\n",
       "      <td>False</td>\n",
       "      <td>False</td>\n",
       "      <td>False</td>\n",
       "      <td>False</td>\n",
       "      <td>False</td>\n",
       "      <td>False</td>\n",
       "      <td>False</td>\n",
       "      <td>False</td>\n",
       "      <td>False</td>\n",
       "    </tr>\n",
       "    <tr>\n",
       "      <td>1</td>\n",
       "      <td>False</td>\n",
       "      <td>False</td>\n",
       "      <td>False</td>\n",
       "      <td>False</td>\n",
       "      <td>False</td>\n",
       "      <td>False</td>\n",
       "      <td>False</td>\n",
       "      <td>False</td>\n",
       "      <td>False</td>\n",
       "      <td>False</td>\n",
       "      <td>False</td>\n",
       "      <td>False</td>\n",
       "      <td>False</td>\n",
       "      <td>False</td>\n",
       "      <td>False</td>\n",
       "    </tr>\n",
       "    <tr>\n",
       "      <td>2</td>\n",
       "      <td>False</td>\n",
       "      <td>False</td>\n",
       "      <td>False</td>\n",
       "      <td>False</td>\n",
       "      <td>False</td>\n",
       "      <td>False</td>\n",
       "      <td>False</td>\n",
       "      <td>False</td>\n",
       "      <td>False</td>\n",
       "      <td>False</td>\n",
       "      <td>False</td>\n",
       "      <td>False</td>\n",
       "      <td>False</td>\n",
       "      <td>False</td>\n",
       "      <td>False</td>\n",
       "    </tr>\n",
       "    <tr>\n",
       "      <td>3</td>\n",
       "      <td>False</td>\n",
       "      <td>False</td>\n",
       "      <td>False</td>\n",
       "      <td>False</td>\n",
       "      <td>False</td>\n",
       "      <td>False</td>\n",
       "      <td>False</td>\n",
       "      <td>False</td>\n",
       "      <td>False</td>\n",
       "      <td>False</td>\n",
       "      <td>False</td>\n",
       "      <td>False</td>\n",
       "      <td>False</td>\n",
       "      <td>False</td>\n",
       "      <td>False</td>\n",
       "    </tr>\n",
       "    <tr>\n",
       "      <td>4</td>\n",
       "      <td>False</td>\n",
       "      <td>False</td>\n",
       "      <td>False</td>\n",
       "      <td>False</td>\n",
       "      <td>False</td>\n",
       "      <td>False</td>\n",
       "      <td>False</td>\n",
       "      <td>False</td>\n",
       "      <td>False</td>\n",
       "      <td>False</td>\n",
       "      <td>False</td>\n",
       "      <td>False</td>\n",
       "      <td>False</td>\n",
       "      <td>False</td>\n",
       "      <td>False</td>\n",
       "    </tr>\n",
       "  </tbody>\n",
       "</table>\n",
       "</div>"
      ],
      "text/plain": [
       "   Unnamed: 0  Fan_Attendance  Away_Team  Game_Type  Home_Team  \\\n",
       "0       False           False      False      False      False   \n",
       "1       False           False      False      False      False   \n",
       "2       False           False      False      False      False   \n",
       "3       False           False      False      False      False   \n",
       "4       False           False      False      False      False   \n",
       "\n",
       "   home_team_errors  home_team_hits  home_team_runs  Day_of_Week  Temperature  \\\n",
       "0             False           False           False        False        False   \n",
       "1             False           False           False        False        False   \n",
       "2             False           False           False        False        False   \n",
       "3             False           False           False        False        False   \n",
       "4             False           False           False        False        False   \n",
       "\n",
       "   Wind_Speed    Sky  game_hours_dec  Season  Home_Team_Win  \n",
       "0       False  False           False   False          False  \n",
       "1       False  False           False   False          False  \n",
       "2       False  False           False   False          False  \n",
       "3       False  False           False   False          False  \n",
       "4       False  False           False   False          False  "
      ]
     },
     "execution_count": 7,
     "metadata": {},
     "output_type": "execute_result"
    }
   ],
   "source": [
    "missing_data = Updated_Data.isnull()\n",
    "missing_data.head()"
   ]
  },
  {
   "cell_type": "markdown",
   "metadata": {},
   "source": [
    "***The code below is the best way to see where you have Null Values in your Dataset and exactly where they are***"
   ]
  },
  {
   "cell_type": "code",
   "execution_count": 8,
   "metadata": {},
   "outputs": [
    {
     "data": {
      "text/plain": [
       "Unnamed: 0          0\n",
       "Fan_Attendance      3\n",
       "Away_Team           0\n",
       "Game_Type           0\n",
       "Home_Team           0\n",
       "home_team_errors    0\n",
       "home_team_hits      0\n",
       "home_team_runs      0\n",
       "Day_of_Week         0\n",
       "Temperature         0\n",
       "Wind_Speed          0\n",
       "Sky                 0\n",
       "game_hours_dec      0\n",
       "Season              0\n",
       "Home_Team_Win       0\n",
       "dtype: int64"
      ]
     },
     "execution_count": 8,
     "metadata": {},
     "output_type": "execute_result"
    }
   ],
   "source": [
    "num_missing = missing_data.sum()\n",
    "num_missing"
   ]
  },
  {
   "cell_type": "code",
   "execution_count": 9,
   "metadata": {},
   "outputs": [
    {
     "data": {
      "text/plain": [
       "Unnamed: 0          0.000000\n",
       "Fan_Attendance      0.121803\n",
       "Away_Team           0.000000\n",
       "Game_Type           0.000000\n",
       "Home_Team           0.000000\n",
       "home_team_errors    0.000000\n",
       "home_team_hits      0.000000\n",
       "home_team_runs      0.000000\n",
       "Day_of_Week         0.000000\n",
       "Temperature         0.000000\n",
       "Wind_Speed          0.000000\n",
       "Sky                 0.000000\n",
       "game_hours_dec      0.000000\n",
       "Season              0.000000\n",
       "Home_Team_Win       0.000000\n",
       "dtype: float64"
      ]
     },
     "execution_count": 9,
     "metadata": {},
     "output_type": "execute_result"
    }
   ],
   "source": [
    "num_missing/len(data) * 100"
   ]
  },
  {
   "cell_type": "markdown",
   "metadata": {},
   "source": [
    "***Based off the abovetable we are able to see that there are 3 missing data points in the Fan_Attendance Column, so I will use the below code to drop all the Null Values from my Dataset***\n",
    "\n",
    "***Also keep in mind that I am changing my Dataset name to Baseball_Data becuase it makes it easier for me to run a Linear Regression with this Dataset without messing up the previous Dataset (Updated_Data) that I created earlier***"
   ]
  },
  {
   "cell_type": "code",
   "execution_count": 10,
   "metadata": {},
   "outputs": [
    {
     "data": {
      "text/html": [
       "<div>\n",
       "<style scoped>\n",
       "    .dataframe tbody tr th:only-of-type {\n",
       "        vertical-align: middle;\n",
       "    }\n",
       "\n",
       "    .dataframe tbody tr th {\n",
       "        vertical-align: top;\n",
       "    }\n",
       "\n",
       "    .dataframe thead th {\n",
       "        text-align: right;\n",
       "    }\n",
       "</style>\n",
       "<table border=\"1\" class=\"dataframe\">\n",
       "  <thead>\n",
       "    <tr style=\"text-align: right;\">\n",
       "      <th></th>\n",
       "      <th>Unnamed: 0</th>\n",
       "      <th>Fan_Attendance</th>\n",
       "      <th>Away_Team</th>\n",
       "      <th>Game_Type</th>\n",
       "      <th>Home_Team</th>\n",
       "      <th>home_team_errors</th>\n",
       "      <th>home_team_hits</th>\n",
       "      <th>home_team_runs</th>\n",
       "      <th>Day_of_Week</th>\n",
       "      <th>Temperature</th>\n",
       "      <th>Wind_Speed</th>\n",
       "      <th>Sky</th>\n",
       "      <th>game_hours_dec</th>\n",
       "      <th>Season</th>\n",
       "      <th>Home_Team_Win</th>\n",
       "    </tr>\n",
       "  </thead>\n",
       "  <tbody>\n",
       "    <tr>\n",
       "      <td>0</td>\n",
       "      <td>0</td>\n",
       "      <td>40030.0</td>\n",
       "      <td>New York Mets</td>\n",
       "      <td>Night Game</td>\n",
       "      <td>Kansas City Royals</td>\n",
       "      <td>0</td>\n",
       "      <td>9</td>\n",
       "      <td>4</td>\n",
       "      <td>Sunday</td>\n",
       "      <td>74.0</td>\n",
       "      <td>14.0</td>\n",
       "      <td>Sunny</td>\n",
       "      <td>3.216667</td>\n",
       "      <td>regular season</td>\n",
       "      <td>1</td>\n",
       "    </tr>\n",
       "    <tr>\n",
       "      <td>1</td>\n",
       "      <td>1</td>\n",
       "      <td>21621.0</td>\n",
       "      <td>Philadelphia Phillies</td>\n",
       "      <td>Night Game</td>\n",
       "      <td>Cincinnati Reds</td>\n",
       "      <td>0</td>\n",
       "      <td>8</td>\n",
       "      <td>3</td>\n",
       "      <td>Wednesday</td>\n",
       "      <td>55.0</td>\n",
       "      <td>24.0</td>\n",
       "      <td>Overcast</td>\n",
       "      <td>2.383333</td>\n",
       "      <td>regular season</td>\n",
       "      <td>1</td>\n",
       "    </tr>\n",
       "    <tr>\n",
       "      <td>2</td>\n",
       "      <td>2</td>\n",
       "      <td>12622.0</td>\n",
       "      <td>Minnesota Twins</td>\n",
       "      <td>Night Game</td>\n",
       "      <td>Baltimore Orioles</td>\n",
       "      <td>0</td>\n",
       "      <td>9</td>\n",
       "      <td>4</td>\n",
       "      <td>Wednesday</td>\n",
       "      <td>48.0</td>\n",
       "      <td>7.0</td>\n",
       "      <td>Unknown</td>\n",
       "      <td>3.183333</td>\n",
       "      <td>regular season</td>\n",
       "      <td>1</td>\n",
       "    </tr>\n",
       "    <tr>\n",
       "      <td>3</td>\n",
       "      <td>3</td>\n",
       "      <td>18531.0</td>\n",
       "      <td>Washington Nationals</td>\n",
       "      <td>Night Game</td>\n",
       "      <td>Atlanta Braves</td>\n",
       "      <td>1</td>\n",
       "      <td>8</td>\n",
       "      <td>1</td>\n",
       "      <td>Wednesday</td>\n",
       "      <td>65.0</td>\n",
       "      <td>10.0</td>\n",
       "      <td>Cloudy</td>\n",
       "      <td>2.883333</td>\n",
       "      <td>regular season</td>\n",
       "      <td>0</td>\n",
       "    </tr>\n",
       "    <tr>\n",
       "      <td>4</td>\n",
       "      <td>4</td>\n",
       "      <td>18572.0</td>\n",
       "      <td>Colorado Rockies</td>\n",
       "      <td>Day Game</td>\n",
       "      <td>Arizona Diamondbacks</td>\n",
       "      <td>0</td>\n",
       "      <td>8</td>\n",
       "      <td>3</td>\n",
       "      <td>Wednesday</td>\n",
       "      <td>77.0</td>\n",
       "      <td>0.0</td>\n",
       "      <td>In Dome</td>\n",
       "      <td>2.650000</td>\n",
       "      <td>regular season</td>\n",
       "      <td>0</td>\n",
       "    </tr>\n",
       "    <tr>\n",
       "      <td>...</td>\n",
       "      <td>...</td>\n",
       "      <td>...</td>\n",
       "      <td>...</td>\n",
       "      <td>...</td>\n",
       "      <td>...</td>\n",
       "      <td>...</td>\n",
       "      <td>...</td>\n",
       "      <td>...</td>\n",
       "      <td>...</td>\n",
       "      <td>...</td>\n",
       "      <td>...</td>\n",
       "      <td>...</td>\n",
       "      <td>...</td>\n",
       "      <td>...</td>\n",
       "      <td>...</td>\n",
       "    </tr>\n",
       "    <tr>\n",
       "      <td>2458</td>\n",
       "      <td>2458</td>\n",
       "      <td>31042.0</td>\n",
       "      <td>Toronto Blue Jays</td>\n",
       "      <td>Day Game</td>\n",
       "      <td>Tampa Bay Rays</td>\n",
       "      <td>1</td>\n",
       "      <td>7</td>\n",
       "      <td>3</td>\n",
       "      <td>Sunday</td>\n",
       "      <td>72.0</td>\n",
       "      <td>0.0</td>\n",
       "      <td>In Dome</td>\n",
       "      <td>2.850000</td>\n",
       "      <td>regular season</td>\n",
       "      <td>0</td>\n",
       "    </tr>\n",
       "    <tr>\n",
       "      <td>2459</td>\n",
       "      <td>2459</td>\n",
       "      <td>39500.0</td>\n",
       "      <td>St. Louis Cardinals</td>\n",
       "      <td>Day Game</td>\n",
       "      <td>Pittsburgh Pirates</td>\n",
       "      <td>1</td>\n",
       "      <td>9</td>\n",
       "      <td>4</td>\n",
       "      <td>Sunday</td>\n",
       "      <td>39.0</td>\n",
       "      <td>14.0</td>\n",
       "      <td>Unknown</td>\n",
       "      <td>3.033333</td>\n",
       "      <td>regular season</td>\n",
       "      <td>1</td>\n",
       "    </tr>\n",
       "    <tr>\n",
       "      <td>2460</td>\n",
       "      <td>2460</td>\n",
       "      <td>20098.0</td>\n",
       "      <td>San Francisco Giants</td>\n",
       "      <td>Day Game</td>\n",
       "      <td>Milwaukee Brewers</td>\n",
       "      <td>2</td>\n",
       "      <td>9</td>\n",
       "      <td>4</td>\n",
       "      <td>Wednesday</td>\n",
       "      <td>66.0</td>\n",
       "      <td>0.0</td>\n",
       "      <td>In Dome</td>\n",
       "      <td>3.316667</td>\n",
       "      <td>regular season</td>\n",
       "      <td>1</td>\n",
       "    </tr>\n",
       "    <tr>\n",
       "      <td>2461</td>\n",
       "      <td>2461</td>\n",
       "      <td>17883.0</td>\n",
       "      <td>Detroit Tigers</td>\n",
       "      <td>Day Game</td>\n",
       "      <td>Miami Marlins</td>\n",
       "      <td>1</td>\n",
       "      <td>10</td>\n",
       "      <td>3</td>\n",
       "      <td>Wednesday</td>\n",
       "      <td>71.0</td>\n",
       "      <td>0.0</td>\n",
       "      <td>In Dome</td>\n",
       "      <td>3.366667</td>\n",
       "      <td>regular season</td>\n",
       "      <td>0</td>\n",
       "    </tr>\n",
       "    <tr>\n",
       "      <td>2462</td>\n",
       "      <td>2462</td>\n",
       "      <td>10298.0</td>\n",
       "      <td>Boston Red Sox</td>\n",
       "      <td>Night Game</td>\n",
       "      <td>Cleveland Indians</td>\n",
       "      <td>0</td>\n",
       "      <td>9</td>\n",
       "      <td>7</td>\n",
       "      <td>Wednesday</td>\n",
       "      <td>60.0</td>\n",
       "      <td>7.0</td>\n",
       "      <td>Unknown</td>\n",
       "      <td>3.483333</td>\n",
       "      <td>regular season</td>\n",
       "      <td>1</td>\n",
       "    </tr>\n",
       "  </tbody>\n",
       "</table>\n",
       "<p>2460 rows × 15 columns</p>\n",
       "</div>"
      ],
      "text/plain": [
       "      Unnamed: 0  Fan_Attendance              Away_Team   Game_Type  \\\n",
       "0              0         40030.0          New York Mets  Night Game   \n",
       "1              1         21621.0  Philadelphia Phillies  Night Game   \n",
       "2              2         12622.0        Minnesota Twins  Night Game   \n",
       "3              3         18531.0   Washington Nationals  Night Game   \n",
       "4              4         18572.0       Colorado Rockies    Day Game   \n",
       "...          ...             ...                    ...         ...   \n",
       "2458        2458         31042.0      Toronto Blue Jays    Day Game   \n",
       "2459        2459         39500.0    St. Louis Cardinals    Day Game   \n",
       "2460        2460         20098.0   San Francisco Giants    Day Game   \n",
       "2461        2461         17883.0         Detroit Tigers    Day Game   \n",
       "2462        2462         10298.0         Boston Red Sox  Night Game   \n",
       "\n",
       "                 Home_Team  home_team_errors  home_team_hits  home_team_runs  \\\n",
       "0       Kansas City Royals                 0               9               4   \n",
       "1          Cincinnati Reds                 0               8               3   \n",
       "2        Baltimore Orioles                 0               9               4   \n",
       "3           Atlanta Braves                 1               8               1   \n",
       "4     Arizona Diamondbacks                 0               8               3   \n",
       "...                    ...               ...             ...             ...   \n",
       "2458        Tampa Bay Rays                 1               7               3   \n",
       "2459    Pittsburgh Pirates                 1               9               4   \n",
       "2460     Milwaukee Brewers                 2               9               4   \n",
       "2461         Miami Marlins                 1              10               3   \n",
       "2462     Cleveland Indians                 0               9               7   \n",
       "\n",
       "     Day_of_Week  Temperature  Wind_Speed       Sky  game_hours_dec  \\\n",
       "0         Sunday         74.0        14.0     Sunny        3.216667   \n",
       "1      Wednesday         55.0        24.0  Overcast        2.383333   \n",
       "2      Wednesday         48.0         7.0   Unknown        3.183333   \n",
       "3      Wednesday         65.0        10.0    Cloudy        2.883333   \n",
       "4      Wednesday         77.0         0.0   In Dome        2.650000   \n",
       "...          ...          ...         ...       ...             ...   \n",
       "2458      Sunday         72.0         0.0   In Dome        2.850000   \n",
       "2459      Sunday         39.0        14.0   Unknown        3.033333   \n",
       "2460   Wednesday         66.0         0.0   In Dome        3.316667   \n",
       "2461   Wednesday         71.0         0.0   In Dome        3.366667   \n",
       "2462   Wednesday         60.0         7.0   Unknown        3.483333   \n",
       "\n",
       "              Season  Home_Team_Win  \n",
       "0     regular season              1  \n",
       "1     regular season              1  \n",
       "2     regular season              1  \n",
       "3     regular season              0  \n",
       "4     regular season              0  \n",
       "...              ...            ...  \n",
       "2458  regular season              0  \n",
       "2459  regular season              1  \n",
       "2460  regular season              1  \n",
       "2461  regular season              0  \n",
       "2462  regular season              1  \n",
       "\n",
       "[2460 rows x 15 columns]"
      ]
     },
     "execution_count": 10,
     "metadata": {},
     "output_type": "execute_result"
    }
   ],
   "source": [
    "Baseball_Data = Updated_Data.dropna(axis=0, subset=['Fan_Attendance'])\n",
    "Baseball_Data"
   ]
  },
  {
   "cell_type": "code",
   "execution_count": 11,
   "metadata": {},
   "outputs": [
    {
     "data": {
      "text/html": [
       "<div>\n",
       "<style scoped>\n",
       "    .dataframe tbody tr th:only-of-type {\n",
       "        vertical-align: middle;\n",
       "    }\n",
       "\n",
       "    .dataframe tbody tr th {\n",
       "        vertical-align: top;\n",
       "    }\n",
       "\n",
       "    .dataframe thead th {\n",
       "        text-align: right;\n",
       "    }\n",
       "</style>\n",
       "<table border=\"1\" class=\"dataframe\">\n",
       "  <thead>\n",
       "    <tr style=\"text-align: right;\">\n",
       "      <th></th>\n",
       "      <th>Unnamed: 0</th>\n",
       "      <th>Fan_Attendance</th>\n",
       "      <th>Away_Team</th>\n",
       "      <th>Game_Type</th>\n",
       "      <th>Home_Team</th>\n",
       "      <th>home_team_errors</th>\n",
       "      <th>home_team_hits</th>\n",
       "      <th>home_team_runs</th>\n",
       "      <th>Day_of_Week</th>\n",
       "      <th>Temperature</th>\n",
       "      <th>Wind_Speed</th>\n",
       "      <th>Sky</th>\n",
       "      <th>game_hours_dec</th>\n",
       "      <th>Season</th>\n",
       "      <th>Home_Team_Win</th>\n",
       "    </tr>\n",
       "  </thead>\n",
       "  <tbody>\n",
       "    <tr>\n",
       "      <td>0</td>\n",
       "      <td>False</td>\n",
       "      <td>False</td>\n",
       "      <td>False</td>\n",
       "      <td>False</td>\n",
       "      <td>False</td>\n",
       "      <td>False</td>\n",
       "      <td>False</td>\n",
       "      <td>False</td>\n",
       "      <td>False</td>\n",
       "      <td>False</td>\n",
       "      <td>False</td>\n",
       "      <td>False</td>\n",
       "      <td>False</td>\n",
       "      <td>False</td>\n",
       "      <td>False</td>\n",
       "    </tr>\n",
       "    <tr>\n",
       "      <td>1</td>\n",
       "      <td>False</td>\n",
       "      <td>False</td>\n",
       "      <td>False</td>\n",
       "      <td>False</td>\n",
       "      <td>False</td>\n",
       "      <td>False</td>\n",
       "      <td>False</td>\n",
       "      <td>False</td>\n",
       "      <td>False</td>\n",
       "      <td>False</td>\n",
       "      <td>False</td>\n",
       "      <td>False</td>\n",
       "      <td>False</td>\n",
       "      <td>False</td>\n",
       "      <td>False</td>\n",
       "    </tr>\n",
       "    <tr>\n",
       "      <td>2</td>\n",
       "      <td>False</td>\n",
       "      <td>False</td>\n",
       "      <td>False</td>\n",
       "      <td>False</td>\n",
       "      <td>False</td>\n",
       "      <td>False</td>\n",
       "      <td>False</td>\n",
       "      <td>False</td>\n",
       "      <td>False</td>\n",
       "      <td>False</td>\n",
       "      <td>False</td>\n",
       "      <td>False</td>\n",
       "      <td>False</td>\n",
       "      <td>False</td>\n",
       "      <td>False</td>\n",
       "    </tr>\n",
       "    <tr>\n",
       "      <td>3</td>\n",
       "      <td>False</td>\n",
       "      <td>False</td>\n",
       "      <td>False</td>\n",
       "      <td>False</td>\n",
       "      <td>False</td>\n",
       "      <td>False</td>\n",
       "      <td>False</td>\n",
       "      <td>False</td>\n",
       "      <td>False</td>\n",
       "      <td>False</td>\n",
       "      <td>False</td>\n",
       "      <td>False</td>\n",
       "      <td>False</td>\n",
       "      <td>False</td>\n",
       "      <td>False</td>\n",
       "    </tr>\n",
       "    <tr>\n",
       "      <td>4</td>\n",
       "      <td>False</td>\n",
       "      <td>False</td>\n",
       "      <td>False</td>\n",
       "      <td>False</td>\n",
       "      <td>False</td>\n",
       "      <td>False</td>\n",
       "      <td>False</td>\n",
       "      <td>False</td>\n",
       "      <td>False</td>\n",
       "      <td>False</td>\n",
       "      <td>False</td>\n",
       "      <td>False</td>\n",
       "      <td>False</td>\n",
       "      <td>False</td>\n",
       "      <td>False</td>\n",
       "    </tr>\n",
       "    <tr>\n",
       "      <td>...</td>\n",
       "      <td>...</td>\n",
       "      <td>...</td>\n",
       "      <td>...</td>\n",
       "      <td>...</td>\n",
       "      <td>...</td>\n",
       "      <td>...</td>\n",
       "      <td>...</td>\n",
       "      <td>...</td>\n",
       "      <td>...</td>\n",
       "      <td>...</td>\n",
       "      <td>...</td>\n",
       "      <td>...</td>\n",
       "      <td>...</td>\n",
       "      <td>...</td>\n",
       "      <td>...</td>\n",
       "    </tr>\n",
       "    <tr>\n",
       "      <td>2458</td>\n",
       "      <td>False</td>\n",
       "      <td>False</td>\n",
       "      <td>False</td>\n",
       "      <td>False</td>\n",
       "      <td>False</td>\n",
       "      <td>False</td>\n",
       "      <td>False</td>\n",
       "      <td>False</td>\n",
       "      <td>False</td>\n",
       "      <td>False</td>\n",
       "      <td>False</td>\n",
       "      <td>False</td>\n",
       "      <td>False</td>\n",
       "      <td>False</td>\n",
       "      <td>False</td>\n",
       "    </tr>\n",
       "    <tr>\n",
       "      <td>2459</td>\n",
       "      <td>False</td>\n",
       "      <td>False</td>\n",
       "      <td>False</td>\n",
       "      <td>False</td>\n",
       "      <td>False</td>\n",
       "      <td>False</td>\n",
       "      <td>False</td>\n",
       "      <td>False</td>\n",
       "      <td>False</td>\n",
       "      <td>False</td>\n",
       "      <td>False</td>\n",
       "      <td>False</td>\n",
       "      <td>False</td>\n",
       "      <td>False</td>\n",
       "      <td>False</td>\n",
       "    </tr>\n",
       "    <tr>\n",
       "      <td>2460</td>\n",
       "      <td>False</td>\n",
       "      <td>False</td>\n",
       "      <td>False</td>\n",
       "      <td>False</td>\n",
       "      <td>False</td>\n",
       "      <td>False</td>\n",
       "      <td>False</td>\n",
       "      <td>False</td>\n",
       "      <td>False</td>\n",
       "      <td>False</td>\n",
       "      <td>False</td>\n",
       "      <td>False</td>\n",
       "      <td>False</td>\n",
       "      <td>False</td>\n",
       "      <td>False</td>\n",
       "    </tr>\n",
       "    <tr>\n",
       "      <td>2461</td>\n",
       "      <td>False</td>\n",
       "      <td>False</td>\n",
       "      <td>False</td>\n",
       "      <td>False</td>\n",
       "      <td>False</td>\n",
       "      <td>False</td>\n",
       "      <td>False</td>\n",
       "      <td>False</td>\n",
       "      <td>False</td>\n",
       "      <td>False</td>\n",
       "      <td>False</td>\n",
       "      <td>False</td>\n",
       "      <td>False</td>\n",
       "      <td>False</td>\n",
       "      <td>False</td>\n",
       "    </tr>\n",
       "    <tr>\n",
       "      <td>2462</td>\n",
       "      <td>False</td>\n",
       "      <td>False</td>\n",
       "      <td>False</td>\n",
       "      <td>False</td>\n",
       "      <td>False</td>\n",
       "      <td>False</td>\n",
       "      <td>False</td>\n",
       "      <td>False</td>\n",
       "      <td>False</td>\n",
       "      <td>False</td>\n",
       "      <td>False</td>\n",
       "      <td>False</td>\n",
       "      <td>False</td>\n",
       "      <td>False</td>\n",
       "      <td>False</td>\n",
       "    </tr>\n",
       "  </tbody>\n",
       "</table>\n",
       "<p>2460 rows × 15 columns</p>\n",
       "</div>"
      ],
      "text/plain": [
       "      Unnamed: 0  Fan_Attendance  Away_Team  Game_Type  Home_Team  \\\n",
       "0          False           False      False      False      False   \n",
       "1          False           False      False      False      False   \n",
       "2          False           False      False      False      False   \n",
       "3          False           False      False      False      False   \n",
       "4          False           False      False      False      False   \n",
       "...          ...             ...        ...        ...        ...   \n",
       "2458       False           False      False      False      False   \n",
       "2459       False           False      False      False      False   \n",
       "2460       False           False      False      False      False   \n",
       "2461       False           False      False      False      False   \n",
       "2462       False           False      False      False      False   \n",
       "\n",
       "      home_team_errors  home_team_hits  home_team_runs  Day_of_Week  \\\n",
       "0                False           False           False        False   \n",
       "1                False           False           False        False   \n",
       "2                False           False           False        False   \n",
       "3                False           False           False        False   \n",
       "4                False           False           False        False   \n",
       "...                ...             ...             ...          ...   \n",
       "2458             False           False           False        False   \n",
       "2459             False           False           False        False   \n",
       "2460             False           False           False        False   \n",
       "2461             False           False           False        False   \n",
       "2462             False           False           False        False   \n",
       "\n",
       "      Temperature  Wind_Speed    Sky  game_hours_dec  Season  Home_Team_Win  \n",
       "0           False       False  False           False   False          False  \n",
       "1           False       False  False           False   False          False  \n",
       "2           False       False  False           False   False          False  \n",
       "3           False       False  False           False   False          False  \n",
       "4           False       False  False           False   False          False  \n",
       "...           ...         ...    ...             ...     ...            ...  \n",
       "2458        False       False  False           False   False          False  \n",
       "2459        False       False  False           False   False          False  \n",
       "2460        False       False  False           False   False          False  \n",
       "2461        False       False  False           False   False          False  \n",
       "2462        False       False  False           False   False          False  \n",
       "\n",
       "[2460 rows x 15 columns]"
      ]
     },
     "execution_count": 11,
     "metadata": {},
     "output_type": "execute_result"
    }
   ],
   "source": [
    "Baseball_Data.isnull()"
   ]
  },
  {
   "cell_type": "code",
   "execution_count": 12,
   "metadata": {},
   "outputs": [
    {
     "data": {
      "text/html": [
       "<div>\n",
       "<style scoped>\n",
       "    .dataframe tbody tr th:only-of-type {\n",
       "        vertical-align: middle;\n",
       "    }\n",
       "\n",
       "    .dataframe tbody tr th {\n",
       "        vertical-align: top;\n",
       "    }\n",
       "\n",
       "    .dataframe thead th {\n",
       "        text-align: right;\n",
       "    }\n",
       "</style>\n",
       "<table border=\"1\" class=\"dataframe\">\n",
       "  <thead>\n",
       "    <tr style=\"text-align: right;\">\n",
       "      <th></th>\n",
       "      <th>Unnamed: 0</th>\n",
       "      <th>Fan_Attendance</th>\n",
       "      <th>Away_Team</th>\n",
       "      <th>Game_Type</th>\n",
       "      <th>Home_Team</th>\n",
       "      <th>home_team_errors</th>\n",
       "      <th>home_team_hits</th>\n",
       "      <th>home_team_runs</th>\n",
       "      <th>Day_of_Week</th>\n",
       "      <th>Temperature</th>\n",
       "      <th>Wind_Speed</th>\n",
       "      <th>Sky</th>\n",
       "      <th>game_hours_dec</th>\n",
       "      <th>Season</th>\n",
       "      <th>Home_Team_Win</th>\n",
       "    </tr>\n",
       "  </thead>\n",
       "  <tbody>\n",
       "    <tr>\n",
       "      <td>0</td>\n",
       "      <td>0</td>\n",
       "      <td>40030.0</td>\n",
       "      <td>New York Mets</td>\n",
       "      <td>Night Game</td>\n",
       "      <td>Kansas City Royals</td>\n",
       "      <td>0</td>\n",
       "      <td>9</td>\n",
       "      <td>4</td>\n",
       "      <td>Sunday</td>\n",
       "      <td>74.0</td>\n",
       "      <td>14.0</td>\n",
       "      <td>Sunny</td>\n",
       "      <td>3.216667</td>\n",
       "      <td>regular season</td>\n",
       "      <td>1</td>\n",
       "    </tr>\n",
       "    <tr>\n",
       "      <td>1</td>\n",
       "      <td>1</td>\n",
       "      <td>21621.0</td>\n",
       "      <td>Philadelphia Phillies</td>\n",
       "      <td>Night Game</td>\n",
       "      <td>Cincinnati Reds</td>\n",
       "      <td>0</td>\n",
       "      <td>8</td>\n",
       "      <td>3</td>\n",
       "      <td>Wednesday</td>\n",
       "      <td>55.0</td>\n",
       "      <td>24.0</td>\n",
       "      <td>Overcast</td>\n",
       "      <td>2.383333</td>\n",
       "      <td>regular season</td>\n",
       "      <td>1</td>\n",
       "    </tr>\n",
       "    <tr>\n",
       "      <td>2</td>\n",
       "      <td>2</td>\n",
       "      <td>12622.0</td>\n",
       "      <td>Minnesota Twins</td>\n",
       "      <td>Night Game</td>\n",
       "      <td>Baltimore Orioles</td>\n",
       "      <td>0</td>\n",
       "      <td>9</td>\n",
       "      <td>4</td>\n",
       "      <td>Wednesday</td>\n",
       "      <td>48.0</td>\n",
       "      <td>7.0</td>\n",
       "      <td>Unknown</td>\n",
       "      <td>3.183333</td>\n",
       "      <td>regular season</td>\n",
       "      <td>1</td>\n",
       "    </tr>\n",
       "    <tr>\n",
       "      <td>3</td>\n",
       "      <td>3</td>\n",
       "      <td>18531.0</td>\n",
       "      <td>Washington Nationals</td>\n",
       "      <td>Night Game</td>\n",
       "      <td>Atlanta Braves</td>\n",
       "      <td>1</td>\n",
       "      <td>8</td>\n",
       "      <td>1</td>\n",
       "      <td>Wednesday</td>\n",
       "      <td>65.0</td>\n",
       "      <td>10.0</td>\n",
       "      <td>Cloudy</td>\n",
       "      <td>2.883333</td>\n",
       "      <td>regular season</td>\n",
       "      <td>0</td>\n",
       "    </tr>\n",
       "    <tr>\n",
       "      <td>4</td>\n",
       "      <td>4</td>\n",
       "      <td>18572.0</td>\n",
       "      <td>Colorado Rockies</td>\n",
       "      <td>Day Game</td>\n",
       "      <td>Arizona Diamondbacks</td>\n",
       "      <td>0</td>\n",
       "      <td>8</td>\n",
       "      <td>3</td>\n",
       "      <td>Wednesday</td>\n",
       "      <td>77.0</td>\n",
       "      <td>0.0</td>\n",
       "      <td>In Dome</td>\n",
       "      <td>2.650000</td>\n",
       "      <td>regular season</td>\n",
       "      <td>0</td>\n",
       "    </tr>\n",
       "  </tbody>\n",
       "</table>\n",
       "</div>"
      ],
      "text/plain": [
       "   Unnamed: 0  Fan_Attendance              Away_Team   Game_Type  \\\n",
       "0           0         40030.0          New York Mets  Night Game   \n",
       "1           1         21621.0  Philadelphia Phillies  Night Game   \n",
       "2           2         12622.0        Minnesota Twins  Night Game   \n",
       "3           3         18531.0   Washington Nationals  Night Game   \n",
       "4           4         18572.0       Colorado Rockies    Day Game   \n",
       "\n",
       "              Home_Team  home_team_errors  home_team_hits  home_team_runs  \\\n",
       "0    Kansas City Royals                 0               9               4   \n",
       "1       Cincinnati Reds                 0               8               3   \n",
       "2     Baltimore Orioles                 0               9               4   \n",
       "3        Atlanta Braves                 1               8               1   \n",
       "4  Arizona Diamondbacks                 0               8               3   \n",
       "\n",
       "  Day_of_Week  Temperature  Wind_Speed       Sky  game_hours_dec  \\\n",
       "0      Sunday         74.0        14.0     Sunny        3.216667   \n",
       "1   Wednesday         55.0        24.0  Overcast        2.383333   \n",
       "2   Wednesday         48.0         7.0   Unknown        3.183333   \n",
       "3   Wednesday         65.0        10.0    Cloudy        2.883333   \n",
       "4   Wednesday         77.0         0.0   In Dome        2.650000   \n",
       "\n",
       "           Season  Home_Team_Win  \n",
       "0  regular season              1  \n",
       "1  regular season              1  \n",
       "2  regular season              1  \n",
       "3  regular season              0  \n",
       "4  regular season              0  "
      ]
     },
     "execution_count": 12,
     "metadata": {},
     "output_type": "execute_result"
    }
   ],
   "source": [
    "Baseball = Baseball_Data.isnull()\n",
    "Baseball_Data.head()"
   ]
  },
  {
   "cell_type": "markdown",
   "metadata": {},
   "source": [
    "***Double Checking that my code ran all the way through and they it took out all Null Values***"
   ]
  },
  {
   "cell_type": "code",
   "execution_count": 13,
   "metadata": {},
   "outputs": [
    {
     "data": {
      "text/plain": [
       "Unnamed: 0          0\n",
       "Fan_Attendance      0\n",
       "Away_Team           0\n",
       "Game_Type           0\n",
       "Home_Team           0\n",
       "home_team_errors    0\n",
       "home_team_hits      0\n",
       "home_team_runs      0\n",
       "Day_of_Week         0\n",
       "Temperature         0\n",
       "Wind_Speed          0\n",
       "Sky                 0\n",
       "game_hours_dec      0\n",
       "Season              0\n",
       "Home_Team_Win       0\n",
       "dtype: int64"
      ]
     },
     "execution_count": 13,
     "metadata": {},
     "output_type": "execute_result"
    }
   ],
   "source": [
    "missing = Baseball.sum()\n",
    "missing"
   ]
  },
  {
   "cell_type": "code",
   "execution_count": 14,
   "metadata": {},
   "outputs": [
    {
     "data": {
      "text/plain": [
       "Unnamed: 0          0.0\n",
       "Fan_Attendance      0.0\n",
       "Away_Team           0.0\n",
       "Game_Type           0.0\n",
       "Home_Team           0.0\n",
       "home_team_errors    0.0\n",
       "home_team_hits      0.0\n",
       "home_team_runs      0.0\n",
       "Day_of_Week         0.0\n",
       "Temperature         0.0\n",
       "Wind_Speed          0.0\n",
       "Sky                 0.0\n",
       "game_hours_dec      0.0\n",
       "Season              0.0\n",
       "Home_Team_Win       0.0\n",
       "dtype: float64"
      ]
     },
     "execution_count": 14,
     "metadata": {},
     "output_type": "execute_result"
    }
   ],
   "source": [
    "missing/len(data) * 100"
   ]
  },
  {
   "cell_type": "markdown",
   "metadata": {},
   "source": [
    "***We are able to see that there are no null values in the dataset***"
   ]
  },
  {
   "cell_type": "markdown",
   "metadata": {},
   "source": [
    "***3.) Encoding categorical variables***"
   ]
  },
  {
   "cell_type": "markdown",
   "metadata": {},
   "source": [
    "***Now I am trying to analyze my variables more in depth and find out which ones I want to use and which ones I need to change)***"
   ]
  },
  {
   "cell_type": "code",
   "execution_count": 15,
   "metadata": {},
   "outputs": [
    {
     "data": {
      "text/plain": [
       "Unnamed: 0            int64\n",
       "Fan_Attendance      float64\n",
       "Away_Team            object\n",
       "Game_Type            object\n",
       "Home_Team            object\n",
       "home_team_errors      int64\n",
       "home_team_hits        int64\n",
       "home_team_runs        int64\n",
       "Day_of_Week          object\n",
       "Temperature         float64\n",
       "Wind_Speed          float64\n",
       "Sky                  object\n",
       "game_hours_dec      float64\n",
       "Season               object\n",
       "Home_Team_Win         int64\n",
       "dtype: object"
      ]
     },
     "execution_count": 15,
     "metadata": {},
     "output_type": "execute_result"
    }
   ],
   "source": [
    "Baseball_Data.dtypes"
   ]
  },
  {
   "cell_type": "markdown",
   "metadata": {},
   "source": [
    "***To make it easier for me I will replace all Object (Text) data from my Dataset and replace it with an integer***"
   ]
  },
  {
   "cell_type": "code",
   "execution_count": 16,
   "metadata": {},
   "outputs": [
    {
     "data": {
      "text/html": [
       "<div>\n",
       "<style scoped>\n",
       "    .dataframe tbody tr th:only-of-type {\n",
       "        vertical-align: middle;\n",
       "    }\n",
       "\n",
       "    .dataframe tbody tr th {\n",
       "        vertical-align: top;\n",
       "    }\n",
       "\n",
       "    .dataframe thead th {\n",
       "        text-align: right;\n",
       "    }\n",
       "</style>\n",
       "<table border=\"1\" class=\"dataframe\">\n",
       "  <thead>\n",
       "    <tr style=\"text-align: right;\">\n",
       "      <th></th>\n",
       "      <th>Away_Team</th>\n",
       "      <th>Game_Type</th>\n",
       "      <th>Home_Team</th>\n",
       "      <th>Day_of_Week</th>\n",
       "      <th>Sky</th>\n",
       "      <th>Season</th>\n",
       "    </tr>\n",
       "  </thead>\n",
       "  <tbody>\n",
       "    <tr>\n",
       "      <td>0</td>\n",
       "      <td>New York Mets</td>\n",
       "      <td>Night Game</td>\n",
       "      <td>Kansas City Royals</td>\n",
       "      <td>Sunday</td>\n",
       "      <td>Sunny</td>\n",
       "      <td>regular season</td>\n",
       "    </tr>\n",
       "    <tr>\n",
       "      <td>1</td>\n",
       "      <td>Philadelphia Phillies</td>\n",
       "      <td>Night Game</td>\n",
       "      <td>Cincinnati Reds</td>\n",
       "      <td>Wednesday</td>\n",
       "      <td>Overcast</td>\n",
       "      <td>regular season</td>\n",
       "    </tr>\n",
       "    <tr>\n",
       "      <td>2</td>\n",
       "      <td>Minnesota Twins</td>\n",
       "      <td>Night Game</td>\n",
       "      <td>Baltimore Orioles</td>\n",
       "      <td>Wednesday</td>\n",
       "      <td>Unknown</td>\n",
       "      <td>regular season</td>\n",
       "    </tr>\n",
       "    <tr>\n",
       "      <td>3</td>\n",
       "      <td>Washington Nationals</td>\n",
       "      <td>Night Game</td>\n",
       "      <td>Atlanta Braves</td>\n",
       "      <td>Wednesday</td>\n",
       "      <td>Cloudy</td>\n",
       "      <td>regular season</td>\n",
       "    </tr>\n",
       "    <tr>\n",
       "      <td>4</td>\n",
       "      <td>Colorado Rockies</td>\n",
       "      <td>Day Game</td>\n",
       "      <td>Arizona Diamondbacks</td>\n",
       "      <td>Wednesday</td>\n",
       "      <td>In Dome</td>\n",
       "      <td>regular season</td>\n",
       "    </tr>\n",
       "    <tr>\n",
       "      <td>5</td>\n",
       "      <td>Seattle Mariners</td>\n",
       "      <td>Night Game</td>\n",
       "      <td>Texas Rangers</td>\n",
       "      <td>Tuesday</td>\n",
       "      <td>Cloudy</td>\n",
       "      <td>regular season</td>\n",
       "    </tr>\n",
       "    <tr>\n",
       "      <td>6</td>\n",
       "      <td>Toronto Blue Jays</td>\n",
       "      <td>Night Game</td>\n",
       "      <td>Tampa Bay Rays</td>\n",
       "      <td>Tuesday</td>\n",
       "      <td>In Dome</td>\n",
       "      <td>regular season</td>\n",
       "    </tr>\n",
       "    <tr>\n",
       "      <td>7</td>\n",
       "      <td>Los Angeles Dodgers</td>\n",
       "      <td>Night Game</td>\n",
       "      <td>San Diego Padres</td>\n",
       "      <td>Tuesday</td>\n",
       "      <td>Unknown</td>\n",
       "      <td>regular season</td>\n",
       "    </tr>\n",
       "    <tr>\n",
       "      <td>8</td>\n",
       "      <td>St. Louis Cardinals</td>\n",
       "      <td>Night Game</td>\n",
       "      <td>Pittsburgh Pirates</td>\n",
       "      <td>Tuesday</td>\n",
       "      <td>Sunny</td>\n",
       "      <td>regular season</td>\n",
       "    </tr>\n",
       "    <tr>\n",
       "      <td>9</td>\n",
       "      <td>Chicago White Sox</td>\n",
       "      <td>Night Game</td>\n",
       "      <td>Oakland Athletics</td>\n",
       "      <td>Tuesday</td>\n",
       "      <td>Cloudy</td>\n",
       "      <td>regular season</td>\n",
       "    </tr>\n",
       "  </tbody>\n",
       "</table>\n",
       "</div>"
      ],
      "text/plain": [
       "               Away_Team   Game_Type             Home_Team Day_of_Week  \\\n",
       "0          New York Mets  Night Game    Kansas City Royals      Sunday   \n",
       "1  Philadelphia Phillies  Night Game       Cincinnati Reds   Wednesday   \n",
       "2        Minnesota Twins  Night Game     Baltimore Orioles   Wednesday   \n",
       "3   Washington Nationals  Night Game        Atlanta Braves   Wednesday   \n",
       "4       Colorado Rockies    Day Game  Arizona Diamondbacks   Wednesday   \n",
       "5       Seattle Mariners  Night Game         Texas Rangers     Tuesday   \n",
       "6      Toronto Blue Jays  Night Game        Tampa Bay Rays     Tuesday   \n",
       "7    Los Angeles Dodgers  Night Game      San Diego Padres     Tuesday   \n",
       "8    St. Louis Cardinals  Night Game    Pittsburgh Pirates     Tuesday   \n",
       "9      Chicago White Sox  Night Game     Oakland Athletics     Tuesday   \n",
       "\n",
       "        Sky          Season  \n",
       "0     Sunny  regular season  \n",
       "1  Overcast  regular season  \n",
       "2   Unknown  regular season  \n",
       "3    Cloudy  regular season  \n",
       "4   In Dome  regular season  \n",
       "5    Cloudy  regular season  \n",
       "6   In Dome  regular season  \n",
       "7   Unknown  regular season  \n",
       "8     Sunny  regular season  \n",
       "9    Cloudy  regular season  "
      ]
     },
     "execution_count": 16,
     "metadata": {},
     "output_type": "execute_result"
    }
   ],
   "source": [
    "Object_Columns = Baseball_Data.select_dtypes(include=['object']).copy()\n",
    "\n",
    "Object_Columns.head(10)"
   ]
  },
  {
   "cell_type": "code",
   "execution_count": 17,
   "metadata": {},
   "outputs": [
    {
     "data": {
      "text/plain": [
       "Night Game    1664\n",
       "Day Game       796\n",
       "Name: Game_Type, dtype: int64"
      ]
     },
     "execution_count": 17,
     "metadata": {},
     "output_type": "execute_result"
    }
   ],
   "source": [
    "Object_Columns[\"Game_Type\"].value_counts()"
   ]
  },
  {
   "cell_type": "code",
   "execution_count": 18,
   "metadata": {},
   "outputs": [
    {
     "data": {
      "text/plain": [
       "Saturday     396\n",
       "Friday       394\n",
       "Sunday       392\n",
       "Wednesday    379\n",
       "Tuesday      374\n",
       "Monday       277\n",
       "Thursday     248\n",
       "Name: Day_of_Week, dtype: int64"
      ]
     },
     "execution_count": 18,
     "metadata": {},
     "output_type": "execute_result"
    }
   ],
   "source": [
    "Object_Columns[\"Day_of_Week\"].value_counts()"
   ]
  },
  {
   "cell_type": "code",
   "execution_count": 19,
   "metadata": {},
   "outputs": [
    {
     "data": {
      "text/plain": [
       "Cloudy      759\n",
       "Sunny       744\n",
       "Unknown     402\n",
       "In Dome     356\n",
       "Overcast    159\n",
       "Drizzle      16\n",
       "Night        12\n",
       "Rain         12\n",
       "Name: Sky, dtype: int64"
      ]
     },
     "execution_count": 19,
     "metadata": {},
     "output_type": "execute_result"
    }
   ],
   "source": [
    "Object_Columns[\"Sky\"].value_counts()"
   ]
  },
  {
   "cell_type": "code",
   "execution_count": 20,
   "metadata": {},
   "outputs": [
    {
     "data": {
      "text/plain": [
       "regular season    2425\n",
       "post season         35\n",
       "Name: Season, dtype: int64"
      ]
     },
     "execution_count": 20,
     "metadata": {},
     "output_type": "execute_result"
    }
   ],
   "source": [
    "Object_Columns[\"Season\"].value_counts()"
   ]
  },
  {
   "cell_type": "code",
   "execution_count": 21,
   "metadata": {},
   "outputs": [
    {
     "data": {
      "text/plain": [
       "Chicago Cubs                     90\n",
       "Los Angeles Dodgers              87\n",
       "Cleveland Indians                86\n",
       "Toronto Blue Jays                85\n",
       "San Francisco Giants             84\n",
       "Washington Nationals             83\n",
       "Boston Red Sox                   83\n",
       "Baltimore Orioles                82\n",
       "Texas Rangers                    82\n",
       "New York Yankees                 81\n",
       "Kansas City Royals               81\n",
       "Chicago White Sox                81\n",
       "Tampa Bay Rays                   81\n",
       "San Diego Padres                 81\n",
       "Minnesota Twins                  81\n",
       "Detroit Tigers                   81\n",
       "Los Angeles Angels of Anaheim    81\n",
       "Pittsburgh Pirates               81\n",
       "Milwaukee Brewers                81\n",
       "Philadelphia Phillies            81\n",
       "Arizona Diamondbacks             81\n",
       "Houston Astros                   81\n",
       "Miami Marlins                    81\n",
       "Colorado Rockies                 81\n",
       "Seattle Mariners                 81\n",
       "Cincinnati Reds                  81\n",
       "Oakland Athletics                81\n",
       "Atlanta Braves                   80\n",
       "New York Mets                    80\n",
       "St. Louis Cardinals              80\n",
       "Name: Away_Team, dtype: int64"
      ]
     },
     "execution_count": 21,
     "metadata": {},
     "output_type": "execute_result"
    }
   ],
   "source": [
    "Object_Columns[\"Away_Team\"].value_counts()"
   ]
  },
  {
   "cell_type": "code",
   "execution_count": 22,
   "metadata": {},
   "outputs": [
    {
     "data": {
      "text/plain": [
       "Cleveland Indians                89\n",
       "Chicago Cubs                     89\n",
       "Toronto Blue Jays                86\n",
       "Los Angeles Dodgers              86\n",
       "Washington Nationals             84\n",
       "San Francisco Giants             83\n",
       "Texas Rangers                    83\n",
       "Boston Red Sox                   82\n",
       "Milwaukee Brewers                81\n",
       "Minnesota Twins                  81\n",
       "Baltimore Orioles                81\n",
       "San Diego Padres                 81\n",
       "New York Mets                    81\n",
       "Tampa Bay Rays                   81\n",
       "Los Angeles Angels of Anaheim    81\n",
       "New York Yankees                 81\n",
       "Kansas City Royals               81\n",
       "Philadelphia Phillies            81\n",
       "Arizona Diamondbacks             81\n",
       "St. Louis Cardinals              81\n",
       "Houston Astros                   81\n",
       "Atlanta Braves                   81\n",
       "Colorado Rockies                 81\n",
       "Seattle Mariners                 81\n",
       "Cincinnati Reds                  81\n",
       "Oakland Athletics                81\n",
       "Pittsburgh Pirates               80\n",
       "Chicago White Sox                80\n",
       "Miami Marlins                    80\n",
       "Detroit Tigers                   80\n",
       "Name: Home_Team, dtype: int64"
      ]
     },
     "execution_count": 22,
     "metadata": {},
     "output_type": "execute_result"
    }
   ],
   "source": [
    "Object_Columns[\"Home_Team\"].value_counts()"
   ]
  },
  {
   "cell_type": "markdown",
   "metadata": {},
   "source": [
    "***Above I ran a volune.counts() function in order to find out how many specific datapoints I have for each variable. Based off that I will replace each object value and assign it a numeric value.***"
   ]
  },
  {
   "cell_type": "code",
   "execution_count": 23,
   "metadata": {},
   "outputs": [
    {
     "data": {
      "text/plain": [
       "{'Game_Type': {'Night Game': 2, 'Day Game': 1},\n",
       " 'Day_of_Week': {'Monday': 1,\n",
       "  'Tuesday': 2,\n",
       "  'Wednesday': 3,\n",
       "  'Thursday': 4,\n",
       "  'Friday': 5,\n",
       "  'Saturday': 6,\n",
       "  'Sunday': 7},\n",
       " 'Sky': {'Cloudy': 4,\n",
       "  'Sunny': 6,\n",
       "  'Unknown': 0,\n",
       "  'In Dome': 5,\n",
       "  'Overcast': 3,\n",
       "  'Drizzle': 2,\n",
       "  'Rain': 1,\n",
       "  'Night': 7},\n",
       " 'Season': {'regular season': 1, 'post season': 2},\n",
       " 'Away_Team': {'Chicago Cubs': 1,\n",
       "  'Los Angeles Dodgers': 2,\n",
       "  'Cleveland Indians': 3,\n",
       "  'Toronto Blue Jays': 4,\n",
       "  'San Francisco Giants': 5,\n",
       "  'Boston Red Sox': 6,\n",
       "  'Washington Nationals': 7,\n",
       "  'Texas Rangers': 8,\n",
       "  'Baltimore Orioles': 9,\n",
       "  'Los Angeles Angels of Anaheim': 10,\n",
       "  'Milwaukee Brewers': 11,\n",
       "  'Colorado Rockies': 12,\n",
       "  'Pittsburgh Pirates': 13,\n",
       "  'Kansas City Royals': 14,\n",
       "  'Detroit Tigers': 15,\n",
       "  'Seattle Mariners': 16,\n",
       "  'Oakland Athletics': 17,\n",
       "  'Chicago White Sox': 18,\n",
       "  'New York Yankees': 19,\n",
       "  'Cincinnati Reds': 20,\n",
       "  'San Diego Padres': 21,\n",
       "  'Minnesota Twins': 22,\n",
       "  'Philadelphia Phillies': 23,\n",
       "  'Houston Astros': 24,\n",
       "  'Tampa Bay Rays': 25,\n",
       "  'Miami Marlins': 26,\n",
       "  'Arizona Diamondbacks': 27,\n",
       "  'New York Mets': 28,\n",
       "  'St. Louis Cardinals': 29,\n",
       "  'Atlanta Braves': 30},\n",
       " 'Home_Team': {'Chicago Cubs': 1,\n",
       "  'Los Angeles Dodgers': 2,\n",
       "  'Cleveland Indians': 3,\n",
       "  'Toronto Blue Jays': 4,\n",
       "  'San Francisco Giants': 5,\n",
       "  'Boston Red Sox': 6,\n",
       "  'Washington Nationals': 7,\n",
       "  'Texas Rangers': 8,\n",
       "  'Baltimore Orioles': 9,\n",
       "  'Los Angeles Angels of Anaheim': 10,\n",
       "  'Milwaukee Brewers': 11,\n",
       "  'Colorado Rockies': 12,\n",
       "  'Pittsburgh Pirates': 13,\n",
       "  'Kansas City Royals': 14,\n",
       "  'Detroit Tigers': 15,\n",
       "  'Seattle Mariners': 16,\n",
       "  'Oakland Athletics': 17,\n",
       "  'Chicago White Sox': 18,\n",
       "  'New York Yankees': 19,\n",
       "  'Cincinnati Reds': 20,\n",
       "  'San Diego Padres': 21,\n",
       "  'Minnesota Twins': 22,\n",
       "  'Philadelphia Phillies': 23,\n",
       "  'Houston Astros': 24,\n",
       "  'Tampa Bay Rays': 25,\n",
       "  'Miami Marlins': 26,\n",
       "  'Arizona Diamondbacks': 27,\n",
       "  'New York Mets': 28,\n",
       "  'St. Louis Cardinals': 29,\n",
       "  'Atlanta Braves': 30}}"
      ]
     },
     "execution_count": 23,
     "metadata": {},
     "output_type": "execute_result"
    }
   ],
   "source": [
    "cleanup_nums = {\"Game_Type\" : {\"Night Game\": 2, \"Day Game\": 1},\n",
    "                \"Day_of_Week\" : {\"Monday\": 1, \"Tuesday\": 2, \"Wednesday\": 3, \"Thursday\": 4, \"Friday\": 5,\n",
    "                                 \"Saturday\": 6, \"Sunday\":7},\n",
    "                \"Sky\": {\"Cloudy\": 4, \"Sunny\": 6, \"Unknown\": 0, \"In Dome\": 5 , \"Overcast\": 3, \"Drizzle\": 2,\n",
    "                        \"Rain\": 1, \"Night\": 7},\n",
    "               \"Season\" : {\"regular season\" : 1, \"post season\":2},\n",
    "               \"Away_Team\" : {\"Chicago Cubs\" :1, \"Los Angeles Dodgers\":2, \"Cleveland Indians\":3, \"Toronto Blue Jays\":4,\n",
    "                \"San Francisco Giants\":5, \"Boston Red Sox\":6, \"Washington Nationals\":7, \"Texas Rangers\":8,\n",
    "                \"Baltimore Orioles\":9,\"Los Angeles Angels of Anaheim\":10,\"Milwaukee Brewers\":11, \"Colorado Rockies\":12,\n",
    "                \"Pittsburgh Pirates\":13, \"Kansas City Royals\":14,\"Detroit Tigers\":15, \"Seattle Mariners\":16, \n",
    "                \"Oakland Athletics\":17, \"Chicago White Sox\":18, \"New York Yankees\":19, \"Cincinnati Reds\":20,\n",
    "                \"San Diego Padres\":21, \"Minnesota Twins\":22, \"Philadelphia Phillies\":23, \"Houston Astros\":24, \n",
    "                \"Tampa Bay Rays\":25, \"Miami Marlins\":26, \"Arizona Diamondbacks\":27, \"New York Mets\":28, \n",
    "                \"St. Louis Cardinals\":29, \"Atlanta Braves\":30},\n",
    "                \"Home_Team\" : {\"Chicago Cubs\" :1, \"Los Angeles Dodgers\":2, \"Cleveland Indians\":3, \"Toronto Blue Jays\":4,\n",
    "                \"San Francisco Giants\":5, \"Boston Red Sox\":6, \"Washington Nationals\":7, \"Texas Rangers\":8,\n",
    "                \"Baltimore Orioles\":9,\"Los Angeles Angels of Anaheim\":10,\"Milwaukee Brewers\":11, \"Colorado Rockies\":12,\n",
    "                \"Pittsburgh Pirates\":13, \"Kansas City Royals\":14,\"Detroit Tigers\":15, \"Seattle Mariners\":16, \n",
    "                \"Oakland Athletics\":17, \"Chicago White Sox\":18, \"New York Yankees\":19, \"Cincinnati Reds\":20,\n",
    "                \"San Diego Padres\":21, \"Minnesota Twins\":22, \"Philadelphia Phillies\":23, \"Houston Astros\":24, \n",
    "                \"Tampa Bay Rays\":25, \"Miami Marlins\":26, \"Arizona Diamondbacks\":27, \"New York Mets\":28, \n",
    "                \"St. Louis Cardinals\":29, \"Atlanta Braves\":30}\n",
    "\n",
    "                \n",
    "                \n",
    "    \n",
    "               } \n",
    "cleanup_nums"
   ]
  },
  {
   "cell_type": "markdown",
   "metadata": {},
   "source": [
    "***Now that I replaced each object from my dataset I need to make it permanent and replace it on the Baseball_Data Dataset*** "
   ]
  },
  {
   "cell_type": "code",
   "execution_count": 24,
   "metadata": {},
   "outputs": [
    {
     "name": "stderr",
     "output_type": "stream",
     "text": [
      "C:\\Users\\andre\\Anaconda3\\lib\\site-packages\\pandas\\core\\generic.py:6702: SettingWithCopyWarning: \n",
      "A value is trying to be set on a copy of a slice from a DataFrame.\n",
      "Try using .loc[row_indexer,col_indexer] = value instead\n",
      "\n",
      "See the caveats in the documentation: http://pandas.pydata.org/pandas-docs/stable/user_guide/indexing.html#returning-a-view-versus-a-copy\n",
      "  regex=regex,\n"
     ]
    },
    {
     "data": {
      "text/html": [
       "<div>\n",
       "<style scoped>\n",
       "    .dataframe tbody tr th:only-of-type {\n",
       "        vertical-align: middle;\n",
       "    }\n",
       "\n",
       "    .dataframe tbody tr th {\n",
       "        vertical-align: top;\n",
       "    }\n",
       "\n",
       "    .dataframe thead th {\n",
       "        text-align: right;\n",
       "    }\n",
       "</style>\n",
       "<table border=\"1\" class=\"dataframe\">\n",
       "  <thead>\n",
       "    <tr style=\"text-align: right;\">\n",
       "      <th></th>\n",
       "      <th>Unnamed: 0</th>\n",
       "      <th>Fan_Attendance</th>\n",
       "      <th>Away_Team</th>\n",
       "      <th>Game_Type</th>\n",
       "      <th>Home_Team</th>\n",
       "      <th>home_team_errors</th>\n",
       "      <th>home_team_hits</th>\n",
       "      <th>home_team_runs</th>\n",
       "      <th>Day_of_Week</th>\n",
       "      <th>Temperature</th>\n",
       "      <th>Wind_Speed</th>\n",
       "      <th>Sky</th>\n",
       "      <th>game_hours_dec</th>\n",
       "      <th>Season</th>\n",
       "      <th>Home_Team_Win</th>\n",
       "    </tr>\n",
       "  </thead>\n",
       "  <tbody>\n",
       "    <tr>\n",
       "      <td>0</td>\n",
       "      <td>0</td>\n",
       "      <td>40030.0</td>\n",
       "      <td>28</td>\n",
       "      <td>2</td>\n",
       "      <td>14</td>\n",
       "      <td>0</td>\n",
       "      <td>9</td>\n",
       "      <td>4</td>\n",
       "      <td>7</td>\n",
       "      <td>74.0</td>\n",
       "      <td>14.0</td>\n",
       "      <td>6</td>\n",
       "      <td>3.216667</td>\n",
       "      <td>1</td>\n",
       "      <td>1</td>\n",
       "    </tr>\n",
       "    <tr>\n",
       "      <td>1</td>\n",
       "      <td>1</td>\n",
       "      <td>21621.0</td>\n",
       "      <td>23</td>\n",
       "      <td>2</td>\n",
       "      <td>20</td>\n",
       "      <td>0</td>\n",
       "      <td>8</td>\n",
       "      <td>3</td>\n",
       "      <td>3</td>\n",
       "      <td>55.0</td>\n",
       "      <td>24.0</td>\n",
       "      <td>3</td>\n",
       "      <td>2.383333</td>\n",
       "      <td>1</td>\n",
       "      <td>1</td>\n",
       "    </tr>\n",
       "    <tr>\n",
       "      <td>2</td>\n",
       "      <td>2</td>\n",
       "      <td>12622.0</td>\n",
       "      <td>22</td>\n",
       "      <td>2</td>\n",
       "      <td>9</td>\n",
       "      <td>0</td>\n",
       "      <td>9</td>\n",
       "      <td>4</td>\n",
       "      <td>3</td>\n",
       "      <td>48.0</td>\n",
       "      <td>7.0</td>\n",
       "      <td>0</td>\n",
       "      <td>3.183333</td>\n",
       "      <td>1</td>\n",
       "      <td>1</td>\n",
       "    </tr>\n",
       "    <tr>\n",
       "      <td>3</td>\n",
       "      <td>3</td>\n",
       "      <td>18531.0</td>\n",
       "      <td>7</td>\n",
       "      <td>2</td>\n",
       "      <td>30</td>\n",
       "      <td>1</td>\n",
       "      <td>8</td>\n",
       "      <td>1</td>\n",
       "      <td>3</td>\n",
       "      <td>65.0</td>\n",
       "      <td>10.0</td>\n",
       "      <td>4</td>\n",
       "      <td>2.883333</td>\n",
       "      <td>1</td>\n",
       "      <td>0</td>\n",
       "    </tr>\n",
       "    <tr>\n",
       "      <td>4</td>\n",
       "      <td>4</td>\n",
       "      <td>18572.0</td>\n",
       "      <td>12</td>\n",
       "      <td>1</td>\n",
       "      <td>27</td>\n",
       "      <td>0</td>\n",
       "      <td>8</td>\n",
       "      <td>3</td>\n",
       "      <td>3</td>\n",
       "      <td>77.0</td>\n",
       "      <td>0.0</td>\n",
       "      <td>5</td>\n",
       "      <td>2.650000</td>\n",
       "      <td>1</td>\n",
       "      <td>0</td>\n",
       "    </tr>\n",
       "  </tbody>\n",
       "</table>\n",
       "</div>"
      ],
      "text/plain": [
       "   Unnamed: 0  Fan_Attendance  Away_Team  Game_Type  Home_Team  \\\n",
       "0           0         40030.0         28          2         14   \n",
       "1           1         21621.0         23          2         20   \n",
       "2           2         12622.0         22          2          9   \n",
       "3           3         18531.0          7          2         30   \n",
       "4           4         18572.0         12          1         27   \n",
       "\n",
       "   home_team_errors  home_team_hits  home_team_runs  Day_of_Week  Temperature  \\\n",
       "0                 0               9               4            7         74.0   \n",
       "1                 0               8               3            3         55.0   \n",
       "2                 0               9               4            3         48.0   \n",
       "3                 1               8               1            3         65.0   \n",
       "4                 0               8               3            3         77.0   \n",
       "\n",
       "   Wind_Speed  Sky  game_hours_dec  Season  Home_Team_Win  \n",
       "0        14.0    6        3.216667       1              1  \n",
       "1        24.0    3        2.383333       1              1  \n",
       "2         7.0    0        3.183333       1              1  \n",
       "3        10.0    4        2.883333       1              0  \n",
       "4         0.0    5        2.650000       1              0  "
      ]
     },
     "execution_count": 24,
     "metadata": {},
     "output_type": "execute_result"
    }
   ],
   "source": [
    "Baseball_Data.replace(cleanup_nums, inplace=True)\n",
    "\n",
    "Baseball_Data.head()"
   ]
  },
  {
   "cell_type": "code",
   "execution_count": 25,
   "metadata": {},
   "outputs": [
    {
     "data": {
      "text/html": [
       "<div>\n",
       "<style scoped>\n",
       "    .dataframe tbody tr th:only-of-type {\n",
       "        vertical-align: middle;\n",
       "    }\n",
       "\n",
       "    .dataframe tbody tr th {\n",
       "        vertical-align: top;\n",
       "    }\n",
       "\n",
       "    .dataframe thead th {\n",
       "        text-align: right;\n",
       "    }\n",
       "</style>\n",
       "<table border=\"1\" class=\"dataframe\">\n",
       "  <thead>\n",
       "    <tr style=\"text-align: right;\">\n",
       "      <th></th>\n",
       "      <th>Unnamed: 0</th>\n",
       "      <th>Fan_Attendance</th>\n",
       "      <th>Away_Team</th>\n",
       "      <th>Game_Type</th>\n",
       "      <th>Home_Team</th>\n",
       "      <th>home_team_errors</th>\n",
       "      <th>home_team_hits</th>\n",
       "      <th>home_team_runs</th>\n",
       "      <th>Day_of_Week</th>\n",
       "      <th>Temperature</th>\n",
       "      <th>Wind_Speed</th>\n",
       "      <th>Sky</th>\n",
       "      <th>game_hours_dec</th>\n",
       "      <th>Season</th>\n",
       "      <th>Home_Team_Win</th>\n",
       "    </tr>\n",
       "  </thead>\n",
       "  <tbody>\n",
       "    <tr>\n",
       "      <td>0</td>\n",
       "      <td>0</td>\n",
       "      <td>40030.0</td>\n",
       "      <td>28</td>\n",
       "      <td>2</td>\n",
       "      <td>14</td>\n",
       "      <td>0</td>\n",
       "      <td>9</td>\n",
       "      <td>4</td>\n",
       "      <td>7</td>\n",
       "      <td>74.0</td>\n",
       "      <td>14.0</td>\n",
       "      <td>6</td>\n",
       "      <td>3.216667</td>\n",
       "      <td>1</td>\n",
       "      <td>1</td>\n",
       "    </tr>\n",
       "    <tr>\n",
       "      <td>1</td>\n",
       "      <td>1</td>\n",
       "      <td>21621.0</td>\n",
       "      <td>23</td>\n",
       "      <td>2</td>\n",
       "      <td>20</td>\n",
       "      <td>0</td>\n",
       "      <td>8</td>\n",
       "      <td>3</td>\n",
       "      <td>3</td>\n",
       "      <td>55.0</td>\n",
       "      <td>24.0</td>\n",
       "      <td>3</td>\n",
       "      <td>2.383333</td>\n",
       "      <td>1</td>\n",
       "      <td>1</td>\n",
       "    </tr>\n",
       "    <tr>\n",
       "      <td>2</td>\n",
       "      <td>2</td>\n",
       "      <td>12622.0</td>\n",
       "      <td>22</td>\n",
       "      <td>2</td>\n",
       "      <td>9</td>\n",
       "      <td>0</td>\n",
       "      <td>9</td>\n",
       "      <td>4</td>\n",
       "      <td>3</td>\n",
       "      <td>48.0</td>\n",
       "      <td>7.0</td>\n",
       "      <td>0</td>\n",
       "      <td>3.183333</td>\n",
       "      <td>1</td>\n",
       "      <td>1</td>\n",
       "    </tr>\n",
       "    <tr>\n",
       "      <td>3</td>\n",
       "      <td>3</td>\n",
       "      <td>18531.0</td>\n",
       "      <td>7</td>\n",
       "      <td>2</td>\n",
       "      <td>30</td>\n",
       "      <td>1</td>\n",
       "      <td>8</td>\n",
       "      <td>1</td>\n",
       "      <td>3</td>\n",
       "      <td>65.0</td>\n",
       "      <td>10.0</td>\n",
       "      <td>4</td>\n",
       "      <td>2.883333</td>\n",
       "      <td>1</td>\n",
       "      <td>0</td>\n",
       "    </tr>\n",
       "    <tr>\n",
       "      <td>4</td>\n",
       "      <td>4</td>\n",
       "      <td>18572.0</td>\n",
       "      <td>12</td>\n",
       "      <td>1</td>\n",
       "      <td>27</td>\n",
       "      <td>0</td>\n",
       "      <td>8</td>\n",
       "      <td>3</td>\n",
       "      <td>3</td>\n",
       "      <td>77.0</td>\n",
       "      <td>0.0</td>\n",
       "      <td>5</td>\n",
       "      <td>2.650000</td>\n",
       "      <td>1</td>\n",
       "      <td>0</td>\n",
       "    </tr>\n",
       "    <tr>\n",
       "      <td>...</td>\n",
       "      <td>...</td>\n",
       "      <td>...</td>\n",
       "      <td>...</td>\n",
       "      <td>...</td>\n",
       "      <td>...</td>\n",
       "      <td>...</td>\n",
       "      <td>...</td>\n",
       "      <td>...</td>\n",
       "      <td>...</td>\n",
       "      <td>...</td>\n",
       "      <td>...</td>\n",
       "      <td>...</td>\n",
       "      <td>...</td>\n",
       "      <td>...</td>\n",
       "      <td>...</td>\n",
       "    </tr>\n",
       "    <tr>\n",
       "      <td>2458</td>\n",
       "      <td>2458</td>\n",
       "      <td>31042.0</td>\n",
       "      <td>4</td>\n",
       "      <td>1</td>\n",
       "      <td>25</td>\n",
       "      <td>1</td>\n",
       "      <td>7</td>\n",
       "      <td>3</td>\n",
       "      <td>7</td>\n",
       "      <td>72.0</td>\n",
       "      <td>0.0</td>\n",
       "      <td>5</td>\n",
       "      <td>2.850000</td>\n",
       "      <td>1</td>\n",
       "      <td>0</td>\n",
       "    </tr>\n",
       "    <tr>\n",
       "      <td>2459</td>\n",
       "      <td>2459</td>\n",
       "      <td>39500.0</td>\n",
       "      <td>29</td>\n",
       "      <td>1</td>\n",
       "      <td>13</td>\n",
       "      <td>1</td>\n",
       "      <td>9</td>\n",
       "      <td>4</td>\n",
       "      <td>7</td>\n",
       "      <td>39.0</td>\n",
       "      <td>14.0</td>\n",
       "      <td>0</td>\n",
       "      <td>3.033333</td>\n",
       "      <td>1</td>\n",
       "      <td>1</td>\n",
       "    </tr>\n",
       "    <tr>\n",
       "      <td>2460</td>\n",
       "      <td>2460</td>\n",
       "      <td>20098.0</td>\n",
       "      <td>5</td>\n",
       "      <td>1</td>\n",
       "      <td>11</td>\n",
       "      <td>2</td>\n",
       "      <td>9</td>\n",
       "      <td>4</td>\n",
       "      <td>3</td>\n",
       "      <td>66.0</td>\n",
       "      <td>0.0</td>\n",
       "      <td>5</td>\n",
       "      <td>3.316667</td>\n",
       "      <td>1</td>\n",
       "      <td>1</td>\n",
       "    </tr>\n",
       "    <tr>\n",
       "      <td>2461</td>\n",
       "      <td>2461</td>\n",
       "      <td>17883.0</td>\n",
       "      <td>15</td>\n",
       "      <td>1</td>\n",
       "      <td>26</td>\n",
       "      <td>1</td>\n",
       "      <td>10</td>\n",
       "      <td>3</td>\n",
       "      <td>3</td>\n",
       "      <td>71.0</td>\n",
       "      <td>0.0</td>\n",
       "      <td>5</td>\n",
       "      <td>3.366667</td>\n",
       "      <td>1</td>\n",
       "      <td>0</td>\n",
       "    </tr>\n",
       "    <tr>\n",
       "      <td>2462</td>\n",
       "      <td>2462</td>\n",
       "      <td>10298.0</td>\n",
       "      <td>6</td>\n",
       "      <td>2</td>\n",
       "      <td>3</td>\n",
       "      <td>0</td>\n",
       "      <td>9</td>\n",
       "      <td>7</td>\n",
       "      <td>3</td>\n",
       "      <td>60.0</td>\n",
       "      <td>7.0</td>\n",
       "      <td>0</td>\n",
       "      <td>3.483333</td>\n",
       "      <td>1</td>\n",
       "      <td>1</td>\n",
       "    </tr>\n",
       "  </tbody>\n",
       "</table>\n",
       "<p>2460 rows × 15 columns</p>\n",
       "</div>"
      ],
      "text/plain": [
       "      Unnamed: 0  Fan_Attendance  Away_Team  Game_Type  Home_Team  \\\n",
       "0              0         40030.0         28          2         14   \n",
       "1              1         21621.0         23          2         20   \n",
       "2              2         12622.0         22          2          9   \n",
       "3              3         18531.0          7          2         30   \n",
       "4              4         18572.0         12          1         27   \n",
       "...          ...             ...        ...        ...        ...   \n",
       "2458        2458         31042.0          4          1         25   \n",
       "2459        2459         39500.0         29          1         13   \n",
       "2460        2460         20098.0          5          1         11   \n",
       "2461        2461         17883.0         15          1         26   \n",
       "2462        2462         10298.0          6          2          3   \n",
       "\n",
       "      home_team_errors  home_team_hits  home_team_runs  Day_of_Week  \\\n",
       "0                    0               9               4            7   \n",
       "1                    0               8               3            3   \n",
       "2                    0               9               4            3   \n",
       "3                    1               8               1            3   \n",
       "4                    0               8               3            3   \n",
       "...                ...             ...             ...          ...   \n",
       "2458                 1               7               3            7   \n",
       "2459                 1               9               4            7   \n",
       "2460                 2               9               4            3   \n",
       "2461                 1              10               3            3   \n",
       "2462                 0               9               7            3   \n",
       "\n",
       "      Temperature  Wind_Speed  Sky  game_hours_dec  Season  Home_Team_Win  \n",
       "0            74.0        14.0    6        3.216667       1              1  \n",
       "1            55.0        24.0    3        2.383333       1              1  \n",
       "2            48.0         7.0    0        3.183333       1              1  \n",
       "3            65.0        10.0    4        2.883333       1              0  \n",
       "4            77.0         0.0    5        2.650000       1              0  \n",
       "...           ...         ...  ...             ...     ...            ...  \n",
       "2458         72.0         0.0    5        2.850000       1              0  \n",
       "2459         39.0        14.0    0        3.033333       1              1  \n",
       "2460         66.0         0.0    5        3.316667       1              1  \n",
       "2461         71.0         0.0    5        3.366667       1              0  \n",
       "2462         60.0         7.0    0        3.483333       1              1  \n",
       "\n",
       "[2460 rows x 15 columns]"
      ]
     },
     "execution_count": 25,
     "metadata": {},
     "output_type": "execute_result"
    }
   ],
   "source": [
    "Baseball_Data"
   ]
  },
  {
   "cell_type": "markdown",
   "metadata": {},
   "source": [
    "## IMPORTANT \n",
    "\n",
    "\n",
    "- Game_Type\n",
    "    - Night Game: 2\n",
    "    - Day Game: 1\n",
    "\n",
    "\n",
    "- Day_of_Week\n",
    "    - Monday: 1\n",
    "    - Tuesday: 2\n",
    "    - Wednesday: 3\n",
    "    - Thursday: 4\n",
    "    - Friday: 5\n",
    "    - Saturday: 6 \n",
    "    - Sunday:7\n",
    "\n",
    "\n",
    "- Sky\n",
    "    - Cloudy: 4\n",
    "    - Sunny: 6\n",
    "    - Unknown: 0\n",
    "    - In Dome: 5\n",
    "    - Overcast: 3\n",
    "    - Drizzle: 2\n",
    "    - Rain: 1\n",
    "    - Night: 7\n",
    "\n",
    "\n",
    "- Season\n",
    "    - regular season: 1\n",
    "    - post season: 2\n",
    "\n",
    "\n",
    "- Home_Team & Away_Team\n",
    "    - Chicago Cubs: 1\n",
    "    - Los Angeles Dodgers: 2\n",
    "    - Cleveland Indians: 3\n",
    "    - Toronto Blue Jays: 4\n",
    "    - San Francisco Giants: 5\n",
    "    - Boston Red Sox: 6\n",
    "    - Washington Nationals: 7\n",
    "    - Texas Rangers: 8\n",
    "    - Baltimore Orioles: 9\n",
    "    - Los Angeles Angels of Anaheim: 10\n",
    "    - Milwaukee Brewers: 11,\n",
    "    - Colorado Rockies: 12\n",
    "    - Pittsburgh Pirates: 13\n",
    "    - Kansas City Royals: 14\n",
    "    - Detroit Tigers: 15\n",
    "    - Seattle Mariners: 16\n",
    "    - Oakland Athletics: 17\n",
    "    - Chicago White Sox: 18\n",
    "    - New York Yankees: 19\n",
    "    - Cincinnati Reds: 20\n",
    "    - San Diego Padres: 21\n",
    "    - Minnesota Twins: 22\n",
    "    - Philadelphia Phillies: 23\n",
    "    - Houston Astros: 24\n",
    "    - Tampa Bay Rays: 25\n",
    "    - Miami Marlins: 26\n",
    "    - Arizona Diamondbacks: 27\n",
    "    - New York Mets: 28\n",
    "    - St. Louis Cardinals: 29\n",
    "    - Atlanta Braves: 30"
   ]
  },
  {
   "cell_type": "markdown",
   "metadata": {},
   "source": [
    "***4.) Binning any large range categorical variables***"
   ]
  },
  {
   "cell_type": "markdown",
   "metadata": {},
   "source": [
    "### FAN ATTENDANCE\n",
    "***I have decided to Bin my data from the Fan Attendance Column, but first I need to find its min and mx in order to know how many bins I can seperate the data too.***"
   ]
  },
  {
   "cell_type": "code",
   "execution_count": 26,
   "metadata": {},
   "outputs": [
    {
     "data": {
      "text/plain": [
       "30370.703658536586"
      ]
     },
     "execution_count": 26,
     "metadata": {},
     "output_type": "execute_result"
    }
   ],
   "source": [
    "Baseball_Data.Fan_Attendance.mean()"
   ]
  },
  {
   "cell_type": "code",
   "execution_count": 27,
   "metadata": {},
   "outputs": [
    {
     "data": {
      "text/plain": [
       "54449.0"
      ]
     },
     "execution_count": 27,
     "metadata": {},
     "output_type": "execute_result"
    }
   ],
   "source": [
    "Baseball_Data.Fan_Attendance.max()"
   ]
  },
  {
   "cell_type": "code",
   "execution_count": 28,
   "metadata": {},
   "outputs": [
    {
     "data": {
      "text/plain": [
       "8766.0"
      ]
     },
     "execution_count": 28,
     "metadata": {},
     "output_type": "execute_result"
    }
   ],
   "source": [
    "Baseball_Data.Fan_Attendance.min()"
   ]
  },
  {
   "cell_type": "markdown",
   "metadata": {},
   "source": [
    "***For the following two lines I will take 10 random samples to see my data***"
   ]
  },
  {
   "cell_type": "code",
   "execution_count": 29,
   "metadata": {},
   "outputs": [
    {
     "data": {
      "text/plain": [
       "0        (36175.8, 40744.1]\n",
       "1        (17902.6, 22470.9]\n",
       "2       (8720.317, 13334.3]\n",
       "3        (17902.6, 22470.9]\n",
       "4        (17902.6, 22470.9]\n",
       "               ...         \n",
       "2458     (27039.2, 31607.5]\n",
       "2459     (36175.8, 40744.1]\n",
       "2460     (17902.6, 22470.9]\n",
       "2461     (13334.3, 17902.6]\n",
       "2462    (8720.317, 13334.3]\n",
       "Name: Fan_Attendance, Length: 2460, dtype: category\n",
       "Categories (10, interval[float64]): [(8720.317, 13334.3] < (13334.3, 17902.6] < (17902.6, 22470.9] < (22470.9, 27039.2] ... (36175.8, 40744.1] < (40744.1, 45312.4] < (45312.4, 49880.7] < (49880.7, 54449.0]]"
      ]
     },
     "execution_count": 29,
     "metadata": {},
     "output_type": "execute_result"
    }
   ],
   "source": [
    "Attendance_Bins = pd.cut(Baseball_Data.Fan_Attendance, 10)\n",
    "\n",
    "Attendance_Bins"
   ]
  },
  {
   "cell_type": "code",
   "execution_count": 30,
   "metadata": {},
   "outputs": [
    {
     "name": "stdout",
     "output_type": "stream",
     "text": [
      "(36175.8, 40744.1]\n",
      "(17902.6, 22470.9]\n",
      "(8720.317, 13334.3]\n",
      "(27039.2, 31607.5]\n",
      "(22470.9, 27039.2]\n",
      "(45312.4, 49880.7]\n",
      "(13334.3, 17902.6]\n",
      "(40744.1, 45312.4]\n",
      "(31607.5, 36175.8]\n",
      "(49880.7, 54449.0]\n"
     ]
    }
   ],
   "source": [
    "for x in Attendance_Bins.unique():\n",
    "    print(x)"
   ]
  },
  {
   "cell_type": "code",
   "execution_count": 31,
   "metadata": {},
   "outputs": [
    {
     "data": {
      "text/plain": [
       "<matplotlib.axes._subplots.AxesSubplot at 0x2a770cfa208>"
      ]
     },
     "execution_count": 31,
     "metadata": {},
     "output_type": "execute_result"
    },
    {
     "data": {
      "image/png": "[encoded data removed]",
      "text/plain": [
       "<Figure size 432x288 with 1 Axes>"
      ]
     },
     "metadata": {
      "needs_background": "light"
     },
     "output_type": "display_data"
    }
   ],
   "source": [
    "%matplotlib inline\n",
    "Baseball_Data.Fan_Attendance.plot(kind='hist', title='Average Fan Attedance (2016)')"
   ]
  },
  {
   "cell_type": "markdown",
   "metadata": {},
   "source": [
    "***Now that I visualized my data and I know roughly where my data falls between I am able to create bins that represent my data well***"
   ]
  },
  {
   "cell_type": "code",
   "execution_count": 32,
   "metadata": {},
   "outputs": [
    {
     "data": {
      "text/plain": [
       "[5000, 15000, 25000, 35000, 45000, 55000]"
      ]
     },
     "execution_count": 32,
     "metadata": {},
     "output_type": "execute_result"
    }
   ],
   "source": [
    "Attendance_Bins = list(range(5000, 65000, 10000)) \n",
    "Attendance_Bins"
   ]
  },
  {
   "cell_type": "code",
   "execution_count": 33,
   "metadata": {},
   "outputs": [
    {
     "data": {
      "text/plain": [
       "0    (35000, 45000]\n",
       "1    (15000, 25000]\n",
       "2     (5000, 15000]\n",
       "3    (15000, 25000]\n",
       "4    (15000, 25000]\n",
       "Name: Fan_Attendance, dtype: category\n",
       "Categories (5, interval[int64]): [(5000, 15000] < (15000, 25000] < (25000, 35000] < (35000, 45000] < (45000, 55000]]"
      ]
     },
     "execution_count": 33,
     "metadata": {},
     "output_type": "execute_result"
    }
   ],
   "source": [
    "pd.cut(Baseball_Data.Fan_Attendance, Attendance_Bins).head()"
   ]
  },
  {
   "cell_type": "markdown",
   "metadata": {},
   "source": [
    "***Now that I created my Fan_Attendance bin, I need to incorporate it into my Baseball_Data Dataset***"
   ]
  },
  {
   "cell_type": "code",
   "execution_count": 34,
   "metadata": {},
   "outputs": [
    {
     "name": "stderr",
     "output_type": "stream",
     "text": [
      "C:\\Users\\andre\\Anaconda3\\lib\\site-packages\\ipykernel_launcher.py:3: SettingWithCopyWarning: \n",
      "A value is trying to be set on a copy of a slice from a DataFrame.\n",
      "Try using .loc[row_indexer,col_indexer] = value instead\n",
      "\n",
      "See the caveats in the documentation: http://pandas.pydata.org/pandas-docs/stable/user_guide/indexing.html#returning-a-view-versus-a-copy\n",
      "  This is separate from the ipykernel package so we can avoid doing imports until\n"
     ]
    },
    {
     "data": {
      "text/html": [
       "<div>\n",
       "<style scoped>\n",
       "    .dataframe tbody tr th:only-of-type {\n",
       "        vertical-align: middle;\n",
       "    }\n",
       "\n",
       "    .dataframe tbody tr th {\n",
       "        vertical-align: top;\n",
       "    }\n",
       "\n",
       "    .dataframe thead th {\n",
       "        text-align: right;\n",
       "    }\n",
       "</style>\n",
       "<table border=\"1\" class=\"dataframe\">\n",
       "  <thead>\n",
       "    <tr style=\"text-align: right;\">\n",
       "      <th></th>\n",
       "      <th>Unnamed: 0</th>\n",
       "      <th>Fan_Attendance</th>\n",
       "      <th>Away_Team</th>\n",
       "      <th>Game_Type</th>\n",
       "      <th>Home_Team</th>\n",
       "      <th>home_team_errors</th>\n",
       "      <th>home_team_hits</th>\n",
       "      <th>home_team_runs</th>\n",
       "      <th>Day_of_Week</th>\n",
       "      <th>Temperature</th>\n",
       "      <th>Wind_Speed</th>\n",
       "      <th>Sky</th>\n",
       "      <th>game_hours_dec</th>\n",
       "      <th>Season</th>\n",
       "      <th>Home_Team_Win</th>\n",
       "    </tr>\n",
       "  </thead>\n",
       "  <tbody>\n",
       "    <tr>\n",
       "      <td>0</td>\n",
       "      <td>0</td>\n",
       "      <td>35000-45000</td>\n",
       "      <td>28</td>\n",
       "      <td>2</td>\n",
       "      <td>14</td>\n",
       "      <td>0</td>\n",
       "      <td>9</td>\n",
       "      <td>4</td>\n",
       "      <td>7</td>\n",
       "      <td>74.0</td>\n",
       "      <td>14.0</td>\n",
       "      <td>6</td>\n",
       "      <td>3.216667</td>\n",
       "      <td>1</td>\n",
       "      <td>1</td>\n",
       "    </tr>\n",
       "    <tr>\n",
       "      <td>1</td>\n",
       "      <td>1</td>\n",
       "      <td>15000-25000</td>\n",
       "      <td>23</td>\n",
       "      <td>2</td>\n",
       "      <td>20</td>\n",
       "      <td>0</td>\n",
       "      <td>8</td>\n",
       "      <td>3</td>\n",
       "      <td>3</td>\n",
       "      <td>55.0</td>\n",
       "      <td>24.0</td>\n",
       "      <td>3</td>\n",
       "      <td>2.383333</td>\n",
       "      <td>1</td>\n",
       "      <td>1</td>\n",
       "    </tr>\n",
       "    <tr>\n",
       "      <td>2</td>\n",
       "      <td>2</td>\n",
       "      <td>5000-15000</td>\n",
       "      <td>22</td>\n",
       "      <td>2</td>\n",
       "      <td>9</td>\n",
       "      <td>0</td>\n",
       "      <td>9</td>\n",
       "      <td>4</td>\n",
       "      <td>3</td>\n",
       "      <td>48.0</td>\n",
       "      <td>7.0</td>\n",
       "      <td>0</td>\n",
       "      <td>3.183333</td>\n",
       "      <td>1</td>\n",
       "      <td>1</td>\n",
       "    </tr>\n",
       "    <tr>\n",
       "      <td>3</td>\n",
       "      <td>3</td>\n",
       "      <td>15000-25000</td>\n",
       "      <td>7</td>\n",
       "      <td>2</td>\n",
       "      <td>30</td>\n",
       "      <td>1</td>\n",
       "      <td>8</td>\n",
       "      <td>1</td>\n",
       "      <td>3</td>\n",
       "      <td>65.0</td>\n",
       "      <td>10.0</td>\n",
       "      <td>4</td>\n",
       "      <td>2.883333</td>\n",
       "      <td>1</td>\n",
       "      <td>0</td>\n",
       "    </tr>\n",
       "    <tr>\n",
       "      <td>4</td>\n",
       "      <td>4</td>\n",
       "      <td>15000-25000</td>\n",
       "      <td>12</td>\n",
       "      <td>1</td>\n",
       "      <td>27</td>\n",
       "      <td>0</td>\n",
       "      <td>8</td>\n",
       "      <td>3</td>\n",
       "      <td>3</td>\n",
       "      <td>77.0</td>\n",
       "      <td>0.0</td>\n",
       "      <td>5</td>\n",
       "      <td>2.650000</td>\n",
       "      <td>1</td>\n",
       "      <td>0</td>\n",
       "    </tr>\n",
       "  </tbody>\n",
       "</table>\n",
       "</div>"
      ],
      "text/plain": [
       "   Unnamed: 0 Fan_Attendance  Away_Team  Game_Type  Home_Team  \\\n",
       "0           0    35000-45000         28          2         14   \n",
       "1           1    15000-25000         23          2         20   \n",
       "2           2     5000-15000         22          2          9   \n",
       "3           3    15000-25000          7          2         30   \n",
       "4           4    15000-25000         12          1         27   \n",
       "\n",
       "   home_team_errors  home_team_hits  home_team_runs  Day_of_Week  Temperature  \\\n",
       "0                 0               9               4            7         74.0   \n",
       "1                 0               8               3            3         55.0   \n",
       "2                 0               9               4            3         48.0   \n",
       "3                 1               8               1            3         65.0   \n",
       "4                 0               8               3            3         77.0   \n",
       "\n",
       "   Wind_Speed  Sky  game_hours_dec  Season  Home_Team_Win  \n",
       "0        14.0    6        3.216667       1              1  \n",
       "1        24.0    3        2.383333       1              1  \n",
       "2         7.0    0        3.183333       1              1  \n",
       "3        10.0    4        2.883333       1              0  \n",
       "4         0.0    5        2.650000       1              0  "
      ]
     },
     "execution_count": 34,
     "metadata": {},
     "output_type": "execute_result"
    }
   ],
   "source": [
    "Baseball_Data['Fan_Attendance'] = pd.cut(Baseball_Data.Fan_Attendance, bins=Attendance_Bins,\n",
    "                                         labels=[\"5000-15000\", \"15000-25000\", \"25000-35000\", \"35000-45000\",\\\n",
    "                                                 \"45000-55000\"])\n",
    "Baseball_Data.head()"
   ]
  },
  {
   "cell_type": "markdown",
   "metadata": {},
   "source": [
    "***Now that I have incorporated my bin into my dataset, I will run a groupby() function to statistically see where my data falls inbetween***"
   ]
  },
  {
   "cell_type": "code",
   "execution_count": 35,
   "metadata": {},
   "outputs": [
    {
     "data": {
      "text/plain": [
       "Fan_Attendance\n",
       "5000-15000      90\n",
       "15000-25000    310\n",
       "25000-35000    397\n",
       "35000-45000    421\n",
       "45000-55000     84\n",
       "Name: Home_Team_Win, dtype: int64"
      ]
     },
     "execution_count": 35,
     "metadata": {},
     "output_type": "execute_result"
    }
   ],
   "source": [
    "Baseball_Data.groupby(\"Fan_Attendance\")[\"Home_Team_Win\"].sum()"
   ]
  },
  {
   "cell_type": "markdown",
   "metadata": {},
   "source": [
    "### TEMPERATURE\n",
    "***I will do the samething exact thing to my Temperature column that I did to my Fan_Attendance Column (See Above for Deatils)***"
   ]
  },
  {
   "cell_type": "code",
   "execution_count": 36,
   "metadata": {},
   "outputs": [
    {
     "data": {
      "text/plain": [
       "73.81260162601626"
      ]
     },
     "execution_count": 36,
     "metadata": {},
     "output_type": "execute_result"
    }
   ],
   "source": [
    "Baseball_Data.Temperature.mean()"
   ]
  },
  {
   "cell_type": "code",
   "execution_count": 37,
   "metadata": {},
   "outputs": [
    {
     "data": {
      "text/plain": [
       "101.0"
      ]
     },
     "execution_count": 37,
     "metadata": {},
     "output_type": "execute_result"
    }
   ],
   "source": [
    "Baseball_Data.Temperature.max()"
   ]
  },
  {
   "cell_type": "code",
   "execution_count": 38,
   "metadata": {},
   "outputs": [
    {
     "data": {
      "text/plain": [
       "31.0"
      ]
     },
     "execution_count": 38,
     "metadata": {},
     "output_type": "execute_result"
    }
   ],
   "source": [
    "Baseball_Data.Temperature.min()"
   ]
  },
  {
   "cell_type": "code",
   "execution_count": 39,
   "metadata": {},
   "outputs": [
    {
     "data": {
      "text/plain": [
       "0       (73.0, 80.0]\n",
       "1       (52.0, 59.0]\n",
       "2       (45.0, 52.0]\n",
       "3       (59.0, 66.0]\n",
       "4       (73.0, 80.0]\n",
       "            ...     \n",
       "2458    (66.0, 73.0]\n",
       "2459    (38.0, 45.0]\n",
       "2460    (59.0, 66.0]\n",
       "2461    (66.0, 73.0]\n",
       "2462    (59.0, 66.0]\n",
       "Name: Temperature, Length: 2460, dtype: category\n",
       "Categories (10, interval[float64]): [(30.93, 38.0] < (38.0, 45.0] < (45.0, 52.0] < (52.0, 59.0] ... (73.0, 80.0] < (80.0, 87.0] < (87.0, 94.0] < (94.0, 101.0]]"
      ]
     },
     "execution_count": 39,
     "metadata": {},
     "output_type": "execute_result"
    }
   ],
   "source": [
    "Temperature_Bins = pd.cut(Baseball_Data.Temperature, 10)\n",
    "\n",
    "Temperature_Bins"
   ]
  },
  {
   "cell_type": "code",
   "execution_count": 40,
   "metadata": {},
   "outputs": [
    {
     "name": "stdout",
     "output_type": "stream",
     "text": [
      "(73.0, 80.0]\n",
      "(52.0, 59.0]\n",
      "(45.0, 52.0]\n",
      "(59.0, 66.0]\n",
      "(80.0, 87.0]\n",
      "(66.0, 73.0]\n",
      "(38.0, 45.0]\n",
      "(30.93, 38.0]\n",
      "(87.0, 94.0]\n",
      "(94.0, 101.0]\n"
     ]
    }
   ],
   "source": [
    "for x in Temperature_Bins.unique():\n",
    "    print(x)"
   ]
  },
  {
   "cell_type": "code",
   "execution_count": 41,
   "metadata": {},
   "outputs": [
    {
     "data": {
      "text/plain": [
       "<matplotlib.axes._subplots.AxesSubplot at 0x2a77117f608>"
      ]
     },
     "execution_count": 41,
     "metadata": {},
     "output_type": "execute_result"
    },
    {
     "data": {
      "image/png": "[encoded data removed]",
      "text/plain": [
       "<Figure size 432x288 with 1 Axes>"
      ]
     },
     "metadata": {
      "needs_background": "light"
     },
     "output_type": "display_data"
    }
   ],
   "source": [
    "%matplotlib inline\n",
    "Baseball_Data.Temperature.plot(kind='hist', title='Average Temperature Per Game (2016)')"
   ]
  },
  {
   "cell_type": "code",
   "execution_count": 42,
   "metadata": {},
   "outputs": [
    {
     "data": {
      "text/plain": [
       "[30, 40, 50, 60, 70, 80, 90, 100]"
      ]
     },
     "execution_count": 42,
     "metadata": {},
     "output_type": "execute_result"
    }
   ],
   "source": [
    "bins_temperature = list(range(30, 110, 10)) \n",
    "bins_temperature "
   ]
  },
  {
   "cell_type": "code",
   "execution_count": 43,
   "metadata": {},
   "outputs": [
    {
     "data": {
      "text/plain": [
       "0    (70, 80]\n",
       "1    (50, 60]\n",
       "2    (40, 50]\n",
       "3    (60, 70]\n",
       "4    (70, 80]\n",
       "Name: Temperature, dtype: category\n",
       "Categories (7, interval[int64]): [(30, 40] < (40, 50] < (50, 60] < (60, 70] < (70, 80] < (80, 90] < (90, 100]]"
      ]
     },
     "execution_count": 43,
     "metadata": {},
     "output_type": "execute_result"
    }
   ],
   "source": [
    "pd.cut(Baseball_Data.Temperature, bins_temperature).head()"
   ]
  },
  {
   "cell_type": "code",
   "execution_count": 44,
   "metadata": {},
   "outputs": [
    {
     "name": "stderr",
     "output_type": "stream",
     "text": [
      "C:\\Users\\andre\\Anaconda3\\lib\\site-packages\\ipykernel_launcher.py:3: SettingWithCopyWarning: \n",
      "A value is trying to be set on a copy of a slice from a DataFrame.\n",
      "Try using .loc[row_indexer,col_indexer] = value instead\n",
      "\n",
      "See the caveats in the documentation: http://pandas.pydata.org/pandas-docs/stable/user_guide/indexing.html#returning-a-view-versus-a-copy\n",
      "  This is separate from the ipykernel package so we can avoid doing imports until\n"
     ]
    },
    {
     "data": {
      "text/html": [
       "<div>\n",
       "<style scoped>\n",
       "    .dataframe tbody tr th:only-of-type {\n",
       "        vertical-align: middle;\n",
       "    }\n",
       "\n",
       "    .dataframe tbody tr th {\n",
       "        vertical-align: top;\n",
       "    }\n",
       "\n",
       "    .dataframe thead th {\n",
       "        text-align: right;\n",
       "    }\n",
       "</style>\n",
       "<table border=\"1\" class=\"dataframe\">\n",
       "  <thead>\n",
       "    <tr style=\"text-align: right;\">\n",
       "      <th></th>\n",
       "      <th>Unnamed: 0</th>\n",
       "      <th>Fan_Attendance</th>\n",
       "      <th>Away_Team</th>\n",
       "      <th>Game_Type</th>\n",
       "      <th>Home_Team</th>\n",
       "      <th>home_team_errors</th>\n",
       "      <th>home_team_hits</th>\n",
       "      <th>home_team_runs</th>\n",
       "      <th>Day_of_Week</th>\n",
       "      <th>Temperature</th>\n",
       "      <th>Wind_Speed</th>\n",
       "      <th>Sky</th>\n",
       "      <th>game_hours_dec</th>\n",
       "      <th>Season</th>\n",
       "      <th>Home_Team_Win</th>\n",
       "    </tr>\n",
       "  </thead>\n",
       "  <tbody>\n",
       "    <tr>\n",
       "      <td>0</td>\n",
       "      <td>0</td>\n",
       "      <td>35000-45000</td>\n",
       "      <td>28</td>\n",
       "      <td>2</td>\n",
       "      <td>14</td>\n",
       "      <td>0</td>\n",
       "      <td>9</td>\n",
       "      <td>4</td>\n",
       "      <td>7</td>\n",
       "      <td>70-80</td>\n",
       "      <td>14.0</td>\n",
       "      <td>6</td>\n",
       "      <td>3.216667</td>\n",
       "      <td>1</td>\n",
       "      <td>1</td>\n",
       "    </tr>\n",
       "    <tr>\n",
       "      <td>1</td>\n",
       "      <td>1</td>\n",
       "      <td>15000-25000</td>\n",
       "      <td>23</td>\n",
       "      <td>2</td>\n",
       "      <td>20</td>\n",
       "      <td>0</td>\n",
       "      <td>8</td>\n",
       "      <td>3</td>\n",
       "      <td>3</td>\n",
       "      <td>50-60</td>\n",
       "      <td>24.0</td>\n",
       "      <td>3</td>\n",
       "      <td>2.383333</td>\n",
       "      <td>1</td>\n",
       "      <td>1</td>\n",
       "    </tr>\n",
       "    <tr>\n",
       "      <td>2</td>\n",
       "      <td>2</td>\n",
       "      <td>5000-15000</td>\n",
       "      <td>22</td>\n",
       "      <td>2</td>\n",
       "      <td>9</td>\n",
       "      <td>0</td>\n",
       "      <td>9</td>\n",
       "      <td>4</td>\n",
       "      <td>3</td>\n",
       "      <td>40-50</td>\n",
       "      <td>7.0</td>\n",
       "      <td>0</td>\n",
       "      <td>3.183333</td>\n",
       "      <td>1</td>\n",
       "      <td>1</td>\n",
       "    </tr>\n",
       "    <tr>\n",
       "      <td>3</td>\n",
       "      <td>3</td>\n",
       "      <td>15000-25000</td>\n",
       "      <td>7</td>\n",
       "      <td>2</td>\n",
       "      <td>30</td>\n",
       "      <td>1</td>\n",
       "      <td>8</td>\n",
       "      <td>1</td>\n",
       "      <td>3</td>\n",
       "      <td>60-70</td>\n",
       "      <td>10.0</td>\n",
       "      <td>4</td>\n",
       "      <td>2.883333</td>\n",
       "      <td>1</td>\n",
       "      <td>0</td>\n",
       "    </tr>\n",
       "    <tr>\n",
       "      <td>4</td>\n",
       "      <td>4</td>\n",
       "      <td>15000-25000</td>\n",
       "      <td>12</td>\n",
       "      <td>1</td>\n",
       "      <td>27</td>\n",
       "      <td>0</td>\n",
       "      <td>8</td>\n",
       "      <td>3</td>\n",
       "      <td>3</td>\n",
       "      <td>70-80</td>\n",
       "      <td>0.0</td>\n",
       "      <td>5</td>\n",
       "      <td>2.650000</td>\n",
       "      <td>1</td>\n",
       "      <td>0</td>\n",
       "    </tr>\n",
       "  </tbody>\n",
       "</table>\n",
       "</div>"
      ],
      "text/plain": [
       "   Unnamed: 0 Fan_Attendance  Away_Team  Game_Type  Home_Team  \\\n",
       "0           0    35000-45000         28          2         14   \n",
       "1           1    15000-25000         23          2         20   \n",
       "2           2     5000-15000         22          2          9   \n",
       "3           3    15000-25000          7          2         30   \n",
       "4           4    15000-25000         12          1         27   \n",
       "\n",
       "   home_team_errors  home_team_hits  home_team_runs  Day_of_Week Temperature  \\\n",
       "0                 0               9               4            7       70-80   \n",
       "1                 0               8               3            3       50-60   \n",
       "2                 0               9               4            3       40-50   \n",
       "3                 1               8               1            3       60-70   \n",
       "4                 0               8               3            3       70-80   \n",
       "\n",
       "   Wind_Speed  Sky  game_hours_dec  Season  Home_Team_Win  \n",
       "0        14.0    6        3.216667       1              1  \n",
       "1        24.0    3        2.383333       1              1  \n",
       "2         7.0    0        3.183333       1              1  \n",
       "3        10.0    4        2.883333       1              0  \n",
       "4         0.0    5        2.650000       1              0  "
      ]
     },
     "execution_count": 44,
     "metadata": {},
     "output_type": "execute_result"
    }
   ],
   "source": [
    "Baseball_Data['Temperature'] = pd.cut(Baseball_Data.Temperature, bins=bins_temperature,\n",
    "                                         labels=[\"30-40\", \"40-50\", \"50-60\", \"60-70\", \"70-80\",\\\n",
    "                                                 \"80-90\", \"90-100\"])\n",
    "Baseball_Data.head()"
   ]
  },
  {
   "cell_type": "code",
   "execution_count": 45,
   "metadata": {},
   "outputs": [
    {
     "data": {
      "text/plain": [
       "Temperature\n",
       "30-40       6\n",
       "40-50      34\n",
       "50-60     100\n",
       "60-70     281\n",
       "70-80     523\n",
       "80-90     291\n",
       "90-100     67\n",
       "Name: Home_Team_Win, dtype: int64"
      ]
     },
     "execution_count": 45,
     "metadata": {},
     "output_type": "execute_result"
    }
   ],
   "source": [
    "Baseball_Data.groupby(\"Temperature\")[\"Home_Team_Win\"].sum()"
   ]
  },
  {
   "cell_type": "markdown",
   "metadata": {},
   "source": [
    "#### Fixing Bin Colmumns \n",
    "***Now that I created two bins for Fan_Attendance and Temperature I need to switch the data into numerical values so I will be able to run a regression***"
   ]
  },
  {
   "cell_type": "code",
   "execution_count": 46,
   "metadata": {},
   "outputs": [
    {
     "data": {
      "text/plain": [
       "{'Temperature': {'30-40': 0,\n",
       "  '40-50': 1,\n",
       "  '50-60': 2,\n",
       "  '60-70': 3,\n",
       "  '70-80': 4,\n",
       "  '80-90': 5,\n",
       "  '90-100': 6},\n",
       " 'Fan_Attendance': {'5000-15000': 0,\n",
       "  '15000-25000': 1,\n",
       "  '25000-35000': 2,\n",
       "  '35000-45000': 3,\n",
       "  '45000-55000': 4,\n",
       "  '55000-65000': 8}}"
      ]
     },
     "execution_count": 46,
     "metadata": {},
     "output_type": "execute_result"
    }
   ],
   "source": [
    "cleanup_nums = {\"Temperature\" : {\"30-40\": 0, \"40-50\": 1, \"50-60\": 2, \"60-70\": 3, \"70-80\": 4, \"80-90\":5, \"90-100\": 6},\n",
    "                \"Fan_Attendance\" : {\"5000-15000\": 0, \"15000-25000\": 1, \"25000-35000\": 2, \"35000-45000\": 3,\n",
    "                                 \"45000-55000\": 4, \"55000-65000\":8}              \n",
    "\n",
    "    \n",
    "               } \n",
    "cleanup_nums"
   ]
  },
  {
   "cell_type": "code",
   "execution_count": 47,
   "metadata": {},
   "outputs": [
    {
     "data": {
      "text/html": [
       "<div>\n",
       "<style scoped>\n",
       "    .dataframe tbody tr th:only-of-type {\n",
       "        vertical-align: middle;\n",
       "    }\n",
       "\n",
       "    .dataframe tbody tr th {\n",
       "        vertical-align: top;\n",
       "    }\n",
       "\n",
       "    .dataframe thead th {\n",
       "        text-align: right;\n",
       "    }\n",
       "</style>\n",
       "<table border=\"1\" class=\"dataframe\">\n",
       "  <thead>\n",
       "    <tr style=\"text-align: right;\">\n",
       "      <th></th>\n",
       "      <th>Unnamed: 0</th>\n",
       "      <th>Fan_Attendance</th>\n",
       "      <th>Away_Team</th>\n",
       "      <th>Game_Type</th>\n",
       "      <th>Home_Team</th>\n",
       "      <th>home_team_errors</th>\n",
       "      <th>home_team_hits</th>\n",
       "      <th>home_team_runs</th>\n",
       "      <th>Day_of_Week</th>\n",
       "      <th>Temperature</th>\n",
       "      <th>Wind_Speed</th>\n",
       "      <th>Sky</th>\n",
       "      <th>game_hours_dec</th>\n",
       "      <th>Season</th>\n",
       "      <th>Home_Team_Win</th>\n",
       "    </tr>\n",
       "  </thead>\n",
       "  <tbody>\n",
       "    <tr>\n",
       "      <td>0</td>\n",
       "      <td>0</td>\n",
       "      <td>3</td>\n",
       "      <td>28</td>\n",
       "      <td>2</td>\n",
       "      <td>14</td>\n",
       "      <td>0</td>\n",
       "      <td>9</td>\n",
       "      <td>4</td>\n",
       "      <td>7</td>\n",
       "      <td>4.0</td>\n",
       "      <td>14.0</td>\n",
       "      <td>6</td>\n",
       "      <td>3.216667</td>\n",
       "      <td>1</td>\n",
       "      <td>1</td>\n",
       "    </tr>\n",
       "    <tr>\n",
       "      <td>1</td>\n",
       "      <td>1</td>\n",
       "      <td>1</td>\n",
       "      <td>23</td>\n",
       "      <td>2</td>\n",
       "      <td>20</td>\n",
       "      <td>0</td>\n",
       "      <td>8</td>\n",
       "      <td>3</td>\n",
       "      <td>3</td>\n",
       "      <td>2.0</td>\n",
       "      <td>24.0</td>\n",
       "      <td>3</td>\n",
       "      <td>2.383333</td>\n",
       "      <td>1</td>\n",
       "      <td>1</td>\n",
       "    </tr>\n",
       "    <tr>\n",
       "      <td>2</td>\n",
       "      <td>2</td>\n",
       "      <td>0</td>\n",
       "      <td>22</td>\n",
       "      <td>2</td>\n",
       "      <td>9</td>\n",
       "      <td>0</td>\n",
       "      <td>9</td>\n",
       "      <td>4</td>\n",
       "      <td>3</td>\n",
       "      <td>1.0</td>\n",
       "      <td>7.0</td>\n",
       "      <td>0</td>\n",
       "      <td>3.183333</td>\n",
       "      <td>1</td>\n",
       "      <td>1</td>\n",
       "    </tr>\n",
       "    <tr>\n",
       "      <td>3</td>\n",
       "      <td>3</td>\n",
       "      <td>1</td>\n",
       "      <td>7</td>\n",
       "      <td>2</td>\n",
       "      <td>30</td>\n",
       "      <td>1</td>\n",
       "      <td>8</td>\n",
       "      <td>1</td>\n",
       "      <td>3</td>\n",
       "      <td>3.0</td>\n",
       "      <td>10.0</td>\n",
       "      <td>4</td>\n",
       "      <td>2.883333</td>\n",
       "      <td>1</td>\n",
       "      <td>0</td>\n",
       "    </tr>\n",
       "    <tr>\n",
       "      <td>4</td>\n",
       "      <td>4</td>\n",
       "      <td>1</td>\n",
       "      <td>12</td>\n",
       "      <td>1</td>\n",
       "      <td>27</td>\n",
       "      <td>0</td>\n",
       "      <td>8</td>\n",
       "      <td>3</td>\n",
       "      <td>3</td>\n",
       "      <td>4.0</td>\n",
       "      <td>0.0</td>\n",
       "      <td>5</td>\n",
       "      <td>2.650000</td>\n",
       "      <td>1</td>\n",
       "      <td>0</td>\n",
       "    </tr>\n",
       "  </tbody>\n",
       "</table>\n",
       "</div>"
      ],
      "text/plain": [
       "   Unnamed: 0 Fan_Attendance  Away_Team  Game_Type  Home_Team  \\\n",
       "0           0              3         28          2         14   \n",
       "1           1              1         23          2         20   \n",
       "2           2              0         22          2          9   \n",
       "3           3              1          7          2         30   \n",
       "4           4              1         12          1         27   \n",
       "\n",
       "   home_team_errors  home_team_hits  home_team_runs  Day_of_Week  Temperature  \\\n",
       "0                 0               9               4            7          4.0   \n",
       "1                 0               8               3            3          2.0   \n",
       "2                 0               9               4            3          1.0   \n",
       "3                 1               8               1            3          3.0   \n",
       "4                 0               8               3            3          4.0   \n",
       "\n",
       "   Wind_Speed  Sky  game_hours_dec  Season  Home_Team_Win  \n",
       "0        14.0    6        3.216667       1              1  \n",
       "1        24.0    3        2.383333       1              1  \n",
       "2         7.0    0        3.183333       1              1  \n",
       "3        10.0    4        2.883333       1              0  \n",
       "4         0.0    5        2.650000       1              0  "
      ]
     },
     "execution_count": 47,
     "metadata": {},
     "output_type": "execute_result"
    }
   ],
   "source": [
    "Baseball_Data.replace(cleanup_nums, inplace=True)\n",
    "\n",
    "Baseball_Data.head()"
   ]
  },
  {
   "cell_type": "markdown",
   "metadata": {},
   "source": [
    "## IMPORTANT \n",
    "***Below, you will find a legend to the data points that I reassigned...***\n",
    "\n",
    "- Temperature\n",
    "    - 30-40: 0\n",
    "    - 40-50: 1\n",
    "    - 50-60: 2\n",
    "    - 60-70: 3\n",
    "    - 70-80: 4\n",
    "    - 80-90:5\n",
    "    - 90-100: 6\n",
    "    \n",
    "    \n",
    "- Fan_Attendance\n",
    "    - 5000-15000: 0\n",
    "    - 15000-25000: 1\n",
    "    - 25000-35000: 2\n",
    "    - 35000-45000: 3\n",
    "    - 45000-55000: 4\n",
    "    - 55000-65000: 8"
   ]
  },
  {
   "cell_type": "markdown",
   "metadata": {},
   "source": [
    "## EXPLORATORY DATA ANALYSIS (25 points)\n",
    "\n",
    "***My Goal is to run a Linear Regression on Fan_Attendance for the 2016 Baseball Season and find whether or nor temperature and weather patterns play a significant role in how many fans attend a game***\n",
    "\n",
    "***Before I do that I want to visualize my data and make sure that it is somehwhat linear before I proceed.***"
   ]
  },
  {
   "cell_type": "code",
   "execution_count": 48,
   "metadata": {},
   "outputs": [
    {
     "data": {
      "text/plain": [
       "array([[<matplotlib.axes._subplots.AxesSubplot object at 0x000002A771237588>,\n",
       "        <matplotlib.axes._subplots.AxesSubplot object at 0x000002A77124A508>,\n",
       "        <matplotlib.axes._subplots.AxesSubplot object at 0x000002A771280848>,\n",
       "        <matplotlib.axes._subplots.AxesSubplot object at 0x000002A7712BB248>],\n",
       "       [<matplotlib.axes._subplots.AxesSubplot object at 0x000002A7712EEC48>,\n",
       "        <matplotlib.axes._subplots.AxesSubplot object at 0x000002A771328B88>,\n",
       "        <matplotlib.axes._subplots.AxesSubplot object at 0x000002A771361C48>,\n",
       "        <matplotlib.axes._subplots.AxesSubplot object at 0x000002A77139ACC8>],\n",
       "       [<matplotlib.axes._subplots.AxesSubplot object at 0x000002A7713A38C8>,\n",
       "        <matplotlib.axes._subplots.AxesSubplot object at 0x000002A7713DBAC8>,\n",
       "        <matplotlib.axes._subplots.AxesSubplot object at 0x000002A771446048>,\n",
       "        <matplotlib.axes._subplots.AxesSubplot object at 0x000002A77147E108>],\n",
       "       [<matplotlib.axes._subplots.AxesSubplot object at 0x000002A7714B7208>,\n",
       "        <matplotlib.axes._subplots.AxesSubplot object at 0x000002A7714F0308>,\n",
       "        <matplotlib.axes._subplots.AxesSubplot object at 0x000002A771528448>,\n",
       "        <matplotlib.axes._subplots.AxesSubplot object at 0x000002A77155F608>]],\n",
       "      dtype=object)"
      ]
     },
     "execution_count": 48,
     "metadata": {},
     "output_type": "execute_result"
    },
    {
     "data": {
      "image/png": "[encoded data removed]",
      "text/plain": [
       "<Figure size 432x288 with 16 Axes>"
      ]
     },
     "metadata": {
      "needs_background": "light"
     },
     "output_type": "display_data"
    }
   ],
   "source": [
    "Baseball_Data.hist()"
   ]
  },
  {
   "cell_type": "code",
   "execution_count": 49,
   "metadata": {},
   "outputs": [
    {
     "data": {
      "text/plain": [
       "<matplotlib.axes._subplots.AxesSubplot at 0x2a7717b2b08>"
      ]
     },
     "execution_count": 49,
     "metadata": {},
     "output_type": "execute_result"
    },
    {
     "data": {
      "image/png": "[encoded data removed]",
      "text/plain": [
       "<Figure size 432x288 with 1 Axes>"
      ]
     },
     "metadata": {
      "needs_background": "light"
     },
     "output_type": "display_data"
    }
   ],
   "source": [
    "Baseball_Data.Fan_Attendance.plot(kind=\"hist\")"
   ]
  },
  {
   "cell_type": "markdown",
   "metadata": {},
   "source": [
    "***Considering that this is a real-world dataset, it is safe to assume that the data is linear based off of the graph below.***\n",
    "\n",
    "\n",
    "***Important Note - I plotted the Updated_Data Dataset and not the Baseball_Data Dataset since I made Fan_Attendance into bins***"
   ]
  },
  {
   "cell_type": "code",
   "execution_count": 50,
   "metadata": {},
   "outputs": [
    {
     "data": {
      "image/png": "[encoded data removed]",
      "text/plain": [
       "<Figure size 432x288 with 1 Axes>"
      ]
     },
     "metadata": {
      "needs_background": "light"
     },
     "output_type": "display_data"
    }
   ],
   "source": [
    "import statsmodels.api as sm\n",
    "sm.qqplot(Updated_Data.Fan_Attendance, line=\"s\")\n",
    "plt.show()"
   ]
  },
  {
   "cell_type": "markdown",
   "metadata": {},
   "source": [
    "***Changed Dataset name to 'df' to make code cleaner for regression***"
   ]
  },
  {
   "cell_type": "code",
   "execution_count": 51,
   "metadata": {},
   "outputs": [],
   "source": [
    "df = Baseball_Data"
   ]
  },
  {
   "cell_type": "code",
   "execution_count": 52,
   "metadata": {},
   "outputs": [
    {
     "data": {
      "text/html": [
       "<div>\n",
       "<style scoped>\n",
       "    .dataframe tbody tr th:only-of-type {\n",
       "        vertical-align: middle;\n",
       "    }\n",
       "\n",
       "    .dataframe tbody tr th {\n",
       "        vertical-align: top;\n",
       "    }\n",
       "\n",
       "    .dataframe thead th {\n",
       "        text-align: right;\n",
       "    }\n",
       "</style>\n",
       "<table border=\"1\" class=\"dataframe\">\n",
       "  <thead>\n",
       "    <tr style=\"text-align: right;\">\n",
       "      <th></th>\n",
       "      <th>Unnamed: 0</th>\n",
       "      <th>Away_Team</th>\n",
       "      <th>Game_Type</th>\n",
       "      <th>Home_Team</th>\n",
       "      <th>home_team_errors</th>\n",
       "      <th>home_team_hits</th>\n",
       "      <th>home_team_runs</th>\n",
       "      <th>Day_of_Week</th>\n",
       "      <th>Temperature</th>\n",
       "      <th>Wind_Speed</th>\n",
       "      <th>Sky</th>\n",
       "      <th>game_hours_dec</th>\n",
       "      <th>Season</th>\n",
       "      <th>Home_Team_Win</th>\n",
       "    </tr>\n",
       "  </thead>\n",
       "  <tbody>\n",
       "    <tr>\n",
       "      <td>count</td>\n",
       "      <td>2460.000000</td>\n",
       "      <td>2460.000000</td>\n",
       "      <td>2460.000000</td>\n",
       "      <td>2460.000000</td>\n",
       "      <td>2460.000000</td>\n",
       "      <td>2460.000000</td>\n",
       "      <td>2460.000000</td>\n",
       "      <td>2460.000000</td>\n",
       "      <td>2459.000000</td>\n",
       "      <td>2460.000000</td>\n",
       "      <td>2460.000000</td>\n",
       "      <td>2460.000000</td>\n",
       "      <td>2460.000000</td>\n",
       "      <td>2460.000000</td>\n",
       "    </tr>\n",
       "    <tr>\n",
       "      <td>mean</td>\n",
       "      <td>1230.933740</td>\n",
       "      <td>15.320325</td>\n",
       "      <td>1.676423</td>\n",
       "      <td>15.328455</td>\n",
       "      <td>0.586179</td>\n",
       "      <td>8.611382</td>\n",
       "      <td>4.520325</td>\n",
       "      <td>4.164228</td>\n",
       "      <td>3.845872</td>\n",
       "      <td>7.488211</td>\n",
       "      <td>4.018293</td>\n",
       "      <td>3.085352</td>\n",
       "      <td>1.014228</td>\n",
       "      <td>0.529268</td>\n",
       "    </tr>\n",
       "    <tr>\n",
       "      <td>std</td>\n",
       "      <td>711.090637</td>\n",
       "      <td>8.708127</td>\n",
       "      <td>0.467936</td>\n",
       "      <td>8.720424</td>\n",
       "      <td>0.805817</td>\n",
       "      <td>3.438679</td>\n",
       "      <td>3.112502</td>\n",
       "      <td>1.997116</td>\n",
       "      <td>1.088550</td>\n",
       "      <td>5.054428</td>\n",
       "      <td>2.036888</td>\n",
       "      <td>0.460671</td>\n",
       "      <td>0.118452</td>\n",
       "      <td>0.499244</td>\n",
       "    </tr>\n",
       "    <tr>\n",
       "      <td>min</td>\n",
       "      <td>0.000000</td>\n",
       "      <td>1.000000</td>\n",
       "      <td>1.000000</td>\n",
       "      <td>1.000000</td>\n",
       "      <td>0.000000</td>\n",
       "      <td>0.000000</td>\n",
       "      <td>0.000000</td>\n",
       "      <td>1.000000</td>\n",
       "      <td>0.000000</td>\n",
       "      <td>0.000000</td>\n",
       "      <td>0.000000</td>\n",
       "      <td>1.250000</td>\n",
       "      <td>1.000000</td>\n",
       "      <td>0.000000</td>\n",
       "    </tr>\n",
       "    <tr>\n",
       "      <td>25%</td>\n",
       "      <td>615.750000</td>\n",
       "      <td>8.000000</td>\n",
       "      <td>1.000000</td>\n",
       "      <td>8.000000</td>\n",
       "      <td>0.000000</td>\n",
       "      <td>6.000000</td>\n",
       "      <td>2.000000</td>\n",
       "      <td>2.000000</td>\n",
       "      <td>3.000000</td>\n",
       "      <td>4.000000</td>\n",
       "      <td>4.000000</td>\n",
       "      <td>2.783333</td>\n",
       "      <td>1.000000</td>\n",
       "      <td>0.000000</td>\n",
       "    </tr>\n",
       "    <tr>\n",
       "      <td>50%</td>\n",
       "      <td>1230.500000</td>\n",
       "      <td>15.000000</td>\n",
       "      <td>2.000000</td>\n",
       "      <td>15.000000</td>\n",
       "      <td>0.000000</td>\n",
       "      <td>8.000000</td>\n",
       "      <td>4.000000</td>\n",
       "      <td>4.000000</td>\n",
       "      <td>4.000000</td>\n",
       "      <td>7.000000</td>\n",
       "      <td>4.000000</td>\n",
       "      <td>3.033333</td>\n",
       "      <td>1.000000</td>\n",
       "      <td>1.000000</td>\n",
       "    </tr>\n",
       "    <tr>\n",
       "      <td>75%</td>\n",
       "      <td>1846.250000</td>\n",
       "      <td>23.000000</td>\n",
       "      <td>2.000000</td>\n",
       "      <td>23.000000</td>\n",
       "      <td>1.000000</td>\n",
       "      <td>11.000000</td>\n",
       "      <td>6.000000</td>\n",
       "      <td>6.000000</td>\n",
       "      <td>5.000000</td>\n",
       "      <td>11.000000</td>\n",
       "      <td>6.000000</td>\n",
       "      <td>3.316667</td>\n",
       "      <td>1.000000</td>\n",
       "      <td>1.000000</td>\n",
       "    </tr>\n",
       "    <tr>\n",
       "      <td>max</td>\n",
       "      <td>2462.000000</td>\n",
       "      <td>30.000000</td>\n",
       "      <td>2.000000</td>\n",
       "      <td>30.000000</td>\n",
       "      <td>5.000000</td>\n",
       "      <td>22.000000</td>\n",
       "      <td>17.000000</td>\n",
       "      <td>7.000000</td>\n",
       "      <td>6.000000</td>\n",
       "      <td>25.000000</td>\n",
       "      <td>7.000000</td>\n",
       "      <td>6.216667</td>\n",
       "      <td>2.000000</td>\n",
       "      <td>1.000000</td>\n",
       "    </tr>\n",
       "  </tbody>\n",
       "</table>\n",
       "</div>"
      ],
      "text/plain": [
       "        Unnamed: 0    Away_Team    Game_Type    Home_Team  home_team_errors  \\\n",
       "count  2460.000000  2460.000000  2460.000000  2460.000000       2460.000000   \n",
       "mean   1230.933740    15.320325     1.676423    15.328455          0.586179   \n",
       "std     711.090637     8.708127     0.467936     8.720424          0.805817   \n",
       "min       0.000000     1.000000     1.000000     1.000000          0.000000   \n",
       "25%     615.750000     8.000000     1.000000     8.000000          0.000000   \n",
       "50%    1230.500000    15.000000     2.000000    15.000000          0.000000   \n",
       "75%    1846.250000    23.000000     2.000000    23.000000          1.000000   \n",
       "max    2462.000000    30.000000     2.000000    30.000000          5.000000   \n",
       "\n",
       "       home_team_hits  home_team_runs  Day_of_Week  Temperature   Wind_Speed  \\\n",
       "count     2460.000000     2460.000000  2460.000000  2459.000000  2460.000000   \n",
       "mean         8.611382        4.520325     4.164228     3.845872     7.488211   \n",
       "std          3.438679        3.112502     1.997116     1.088550     5.054428   \n",
       "min          0.000000        0.000000     1.000000     0.000000     0.000000   \n",
       "25%          6.000000        2.000000     2.000000     3.000000     4.000000   \n",
       "50%          8.000000        4.000000     4.000000     4.000000     7.000000   \n",
       "75%         11.000000        6.000000     6.000000     5.000000    11.000000   \n",
       "max         22.000000       17.000000     7.000000     6.000000    25.000000   \n",
       "\n",
       "               Sky  game_hours_dec       Season  Home_Team_Win  \n",
       "count  2460.000000     2460.000000  2460.000000    2460.000000  \n",
       "mean      4.018293        3.085352     1.014228       0.529268  \n",
       "std       2.036888        0.460671     0.118452       0.499244  \n",
       "min       0.000000        1.250000     1.000000       0.000000  \n",
       "25%       4.000000        2.783333     1.000000       0.000000  \n",
       "50%       4.000000        3.033333     1.000000       1.000000  \n",
       "75%       6.000000        3.316667     1.000000       1.000000  \n",
       "max       7.000000        6.216667     2.000000       1.000000  "
      ]
     },
     "execution_count": 52,
     "metadata": {},
     "output_type": "execute_result"
    }
   ],
   "source": [
    "df.describe()"
   ]
  },
  {
   "cell_type": "markdown",
   "metadata": {},
   "source": [
    "***Before I run my regression, I want to visualize this correlation chart to see what variables are the best to use***"
   ]
  },
  {
   "cell_type": "code",
   "execution_count": 53,
   "metadata": {},
   "outputs": [
    {
     "data": {
      "text/plain": [
       "<matplotlib.axes._subplots.AxesSubplot at 0x2a7731e2a48>"
      ]
     },
     "execution_count": 53,
     "metadata": {},
     "output_type": "execute_result"
    },
    {
     "data": {
      "image/png": "[encoded data removed]",
      "text/plain": [
       "<Figure size 1080x720 with 2 Axes>"
      ]
     },
     "metadata": {
      "needs_background": "light"
     },
     "output_type": "display_data"
    }
   ],
   "source": [
    "import matplotlib.pyplot as plt\n",
    "import seaborn as sns\n",
    "\n",
    "plt.figure(figsize=(15, 10))\n",
    "sns.heatmap(df.corr(), annot=True)"
   ]
  },
  {
   "cell_type": "code",
   "execution_count": 54,
   "metadata": {},
   "outputs": [
    {
     "data": {
      "text/plain": [
       "<matplotlib.axes._subplots.AxesSubplot at 0x2a770942f48>"
      ]
     },
     "execution_count": 54,
     "metadata": {},
     "output_type": "execute_result"
    },
    {
     "data": {
      "image/png": "[encoded data removed]",
      "text/plain": [
       "<Figure size 432x288 with 1 Axes>"
      ]
     },
     "metadata": {
      "needs_background": "light"
     },
     "output_type": "display_data"
    }
   ],
   "source": [
    "import seaborn as sns\n",
    "sns.distplot(df.Fan_Attendance)"
   ]
  },
  {
   "cell_type": "markdown",
   "metadata": {},
   "source": [
    "## LINEAR REGRESSION\n",
    "\n",
    "***Based off the previous visualizations and the variable's definitions I have decided to use the day of week, the wind speed, whether the game is regular season or playoffs, and a brief description of the weather.***"
   ]
  },
  {
   "cell_type": "code",
   "execution_count": 55,
   "metadata": {},
   "outputs": [],
   "source": [
    "feature_cols_1 = [\"Day_of_Week\", \"Wind_Speed\", \"Season\", \"Sky\"]\n",
    "x_lin = df[feature_cols_1] # Features\n",
    "y_lin = df.Fan_Attendance # Target variable"
   ]
  },
  {
   "cell_type": "markdown",
   "metadata": {},
   "source": [
    "***Next is to split data into a training set and a testing set***"
   ]
  },
  {
   "cell_type": "code",
   "execution_count": 56,
   "metadata": {},
   "outputs": [],
   "source": [
    "from sklearn.model_selection import train_test_split\n",
    "xTrain, xTest, yTrain, yTest = train_test_split(df[[\"Day_of_Week\", \"Wind_Speed\", \"Season\", \"Sky\"]], \n",
    "                                                 df.Fan_Attendance,\n",
    "                                                test_size = 0.3)"
   ]
  },
  {
   "cell_type": "markdown",
   "metadata": {},
   "source": [
    "***Next is to import the linear regression***"
   ]
  },
  {
   "cell_type": "code",
   "execution_count": 57,
   "metadata": {},
   "outputs": [],
   "source": [
    "from sklearn.linear_model import LinearRegression\n",
    "lm = LinearRegression()"
   ]
  },
  {
   "cell_type": "markdown",
   "metadata": {},
   "source": [
    "***Next we have to fit the model to our dataset***"
   ]
  },
  {
   "cell_type": "code",
   "execution_count": 58,
   "metadata": {},
   "outputs": [
    {
     "data": {
      "text/plain": [
       "LinearRegression(copy_X=True, fit_intercept=True, n_jobs=None, normalize=False)"
      ]
     },
     "execution_count": 58,
     "metadata": {},
     "output_type": "execute_result"
    }
   ],
   "source": [
    "lm.fit(xTrain, yTrain)"
   ]
  },
  {
   "cell_type": "markdown",
   "metadata": {},
   "source": [
    "***Now that the model is created and we trained it in the previous section now we have to test the model with our testing dataset***"
   ]
  },
  {
   "cell_type": "code",
   "execution_count": 59,
   "metadata": {},
   "outputs": [
    {
     "data": {
      "text/plain": [
       "array([1.63268993, 2.65774226, 1.79675517, 2.47321448, 1.71460661,\n",
       "       3.03240574, 1.48868998, 1.7244739 , 2.38215848, 1.86824196,\n",
       "       1.93956339, 1.91989534, 2.26928285, 1.66318512, 1.87810925,\n",
       "       1.6334179 , 1.9296961 , 1.80662246, 2.25829035, 2.33964442,\n",
       "       1.60156562, 1.56097126, 2.0116793 , 2.00164666, 1.50954977,\n",
       "       2.0732988 , 2.18657168, 2.47377708, 1.48908723, 1.93956339,\n",
       "       1.81665511, 2.15640721, 1.92953074, 2.21673614, 2.35143141,\n",
       "       2.00181201, 1.63268993, 2.51413956, 1.81665511, 1.91966345,\n",
       "       1.75520097, 2.20710074, 1.41736856, 2.0116793 , 1.78592804,\n",
       "       1.80678782, 1.90963081, 2.2592502 , 2.45252006, 1.91989534,\n",
       "       2.28885206, 2.53466862, 1.99098488, 2.12568014, 2.44248741,\n",
       "       2.00277186, 1.63268993, 2.155282  , 1.63245805, 2.27819028,\n",
       "       2.23759593, 1.93032523, 2.47337984, 1.63229269, 1.77629263,\n",
       "       2.47321448, 1.34548453, 2.06349804, 2.44265277, 2.44361262,\n",
       "       2.52480133, 1.68387954, 1.63229269, 2.38119863, 1.30545277,\n",
       "       1.74589628, 2.12455493, 1.83734953, 1.91059065, 2.19683621,\n",
       "       2.3503062 , 1.48908723, 2.17614179, 2.59612276, 3.43169228,\n",
       "       2.40189305, 1.45908812, 1.51997966, 1.88989623, 1.34548453,\n",
       "       1.9296961 , 2.05323351, 1.79596068, 1.38664149, 2.3503062 ,\n",
       "       2.57542834, 2.06349804, 2.03237373, 2.05379611, 1.63268993,\n",
       "       1.84738218, 1.70490468, 1.74629353, 1.48908723, 1.78592804,\n",
       "       2.38103327, 1.48908723, 2.25749586, 2.11468765, 2.17614179,\n",
       "       1.91989534, 2.06349804, 1.69487204, 2.28901742, 1.45908812,\n",
       "       2.12455493, 1.65411232, 2.24746321, 1.63285529, 2.43262012,\n",
       "       1.89880367, 2.17653903, 2.15544736, 2.24802582, 1.96138302,\n",
       "       2.22756328, 2.14581196, 2.20710074, 2.06349804, 2.54470127,\n",
       "       2.14462023, 2.45252006, 1.95062241, 1.74629353, 2.56556105,\n",
       "       1.55014412, 2.12511754, 1.91989534, 1.63268993, 1.6334179 ,\n",
       "       1.7244739 , 2.45252006, 1.48908723, 1.63268993, 1.41736856,\n",
       "       2.5139742 , 2.35143141, 3.58628748, 1.63245805, 1.70377947,\n",
       "       2.268323  , 2.02283716, 1.82748224, 2.41176034, 2.36090145,\n",
       "       1.94012599, 1.44809563, 2.04240637, 1.74629353, 1.70377947,\n",
       "       2.07313344, 1.59169833, 2.21673614, 2.26872024, 2.00277186,\n",
       "       2.26815764, 1.97148219, 2.70916375, 2.20710074, 2.44248741,\n",
       "       1.77589539, 1.75520097, 2.49407426, 2.37116598, 2.14574544,\n",
       "       1.57196376, 2.30000992, 2.21786135, 2.50394155, 2.44248741,\n",
       "       1.60212822, 1.68387954, 1.55014412, 1.71460661, 2.57542834,\n",
       "       1.48908723, 2.38136399, 1.83751489, 1.47978255, 2.56556105,\n",
       "       3.60681655, 2.50506676, 1.95039052, 1.66301976, 1.88893638,\n",
       "       1.94075512, 2.5555284 , 2.02250644, 2.10386051, 1.64232533,\n",
       "       2.05323351, 1.43822834, 2.2072661 , 1.67417761, 1.95022516,\n",
       "       2.38103327, 1.57140115, 1.91989534, 2.38103327, 1.96025781,\n",
       "       1.63229269, 2.50410691, 1.2747257 , 2.35047156, 2.74975811,\n",
       "       1.45852552, 1.89992888, 2.36033885, 1.66318512, 1.2747257 ,\n",
       "       1.75576357, 2.70916375, 1.41832841, 1.85916916, 2.18600907,\n",
       "       1.74533368, 2.49407426, 1.77629263, 2.08412594, 1.63229269,\n",
       "       1.66301976, 1.93956339, 1.44905548, 1.66358236, 1.91966345,\n",
       "       1.98095223, 1.63268993, 1.91966345, 1.4788227 , 1.77629263,\n",
       "       1.66301976, 2.22756328, 2.53466862, 1.9296961 , 2.20686886,\n",
       "       1.55014412, 2.32014173, 2.155282  , 2.39106592, 1.97029046,\n",
       "       1.34548453, 1.63268993, 2.34043891, 1.91989534, 2.65870211,\n",
       "       2.23759593, 1.48868998, 1.94131772, 2.38215848, 1.48908723,\n",
       "       2.49407426, 2.44265277, 2.15544736, 1.63268993, 2.26928285,\n",
       "       2.05419336, 2.48324713, 1.65315247, 1.87986358, 1.63268993,\n",
       "       2.33964442, 1.62338525, 1.88893638, 1.60173098, 2.41225642,\n",
       "       1.83791213, 3.30815488, 2.39106592, 2.16610914, 1.77629263,\n",
       "       1.81778032, 2.71903104, 1.97091959, 1.90883632, 1.75520097,\n",
       "       2.35047156, 1.71460661, 1.63268993, 1.7244739 , 2.28997727,\n",
       "       2.30908271, 1.9296961 , 1.78592804, 2.18713428, 1.66301976,\n",
       "       2.32961178, 2.62684983, 1.34548453, 1.75536633, 1.48908723,\n",
       "       1.56113662, 2.28822293, 1.61216087, 2.49407426, 2.59724797,\n",
       "       1.48908723, 3.46241935, 1.63268993, 1.48908723, 1.58087119,\n",
       "       2.06349804, 1.77589539, 1.57196376, 2.24762857, 1.66414497,\n",
       "       3.65800615, 3.72949294, 1.77629263, 1.6334179 , 2.25845571,\n",
       "       2.0636634 , 2.29825558, 1.91989534, 2.29888471, 2.43262012,\n",
       "       1.6224254 , 1.89936627, 2.16610914, 2.20686886, 2.30891735,\n",
       "       1.9616149 , 1.88893638, 2.41288555, 2.19683621, 2.59612276,\n",
       "       2.08435782, 2.064226  , 2.01207655, 1.57100391, 1.60269083,\n",
       "       1.79596068, 1.59169833, 2.22796052, 1.59169833, 1.78672253,\n",
       "       2.35047156, 1.48908723, 1.63268993, 1.6224254 , 2.46334719,\n",
       "       2.27819028, 1.84754754, 1.4788227 , 2.20686886, 1.89896903,\n",
       "       1.86824196, 3.87293028, 1.92953074, 2.19683621, 1.91966345,\n",
       "       1.63268993, 2.50394155, 2.064226  , 2.06349804, 1.8680766 ,\n",
       "       2.62741243, 2.52480133, 1.74533368, 1.80662246, 1.66414497,\n",
       "       2.18617443, 1.48908723, 1.74516832, 2.0116793 , 2.35047156,\n",
       "       1.48908723, 2.14541472, 1.36634431, 1.82844209, 1.34548453,\n",
       "       1.8680766 , 2.6575769 , 2.20719958, 2.06349804, 1.86920181,\n",
       "       2.5139742 , 1.83734953, 1.92953074, 2.16531465, 2.32070434,\n",
       "       1.48908723, 1.78592804, 1.7244739 , 2.268323  , 1.34548453,\n",
       "       2.63688248, 2.34043891, 2.54470127, 2.08396058, 2.47433969,\n",
       "       2.29961267, 2.28997727, 1.79675517, 1.48908723, 2.08333145,\n",
       "       1.87923446, 1.77589539, 1.9200607 , 2.21673614, 2.03253908,\n",
       "       2.37116598, 1.91989534, 2.0116793 , 2.04257173, 1.77629263,\n",
       "       2.17710164, 2.39106592, 1.60269083, 1.70553381, 1.63268993,\n",
       "       2.04240637, 2.38103327, 1.83791213, 1.34548453, 2.46334719,\n",
       "       1.66318512, 1.82748224, 2.20710074, 2.02250644, 2.4119257 ,\n",
       "       2.35047156, 1.81778032, 2.21673614, 1.95039052, 1.97108495,\n",
       "       1.61159826, 2.41288555, 2.20710074, 1.83751489, 2.36146406,\n",
       "       2.41176034, 2.25829035, 1.91949809, 2.00181201, 3.65744355,\n",
       "       2.62684983, 2.34043891, 1.71460661, 1.45908812, 2.08372869,\n",
       "       1.77589539, 1.95022516, 2.155282  , 1.74516832, 2.30891735,\n",
       "       2.24746321, 2.06349804, 2.59628812, 1.66318512, 2.21753063,\n",
       "       2.06349804, 1.97148219, 1.79771502, 3.89379007, 1.77606075,\n",
       "       1.69374683, 2.29888471, 2.25829035, 2.44281813, 1.67384689,\n",
       "       2.57638818, 2.10386051, 2.30891735, 2.12472029, 1.55126933,\n",
       "       2.32070434, 2.16643986, 2.1753473 , 2.30891735, 1.86824196,\n",
       "       2.02171195, 2.11452229, 2.08372869, 2.4229182 , 2.22756328,\n",
       "       2.20710074, 2.43262012, 1.68387954, 1.92953074, 1.34548453,\n",
       "       2.24746321, 2.2592502 , 1.66318512, 2.44248741, 3.56503045,\n",
       "       2.19604172, 2.35143141, 2.34043891, 1.69374683, 1.63268993,\n",
       "       2.03253908, 2.62684983, 1.9206233 , 1.68387954, 2.01280451,\n",
       "       2.04296898, 1.95039052, 1.71460661, 2.39123128, 2.11468765,\n",
       "       2.28901742, 2.12455493, 2.25749586, 1.65315247, 2.44248741,\n",
       "       1.95135037, 1.86824196, 1.55014412, 1.56193111, 1.30545277,\n",
       "       2.56539569, 2.33964442, 2.48324713, 2.56539569, 2.155282  ,\n",
       "       2.14541472, 1.39763398, 2.5150994 , 1.68387954, 1.45796292,\n",
       "       2.48324713, 1.75536633, 1.34548453, 2.27819028, 1.9206233 ,\n",
       "       1.90963081, 2.06349804, 1.79675517, 1.66301976, 2.14524936,\n",
       "       2.20710074, 1.99177937, 1.80678782, 2.44248741, 2.32070434,\n",
       "       2.15640721, 2.40189305, 1.97091959, 2.32961178, 2.06349804,\n",
       "       2.18600907, 1.55014412, 1.63268993, 1.84794478, 1.73450654,\n",
       "       2.38119863, 1.9610523 , 2.25829035, 2.19683621, 1.9206233 ,\n",
       "       2.06349804, 2.27931549, 1.80662246, 2.25829035, 2.02250644,\n",
       "       2.21786135, 2.06349804, 2.54526387, 1.94035788, 2.59668536,\n",
       "       2.36033885, 2.20710074, 2.17614179, 1.86824196, 1.8680766 ,\n",
       "       2.83207203, 2.5555284 , 1.48908723, 2.20710074, 1.73450654,\n",
       "       2.50506676, 2.08316609, 2.19683621, 2.32961178, 3.68817062,\n",
       "       2.15640721, 1.56193111, 2.16610914, 2.41176034, 1.69487204,\n",
       "       1.8174496 , 2.20710074, 2.56539569, 2.2067035 , 1.36690691,\n",
       "       2.18713428, 2.32070434, 1.84817667, 1.54027684, 1.73530103,\n",
       "       2.20710074, 2.54470127, 1.92953074, 2.6575769 , 2.0933641 ,\n",
       "       3.22719805, 1.77629263, 2.46334719, 2.29905007, 2.2169015 ,\n",
       "       2.62797504, 2.5139742 , 2.12472029, 2.00101753, 1.84738218,\n",
       "       2.60615541, 1.76698795, 1.78592804, 1.95135037, 1.78672253,\n",
       "       1.57100391, 1.99211009, 2.37116598, 1.91989534, 2.14541472,\n",
       "       2.53466862, 2.09495307, 1.64232533, 2.41176034, 2.30000992,\n",
       "       1.36690691, 2.08396058, 1.44905548, 1.96138302, 2.17710164,\n",
       "       1.76698795, 1.57196376, 2.42195835, 2.20782871, 1.96025781,\n",
       "       1.63229269, 2.2482577 , 2.21673614, 2.00277186, 1.84738218,\n",
       "       2.47377708, 1.61159826, 2.18657168, 2.36146406, 2.06349804,\n",
       "       2.34043891, 1.74533368, 1.77589539, 1.34548453, 2.52400684,\n",
       "       1.60212822, 2.38103327, 1.34548453, 1.91989534, 1.80678782,\n",
       "       1.97204479, 2.44248741, 1.74533368, 2.06349804, 2.28997727,\n",
       "       2.10442312, 1.95078777, 2.20710074, 1.62338525, 1.61159826,\n",
       "       1.73506915, 2.31957913, 1.7244739 , 2.35143141, 1.91989534,\n",
       "       1.83734953, 1.64311982, 2.14541472, 2.32977714, 1.91989534,\n",
       "       1.83734953, 2.20710074, 2.33073699, 1.66318512, 2.23743057,\n",
       "       2.13571279, 1.99177937, 2.45308266, 2.20710074, 1.71460661,\n",
       "       1.9200607 , 1.63268993, 1.83734953, 2.49407426, 2.5139742 ,\n",
       "       2.21673614, 1.38664149, 1.91989534, 2.26815764, 2.56556105,\n",
       "       1.97108495, 2.32977714, 1.84850739, 1.88933363, 2.20686886,\n",
       "       1.34548453, 2.5139742 , 2.02171195, 2.46334719, 2.064226  ,\n",
       "       1.71556646, 2.39123128, 2.44248741, 2.155282  , 2.00181201,\n",
       "       2.20686886, 2.08396058, 2.73989082, 2.00101753, 2.34043891,\n",
       "       2.20710074, 1.77629263, 2.54470127, 2.27875289, 1.45908812,\n",
       "       1.91989534, 2.53579383, 1.54123669, 1.88893638, 1.58087119,\n",
       "       1.34548453, 1.97108495, 2.01184466, 1.89880367, 2.40189305,\n",
       "       2.38103327, 2.59612276, 1.85916916])"
      ]
     },
     "execution_count": 59,
     "metadata": {},
     "output_type": "execute_result"
    }
   ],
   "source": [
    "y_pred = lm.predict(xTest)\n",
    "y_pred"
   ]
  },
  {
   "cell_type": "markdown",
   "metadata": {},
   "source": [
    "#### By taking the mean I am able to say that 2.0145 or roughly around 25,000 fans attend games"
   ]
  },
  {
   "cell_type": "code",
   "execution_count": 60,
   "metadata": {},
   "outputs": [
    {
     "data": {
      "text/plain": [
       "2.0442968750680324"
      ]
     },
     "execution_count": 60,
     "metadata": {},
     "output_type": "execute_result"
    }
   ],
   "source": [
    "y_pred.mean()"
   ]
  },
  {
   "cell_type": "markdown",
   "metadata": {},
   "source": [
    "### Now that I created a model, I want to get the linear regression equation from the model "
   ]
  },
  {
   "cell_type": "markdown",
   "metadata": {},
   "source": [
    "***My R-SQUARED value***"
   ]
  },
  {
   "cell_type": "code",
   "execution_count": 61,
   "metadata": {},
   "outputs": [
    {
     "data": {
      "text/plain": [
       "0.11459353153408491"
      ]
     },
     "execution_count": 61,
     "metadata": {},
     "output_type": "execute_result"
    }
   ],
   "source": [
    "lm.score(x_lin,y_lin)"
   ]
  },
  {
   "cell_type": "markdown",
   "metadata": {},
   "source": [
    "***My coefficients***"
   ]
  },
  {
   "cell_type": "code",
   "execution_count": 62,
   "metadata": {},
   "outputs": [
    {
     "data": {
      "text/plain": [
       "array([0.1436027 , 0.03072707, 1.3997158 , 0.02029718])"
      ]
     },
     "execution_count": 62,
     "metadata": {},
     "output_type": "execute_result"
    }
   ],
   "source": [
    "lm.coef_"
   ]
  },
  {
   "cell_type": "markdown",
   "metadata": {},
   "source": [
    "***My y-intercept***"
   ]
  },
  {
   "cell_type": "code",
   "execution_count": 63,
   "metadata": {},
   "outputs": [
    {
     "data": {
      "text/plain": [
       "-0.299319871359117"
      ]
     },
     "execution_count": 63,
     "metadata": {},
     "output_type": "execute_result"
    }
   ],
   "source": [
    "lm.intercept_"
   ]
  },
  {
   "cell_type": "markdown",
   "metadata": {},
   "source": [
    "###### My Linear Regression Formula \n",
    "\n",
    "\n",
    "*= 0.1342(Day_of_Week) + 0.0298(Wind_Speed) + 1.247(Season) + 0.0117(Sky) - 0.072*\n",
    "\n",
    "\n",
    "\n",
    "        - At a quick glance, I was surprised to see that the Sky Variable didn not yeilded a more significant correlation    but then I looked at the dataset again an realized that Baseball is subjected to rain outs and will not play in bad      weather like other sports\n",
    "        \n",
    "        \n",
    "        - It also does not catch me by surprised that more people tend to attend playoff games than regular season games\n",
    "        \n",
    "        \n",
    "        - The wind speed was the one variable that I hoped would find a correlation but instead found an insiginifcant one\n",
    "        \n",
    "        \n",
    "        - The regression found a healthy correlation with Day_of_Week; again this does not surprise me because people tend    to go out more towards the end of the week and not in the beginning of the week. \n",
    "        \n",
    "\n",
    "\n",
    "\n",
    "*R-SQUARED=0.1269*\n",
    "\n",
    "\n",
    "\n",
    "        - I was surprised to see that the R-SQUARED value was so low, I was hoping for a value close to .6\n",
    "        \n",
    "        \n",
    "        - I am also surprised that there is not a significant correleation to weather and Fan Attendance at Baseball Games\n",
    "\n"
   ]
  },
  {
   "cell_type": "markdown",
   "metadata": {},
   "source": [
    "## LOGISTIC REGRESSION\n",
    "\n",
    "***As an extra efort, I also want to analyse the variable Home_Team_Win and what we can conclude about teams who win.***"
   ]
  },
  {
   "cell_type": "code",
   "execution_count": 64,
   "metadata": {},
   "outputs": [],
   "source": [
    "feature_cols_2 = [\"home_team_errors\", \"home_team_hits\", \"home_team_runs\", \"game_hours_dec\"]\n",
    "x_log = Updated_Data[feature_cols_2] # Features\n",
    "y_log = Updated_Data.Home_Team_Win # Target variable"
   ]
  },
  {
   "cell_type": "markdown",
   "metadata": {},
   "source": [
    "***Next is to split data into a training set and a testing set***"
   ]
  },
  {
   "cell_type": "code",
   "execution_count": 65,
   "metadata": {},
   "outputs": [],
   "source": [
    "from sklearn.model_selection import train_test_split\n",
    "xTrain, xTest, yTrain, yTest = train_test_split(Updated_Data[[\"home_team_errors\", \"home_team_hits\", \"home_team_runs\",\n",
    "                                                              \"game_hours_dec\"]], \n",
    "                                                 Updated_Data.Home_Team_Win,\n",
    "                                                test_size = 0.3)"
   ]
  },
  {
   "cell_type": "markdown",
   "metadata": {},
   "source": [
    "***Next is to import the logistic regression***"
   ]
  },
  {
   "cell_type": "code",
   "execution_count": 66,
   "metadata": {},
   "outputs": [],
   "source": [
    "from sklearn.linear_model import LogisticRegression\n",
    "logreg = LogisticRegression()"
   ]
  },
  {
   "cell_type": "markdown",
   "metadata": {},
   "source": [
    "***Next we have to fit the model to our dataset***"
   ]
  },
  {
   "cell_type": "code",
   "execution_count": 67,
   "metadata": {},
   "outputs": [
    {
     "name": "stderr",
     "output_type": "stream",
     "text": [
      "C:\\Users\\andre\\Anaconda3\\lib\\site-packages\\sklearn\\linear_model\\logistic.py:432: FutureWarning: Default solver will be changed to 'lbfgs' in 0.22. Specify a solver to silence this warning.\n",
      "  FutureWarning)\n"
     ]
    },
    {
     "data": {
      "text/plain": [
       "LogisticRegression(C=1.0, class_weight=None, dual=False, fit_intercept=True,\n",
       "                   intercept_scaling=1, l1_ratio=None, max_iter=100,\n",
       "                   multi_class='warn', n_jobs=None, penalty='l2',\n",
       "                   random_state=None, solver='warn', tol=0.0001, verbose=0,\n",
       "                   warm_start=False)"
      ]
     },
     "execution_count": 67,
     "metadata": {},
     "output_type": "execute_result"
    }
   ],
   "source": [
    "logreg.fit(xTrain,yTrain)"
   ]
  },
  {
   "cell_type": "markdown",
   "metadata": {},
   "source": [
    "***Now that the model is created and we trained it in the previous section now we have to test the model with our testing dataset***"
   ]
  },
  {
   "cell_type": "code",
   "execution_count": 68,
   "metadata": {},
   "outputs": [
    {
     "data": {
      "text/plain": [
       "array([0, 1, 1, 1, 1, 0, 1, 0, 1, 0, 0, 1, 1, 0, 0, 0, 0, 1, 0, 1, 1, 1,\n",
       "       0, 1, 1, 1, 0, 0, 1, 1, 1, 1, 0, 1, 1, 0, 1, 1, 1, 0, 0, 0, 1, 0,\n",
       "       1, 1, 0, 0, 1, 0, 0, 1, 0, 1, 0, 1, 0, 0, 1, 1, 0, 1, 1, 1, 1, 0,\n",
       "       0, 1, 0, 1, 0, 0, 0, 1, 0, 0, 0, 1, 1, 0, 0, 1, 0, 0, 0, 0, 0, 0,\n",
       "       0, 0, 0, 0, 1, 0, 0, 0, 0, 0, 1, 0, 0, 0, 1, 0, 1, 0, 1, 0, 1, 1,\n",
       "       1, 1, 1, 0, 0, 1, 1, 1, 0, 0, 1, 1, 0, 1, 1, 0, 0, 0, 1, 1, 1, 1,\n",
       "       0, 1, 0, 1, 1, 1, 1, 1, 1, 1, 1, 0, 0, 1, 1, 0, 0, 1, 0, 1, 0, 1,\n",
       "       1, 1, 1, 1, 1, 0, 0, 1, 1, 1, 0, 0, 0, 1, 0, 0, 1, 0, 1, 1, 1, 0,\n",
       "       1, 1, 1, 0, 1, 0, 0, 0, 0, 1, 0, 0, 0, 0, 1, 1, 0, 0, 0, 1, 1, 0,\n",
       "       0, 0, 1, 0, 0, 1, 1, 1, 1, 0, 1, 1, 0, 0, 1, 0, 0, 0, 1, 1, 1, 1,\n",
       "       1, 1, 0, 1, 1, 1, 1, 1, 1, 1, 0, 1, 0, 0, 0, 0, 0, 0, 0, 0, 0, 0,\n",
       "       1, 1, 0, 1, 1, 1, 1, 0, 1, 1, 0, 0, 1, 0, 0, 0, 1, 1, 0, 1, 0, 0,\n",
       "       1, 0, 0, 1, 0, 1, 0, 1, 0, 0, 0, 0, 1, 1, 0, 1, 0, 0, 1, 1, 0, 1,\n",
       "       1, 0, 0, 0, 1, 1, 1, 0, 0, 1, 0, 1, 0, 0, 1, 0, 0, 0, 0, 0, 1, 1,\n",
       "       0, 1, 1, 0, 1, 0, 1, 1, 0, 0, 1, 1, 0, 1, 0, 0, 0, 1, 1, 1, 1, 1,\n",
       "       1, 1, 0, 0, 0, 1, 0, 0, 0, 0, 1, 0, 0, 1, 0, 1, 1, 0, 0, 0, 1, 1,\n",
       "       1, 0, 1, 0, 1, 0, 1, 1, 0, 1, 0, 1, 1, 1, 1, 1, 1, 0, 1, 0, 1, 0,\n",
       "       1, 1, 1, 0, 0, 1, 0, 0, 0, 0, 1, 0, 1, 0, 1, 1, 0, 0, 1, 1, 1, 1,\n",
       "       1, 0, 1, 1, 0, 0, 0, 0, 0, 1, 0, 1, 0, 0, 1, 0, 0, 1, 1, 1, 0, 1,\n",
       "       1, 0, 1, 0, 1, 1, 1, 1, 1, 1, 0, 1, 1, 0, 1, 0, 1, 0, 1, 1, 0, 0,\n",
       "       0, 0, 1, 1, 1, 0, 1, 1, 1, 1, 1, 1, 0, 0, 1, 1, 1, 0, 0, 1, 0, 1,\n",
       "       1, 1, 0, 0, 1, 1, 0, 1, 1, 0, 1, 0, 1, 1, 1, 1, 1, 0, 0, 1, 1, 0,\n",
       "       0, 0, 1, 1, 0, 1, 1, 1, 1, 1, 1, 0, 1, 1, 0, 0, 1, 0, 1, 1, 0, 0,\n",
       "       1, 1, 1, 0, 0, 0, 1, 1, 1, 0, 0, 0, 1, 0, 1, 0, 0, 1, 0, 0, 0, 0,\n",
       "       1, 0, 0, 0, 0, 0, 1, 1, 0, 1, 0, 1, 1, 0, 1, 1, 0, 0, 0, 1, 1, 1,\n",
       "       0, 1, 0, 1, 1, 1, 1, 0, 0, 0, 0, 0, 1, 1, 1, 0, 0, 1, 0, 1, 0, 0,\n",
       "       1, 1, 0, 0, 1, 0, 1, 0, 0, 0, 1, 0, 1, 1, 1, 0, 1, 1, 1, 1, 1, 0,\n",
       "       0, 0, 1, 0, 1, 1, 1, 1, 0, 0, 0, 0, 1, 0, 0, 0, 0, 1, 0, 0, 1, 0,\n",
       "       1, 0, 0, 0, 0, 0, 0, 1, 1, 0, 0, 1, 1, 0, 0, 1, 0, 0, 1, 0, 0, 1,\n",
       "       1, 1, 1, 1, 1, 1, 1, 0, 0, 1, 0, 1, 1, 0, 0, 0, 0, 1, 0, 1, 1, 0,\n",
       "       1, 0, 1, 1, 0, 1, 1, 1, 1, 1, 1, 0, 0, 0, 0, 0, 0, 1, 1, 1, 1, 1,\n",
       "       1, 0, 1, 1, 1, 1, 0, 0, 1, 0, 1, 1, 1, 1, 1, 1, 1, 0, 0, 0, 0, 0,\n",
       "       0, 0, 1, 1, 1, 1, 1, 0, 0, 1, 0, 1, 1, 1, 1, 1, 1, 1, 0, 1, 1, 0,\n",
       "       1, 1, 1, 0, 1, 0, 1, 1, 1, 0, 1, 1, 1], dtype=int64)"
      ]
     },
     "execution_count": 68,
     "metadata": {},
     "output_type": "execute_result"
    }
   ],
   "source": [
    "y_pred=logreg.predict(xTest)\n",
    "y_pred"
   ]
  },
  {
   "cell_type": "markdown",
   "metadata": {},
   "source": [
    "***Next step is to import the data above as a matrix***"
   ]
  },
  {
   "cell_type": "code",
   "execution_count": 69,
   "metadata": {},
   "outputs": [
    {
     "data": {
      "text/plain": [
       "array([[269,  86],\n",
       "       [ 80, 304]], dtype=int64)"
      ]
     },
     "execution_count": 69,
     "metadata": {},
     "output_type": "execute_result"
    }
   ],
   "source": [
    "from sklearn import metrics\n",
    "cnf_matrix = metrics.confusion_matrix(yTest, y_pred)\n",
    "cnf_matrix"
   ]
  },
  {
   "cell_type": "markdown",
   "metadata": {},
   "source": [
    "***To better undersatnd the matrix, I visualize it so it will look better***"
   ]
  },
  {
   "cell_type": "code",
   "execution_count": 70,
   "metadata": {},
   "outputs": [
    {
     "data": {
      "text/plain": [
       "Text(0.5, 257.44, 'Predicted')"
      ]
     },
     "execution_count": 70,
     "metadata": {},
     "output_type": "execute_result"
    },
    {
     "data": {
      "image/png": "[encoded data removed]",
      "text/plain": [
       "<Figure size 432x288 with 2 Axes>"
      ]
     },
     "metadata": {
      "needs_background": "light"
     },
     "output_type": "display_data"
    }
   ],
   "source": [
    "# import required modules\n",
    "import numpy as np\n",
    "import matplotlib.pyplot as plt\n",
    "import seaborn as sns\n",
    "%matplotlib inline\n",
    "\n",
    "class_names=[0,1] # name  of classes\n",
    "fig, ax = plt.subplots()\n",
    "tick_marks = np.arange(len(class_names))\n",
    "plt.xticks(tick_marks, class_names)\n",
    "plt.yticks(tick_marks, class_names)\n",
    "# create heatmap\n",
    "sns.heatmap(pd.DataFrame(cnf_matrix), annot=True, cmap=\"Blues\" ,fmt=\"\")\n",
    "ax.xaxis.set_label_position(\"top\")\n",
    "plt.tight_layout()\n",
    "plt.title('Confusion_Matrix', y=1)\n",
    "plt.ylabel('Actual')\n",
    "plt.xlabel('Predicted')"
   ]
  },
  {
   "cell_type": "markdown",
   "metadata": {},
   "source": [
    "***After visualizing, I will take the accuracy and the precision rate of the model***"
   ]
  },
  {
   "cell_type": "code",
   "execution_count": 71,
   "metadata": {},
   "outputs": [
    {
     "name": "stdout",
     "output_type": "stream",
     "text": [
      "Accuracy: 0.7753721244925575\n",
      "Precision: 0.7794871794871795\n",
      "Recall: 0.7916666666666666\n"
     ]
    }
   ],
   "source": [
    "print(\"Accuracy:\",metrics.accuracy_score(yTest, y_pred))\n",
    "print(\"Precision:\",metrics.precision_score(yTest, y_pred))\n",
    "print(\"Recall:\",metrics.recall_score(yTest, y_pred))"
   ]
  },
  {
   "cell_type": "markdown",
   "metadata": {},
   "source": [
    "***Now that I have the precision rate, I want to visualize it to see it better***"
   ]
  },
  {
   "cell_type": "code",
   "execution_count": 72,
   "metadata": {},
   "outputs": [
    {
     "data": {
      "image/png": "[encoded data removed]",
      "text/plain": [
       "<Figure size 432x288 with 1 Axes>"
      ]
     },
     "metadata": {
      "needs_background": "light"
     },
     "output_type": "display_data"
    }
   ],
   "source": [
    "y_pred_proba = logreg.predict_proba(xTest)[::,1]\n",
    "fpr, tpr, _ = metrics.roc_curve(yTest,  y_pred_proba)\n",
    "auc = metrics.roc_auc_score(yTest, y_pred_proba)\n",
    "plt.plot(fpr,tpr,label=\"data 1, auc=\"+str(auc))\n",
    "plt.legend(loc=4)\n",
    "plt.show()"
   ]
  },
  {
   "cell_type": "markdown",
   "metadata": {},
   "source": [
    "## CONCLUSION (40 points)\n",
    "\n",
    "***In this final section, you should draw conclusions based on your analysis. Each of your conclusion should be supported with visualizations and pvalues and any other appropriate measurments for your dataset.***"
   ]
  },
  {
   "cell_type": "code",
   "execution_count": 73,
   "metadata": {},
   "outputs": [
    {
     "data": {
      "image/png": "[encoded data removed]",
      "text/plain": [
       "<Figure size 432x288 with 1 Axes>"
      ]
     },
     "metadata": {
      "needs_background": "light"
     },
     "output_type": "display_data"
    }
   ],
   "source": [
    "# Scaling attribute values to avoid few outiers\n",
    "cols = [\"Day_of_Week\", \"Wind_Speed\", \"Season\", \"Sky\"]\n",
    "subset_df = df[cols]\n",
    "\n",
    "from sklearn.preprocessing import StandardScaler\n",
    "ss = StandardScaler()\n",
    "\n",
    "scaled_df = ss.fit_transform(subset_df)\n",
    "scaled_df = pd.DataFrame(scaled_df, columns=cols)\n",
    "final_df = pd.concat([scaled_df, df['Fan_Attendance']], axis=1)\n",
    "final_df.head()\n",
    "\n",
    "# plot parallel coordinates\n",
    "from pandas.plotting import parallel_coordinates\n",
    "pc = parallel_coordinates(final_df, 'Fan_Attendance', color=('Blue', 'Red', 'Yellow', \"Green\", 'Purple', 'Grey'))"
   ]
  },
  {
   "cell_type": "markdown",
   "metadata": {},
   "source": [
    "### Conlusion #1"
   ]
  },
  {
   "cell_type": "markdown",
   "metadata": {},
   "source": [
    "- Based off the graph above and graph 1 below, my first conclusion from this dataset is that there is a strong linear relationship between Fan Attendance for Baseball Games and whether or not is it the Regular Season or Postseason"
   ]
  },
  {
   "cell_type": "markdown",
   "metadata": {},
   "source": [
    "### Conlusion #2"
   ]
  },
  {
   "cell_type": "markdown",
   "metadata": {},
   "source": [
    "- Based off the graph above and the graph 2 below, my first conclusion from this dataset is that there is a strong linear relationship betweenMy second conclusion from this dataset is that there is a strong linear relationship between Fan Attendance for Baseball Games and what day of the week it is"
   ]
  },
  {
   "cell_type": "markdown",
   "metadata": {},
   "source": [
    "### Conlusion #3"
   ]
  },
  {
   "cell_type": "markdown",
   "metadata": {},
   "source": [
    "- Based off the graph above, it is safe to say that when Baseball games are plpayed in the beginning of the week like on a Monday and Tuesday there is less of Fan Attendance than those played on Friday, Saturday, or Sunday."
   ]
  },
  {
   "cell_type": "markdown",
   "metadata": {},
   "source": [
    "***Graph#1***"
   ]
  },
  {
   "cell_type": "code",
   "execution_count": 74,
   "metadata": {},
   "outputs": [
    {
     "data": {
      "text/plain": [
       "<seaborn.axisgrid.FacetGrid at 0x2a7765014c8>"
      ]
     },
     "execution_count": 74,
     "metadata": {},
     "output_type": "execute_result"
    },
    {
     "data": {
      "image/png": "[encoded data removed]",
      "text/plain": [
       "<Figure size 360x360 with 1 Axes>"
      ]
     },
     "metadata": {
      "needs_background": "light"
     },
     "output_type": "display_data"
    }
   ],
   "source": [
    "sns.lmplot(x=\"Season\", y=\"Fan_Attendance\", data=df)"
   ]
  },
  {
   "cell_type": "markdown",
   "metadata": {},
   "source": [
    "***Graph#2***"
   ]
  },
  {
   "cell_type": "code",
   "execution_count": 75,
   "metadata": {},
   "outputs": [
    {
     "data": {
      "text/plain": [
       "<seaborn.axisgrid.FacetGrid at 0x2a776576888>"
      ]
     },
     "execution_count": 75,
     "metadata": {},
     "output_type": "execute_result"
    },
    {
     "data": {
      "image/png": "[encoded data removed]",
      "text/plain": [
       "<Figure size 360x360 with 1 Axes>"
      ]
     },
     "metadata": {
      "needs_background": "light"
     },
     "output_type": "display_data"
    }
   ],
   "source": [
    "sns.lmplot(x=\"Day_of_Week\", y=\"Fan_Attendance\", data=df)"
   ]
  },
  {
   "cell_type": "markdown",
   "metadata": {},
   "source": [
    "### Conlusion #4"
   ]
  },
  {
   "cell_type": "code",
   "execution_count": 76,
   "metadata": {},
   "outputs": [
    {
     "name": "stdout",
     "output_type": "stream",
     "text": [
      "Accuracy: 0.7753721244925575\n",
      "Precision: 0.7794871794871795\n",
      "Recall: 0.7916666666666666\n"
     ]
    }
   ],
   "source": [
    "print(\"Accuracy:\",metrics.accuracy_score(yTest, y_pred))\n",
    "print(\"Precision:\",metrics.precision_score(yTest, y_pred))\n",
    "print(\"Recall:\",metrics.recall_score(yTest, y_pred))"
   ]
  },
  {
   "cell_type": "markdown",
   "metadata": {},
   "source": [
    "***Based off my accuracy rate of .81, it is safe to assume that my logisitc regression model is a good fit within the data***"
   ]
  },
  {
   "cell_type": "code",
   "execution_count": 77,
   "metadata": {},
   "outputs": [
    {
     "data": {
      "text/plain": [
       "Text(0.5, 257.44, 'Predicted')"
      ]
     },
     "execution_count": 77,
     "metadata": {},
     "output_type": "execute_result"
    },
    {
     "data": {
      "image/png": "[encoded data removed]",
      "text/plain": [
       "<Figure size 432x288 with 2 Axes>"
      ]
     },
     "metadata": {
      "needs_background": "light"
     },
     "output_type": "display_data"
    }
   ],
   "source": [
    "# import required modules\n",
    "import numpy as np\n",
    "import matplotlib.pyplot as plt\n",
    "import seaborn as sns\n",
    "%matplotlib inline\n",
    "\n",
    "class_names=[0,1] # name  of classes\n",
    "fig, ax = plt.subplots()\n",
    "tick_marks = np.arange(len(class_names))\n",
    "plt.xticks(tick_marks, class_names)\n",
    "plt.yticks(tick_marks, class_names)\n",
    "# create heatmap\n",
    "sns.heatmap(pd.DataFrame(cnf_matrix), annot=True, cmap=\"Blues\" ,fmt=\"\")\n",
    "ax.xaxis.set_label_position(\"top\")\n",
    "plt.tight_layout()\n",
    "plt.title('Confusion_Matrix', y=1)\n",
    "plt.ylabel('Actual')\n",
    "plt.xlabel('Predicted')"
   ]
  },
  {
   "cell_type": "markdown",
   "metadata": {},
   "source": [
    "***Based off the confusion matrix above, the model was able to predict 277 times a team won when they actually won and they were able to predict 221 times when a team loss when they actually lost.***\n",
    "\n",
    "***On the otherhand, 91 times the model predicted the the home_team to win when they actually lost, and 50 times the model predicted the home_team to lose when they actually win***\n",
    "\n",
    "***If I would be able to incorporate data from past MLB seasons, I beleive that my model would be a better fit and would laso have a higher accuracy and precision rate***"
   ]
  },
  {
   "cell_type": "markdown",
   "metadata": {},
   "source": []
  },
  {
   "cell_type": "code",
   "execution_count": 78,
   "metadata": {},
   "outputs": [
    {
     "name": "stderr",
     "output_type": "stream",
     "text": [
      "C:\\Users\\andre\\Anaconda3\\lib\\site-packages\\sklearn\\linear_model\\logistic.py:432: FutureWarning: Default solver will be changed to 'lbfgs' in 0.22. Specify a solver to silence this warning.\n",
      "  FutureWarning)\n"
     ]
    },
    {
     "ename": "ValueError",
     "evalue": "Found input variables with inconsistent numbers of samples: [1724, 739]",
     "output_type": "error",
     "traceback": [
      "\u001b[1;31m---------------------------------------------------------------------------\u001b[0m",
      "\u001b[1;31mValueError\u001b[0m                                Traceback (most recent call last)",
      "\u001b[1;32m<ipython-input-78-a3b0b1a9ebb7>\u001b[0m in \u001b[0;36m<module>\u001b[1;34m\u001b[0m\n\u001b[0;32m      8\u001b[0m \u001b[1;33m\u001b[0m\u001b[0m\n\u001b[0;32m      9\u001b[0m \u001b[1;33m\u001b[0m\u001b[0m\n\u001b[1;32m---> 10\u001b[1;33m \u001b[0mprint\u001b[0m\u001b[1;33m(\u001b[0m\u001b[0mclassification_report\u001b[0m\u001b[1;33m(\u001b[0m\u001b[0myTrain\u001b[0m\u001b[1;33m,\u001b[0m\u001b[0mpredictions\u001b[0m\u001b[1;33m)\u001b[0m\u001b[1;33m)\u001b[0m\u001b[1;33m\u001b[0m\u001b[1;33m\u001b[0m\u001b[0m\n\u001b[0m",
      "\u001b[1;32m~\\Anaconda3\\lib\\site-packages\\sklearn\\metrics\\classification.py\u001b[0m in \u001b[0;36mclassification_report\u001b[1;34m(y_true, y_pred, labels, target_names, sample_weight, digits, output_dict)\u001b[0m\n\u001b[0;32m   1850\u001b[0m     \"\"\"\n\u001b[0;32m   1851\u001b[0m \u001b[1;33m\u001b[0m\u001b[0m\n\u001b[1;32m-> 1852\u001b[1;33m     \u001b[0my_type\u001b[0m\u001b[1;33m,\u001b[0m \u001b[0my_true\u001b[0m\u001b[1;33m,\u001b[0m \u001b[0my_pred\u001b[0m \u001b[1;33m=\u001b[0m \u001b[0m_check_targets\u001b[0m\u001b[1;33m(\u001b[0m\u001b[0my_true\u001b[0m\u001b[1;33m,\u001b[0m \u001b[0my_pred\u001b[0m\u001b[1;33m)\u001b[0m\u001b[1;33m\u001b[0m\u001b[1;33m\u001b[0m\u001b[0m\n\u001b[0m\u001b[0;32m   1853\u001b[0m \u001b[1;33m\u001b[0m\u001b[0m\n\u001b[0;32m   1854\u001b[0m     \u001b[0mlabels_given\u001b[0m \u001b[1;33m=\u001b[0m \u001b[1;32mTrue\u001b[0m\u001b[1;33m\u001b[0m\u001b[1;33m\u001b[0m\u001b[0m\n",
      "\u001b[1;32m~\\Anaconda3\\lib\\site-packages\\sklearn\\metrics\\classification.py\u001b[0m in \u001b[0;36m_check_targets\u001b[1;34m(y_true, y_pred)\u001b[0m\n\u001b[0;32m     69\u001b[0m     \u001b[0my_pred\u001b[0m \u001b[1;33m:\u001b[0m \u001b[0marray\u001b[0m \u001b[1;32mor\u001b[0m \u001b[0mindicator\u001b[0m \u001b[0mmatrix\u001b[0m\u001b[1;33m\u001b[0m\u001b[1;33m\u001b[0m\u001b[0m\n\u001b[0;32m     70\u001b[0m     \"\"\"\n\u001b[1;32m---> 71\u001b[1;33m     \u001b[0mcheck_consistent_length\u001b[0m\u001b[1;33m(\u001b[0m\u001b[0my_true\u001b[0m\u001b[1;33m,\u001b[0m \u001b[0my_pred\u001b[0m\u001b[1;33m)\u001b[0m\u001b[1;33m\u001b[0m\u001b[1;33m\u001b[0m\u001b[0m\n\u001b[0m\u001b[0;32m     72\u001b[0m     \u001b[0mtype_true\u001b[0m \u001b[1;33m=\u001b[0m \u001b[0mtype_of_target\u001b[0m\u001b[1;33m(\u001b[0m\u001b[0my_true\u001b[0m\u001b[1;33m)\u001b[0m\u001b[1;33m\u001b[0m\u001b[1;33m\u001b[0m\u001b[0m\n\u001b[0;32m     73\u001b[0m     \u001b[0mtype_pred\u001b[0m \u001b[1;33m=\u001b[0m \u001b[0mtype_of_target\u001b[0m\u001b[1;33m(\u001b[0m\u001b[0my_pred\u001b[0m\u001b[1;33m)\u001b[0m\u001b[1;33m\u001b[0m\u001b[1;33m\u001b[0m\u001b[0m\n",
      "\u001b[1;32m~\\Anaconda3\\lib\\site-packages\\sklearn\\utils\\validation.py\u001b[0m in \u001b[0;36mcheck_consistent_length\u001b[1;34m(*arrays)\u001b[0m\n\u001b[0;32m    203\u001b[0m     \u001b[1;32mif\u001b[0m \u001b[0mlen\u001b[0m\u001b[1;33m(\u001b[0m\u001b[0muniques\u001b[0m\u001b[1;33m)\u001b[0m \u001b[1;33m>\u001b[0m \u001b[1;36m1\u001b[0m\u001b[1;33m:\u001b[0m\u001b[1;33m\u001b[0m\u001b[1;33m\u001b[0m\u001b[0m\n\u001b[0;32m    204\u001b[0m         raise ValueError(\"Found input variables with inconsistent numbers of\"\n\u001b[1;32m--> 205\u001b[1;33m                          \" samples: %r\" % [int(l) for l in lengths])\n\u001b[0m\u001b[0;32m    206\u001b[0m \u001b[1;33m\u001b[0m\u001b[0m\n\u001b[0;32m    207\u001b[0m \u001b[1;33m\u001b[0m\u001b[0m\n",
      "\u001b[1;31mValueError\u001b[0m: Found input variables with inconsistent numbers of samples: [1724, 739]"
     ]
    }
   ],
   "source": [
    "from sklearn.linear_model import LogisticRegression\n",
    "\n",
    "logmodel = LogisticRegression()\n",
    "logmodel.fit(xTrain,yTrain)\n",
    "predictions = logmodel.predict(xTest)\n",
    "\n",
    "from sklearn.metrics import classification_report\n",
    "\n",
    "\n",
    "print(classification_report(yTrain,predictions))"
   ]
  },
  {
   "cell_type": "code",
   "execution_count": null,
   "metadata": {},
   "outputs": [],
   "source": [
    "from sklearn.metrics import classification_report\n",
    "target_names = [\"home_team_errors\", \"home_team_hits\", \"home_team_runs\", \"game_hours_dec\"]\n",
    "print(classification_report(Updated_Data['Home_Team_Win'], y_pred))"
   ]
  },
  {
   "cell_type": "code",
   "execution_count": null,
   "metadata": {},
   "outputs": [],
   "source": [
    "from sklearn.linear_model import LogisticRegression \n",
    "from sklearn.metrics import accuracy_score \n",
    "\n",
    "logreg = LogisticRegression()\n",
    "\n",
    "logreg.fit(xTest, yTest)\n",
    "\n",
    "predicted_wins = model.predict(xTest)\n",
    "\n",
    "accuracy = accuracy_score(yTest,predicted_wins)\n",
    "\n",
    "parameters = model.coef_"
   ]
  }
 ],
 "metadata": {
  "kernelspec": {
   "display_name": "Python 3",
   "language": "python",
   "name": "python3"
  },
  "language_info": {
   "codemirror_mode": {
    "name": "ipython",
    "version": 3
   },
   "file_extension": ".py",
   "mimetype": "text/x-python",
   "name": "python",
   "nbconvert_exporter": "python",
   "pygments_lexer": "ipython3",
   "version": "3.7.4"
  }
 },
 "nbformat": 4,
 "nbformat_minor": 2
}
